{
 "cells": [
  {
   "cell_type": "markdown",
   "metadata": {},
   "source": [
    "# Write your first ML model\n",
    "\n",
    "Whether or not this is actually your first model, we are going to take a look at the\n",
    "famous MNIST data set of handwritten digits. We are going to use a few different ML libs for this."
   ]
  },
  {
   "cell_type": "markdown",
   "metadata": {},
   "source": [
    "## Notebook basics\n",
    "- Use Enter and Escpace to toggle in and out of cells.\n",
    "- When you are out you can use 'a' and 'b' to insert a new cell above or below.\n",
    "- Or you can delete a cell with 'dd'.\n",
    "- You can run the current cell with shift enter (works in both modes).\n",
    "- You may prefer alt enter which runs cell and creates a new cell after."
   ]
  },
  {
   "cell_type": "markdown",
   "metadata": {},
   "source": [
    "## H2O\n",
    "Let's start our journey by launching a local H2O cluster with one node."
   ]
  },
  {
   "cell_type": "code",
   "execution_count": null,
   "metadata": {
    "scrolled": false
   },
   "outputs": [],
   "source": [
    "import h2o\n",
    "h2o.init()"
   ]
  },
  {
   "cell_type": "markdown",
   "metadata": {},
   "source": [
    "## Cheats\n",
    "Run the cell below to enable skeletons, hints and cheats.\n",
    "To later use these run skeleton('id'), hint('id') or cheat('id') in any cell."
   ]
  },
  {
   "cell_type": "code",
   "execution_count": null,
   "metadata": {},
   "outputs": [],
   "source": [
    "from cheat import *"
   ]
  },
  {
   "cell_type": "markdown",
   "metadata": {},
   "source": [
    "### Exercise (t1w)\n",
    "\n",
    "Take a quick look at the output from h2o.init() above. Anything particularly interesting?"
   ]
  },
  {
   "cell_type": "markdown",
   "metadata": {},
   "source": [
    "### Exercise (i7b)\n",
    "\n",
    "It is time to import some data into our H2O cluster. There are two data files in\n",
    "the notebook workdirectory.\n",
    "- Find them and import them into H2O.\n",
    "- View your result X by putting X last in a cell and run the cell.\n",
    "- Run X.show() and display(X).\n",
    "- See if you can view X in the Flow UI."
   ]
  },
  {
   "cell_type": "code",
   "execution_count": 3,
   "metadata": {},
   "outputs": [
    {
     "name": "stdout",
     "output_type": "stream",
     "text": [
      "Parse progress: |█████████████████████████████████████████████████████████| 100%\n",
      "Parse progress: |█████████████████████████████████████████████████████████| 100%\n"
     ]
    }
   ],
   "source": [
    "test = h2o.import_file(\"data/mnist/mnist.test.csv.gz\")\n",
    "train = h2o.import_file(\"data/mnist/mnist.train.csv.gz\")"
   ]
  },
  {
   "cell_type": "markdown",
   "metadata": {},
   "source": [
    "### Exercise (2if)\n",
    "Find the target column of the two imported frames and convert its datatype to enum.\n",
    "The conversion is done by the 'asfactor' method. To select a column from a dataframe use square brackets df\\[...\\]. What goes between brackets can be a column name, number, or a list, however not all combinations will work when assigning columns."
   ]
  },
  {
   "cell_type": "code",
   "execution_count": 4,
   "metadata": {},
   "outputs": [],
   "source": [
    "train[-1] = train[-1].asfactor()\n",
    "test[-1] = test[-1].asfactor()"
   ]
  },
  {
   "cell_type": "markdown",
   "metadata": {},
   "source": [
    "### Exercise (ot5)\n",
    "\n",
    "Often one will split off a part of training data into a validation set.\n",
    "The validation set serves as a proxy for testing models 'in the wild'.\n",
    "Scores measured on the training set are not reliable as many algorithms produce\n",
    "perfect or near perfect training scores.\n",
    "Split the training frame into two parts: train (80% of rows) and valid (remaining 20%)."
   ]
  },
  {
   "cell_type": "code",
   "execution_count": 5,
   "metadata": {
    "scrolled": true
   },
   "outputs": [
    {
     "data": {
      "text/html": [
       "<table>\n",
       "<thead>\n",
       "<tr><th style=\"text-align: right;\">  C1</th><th style=\"text-align: right;\">  C2</th><th style=\"text-align: right;\">  C3</th><th style=\"text-align: right;\">  C4</th><th style=\"text-align: right;\">  C5</th><th style=\"text-align: right;\">  C6</th><th style=\"text-align: right;\">  C7</th><th style=\"text-align: right;\">  C8</th><th style=\"text-align: right;\">  C9</th><th style=\"text-align: right;\">  C10</th><th style=\"text-align: right;\">  C11</th><th style=\"text-align: right;\">  C12</th><th style=\"text-align: right;\">  C13</th><th style=\"text-align: right;\">  C14</th><th style=\"text-align: right;\">  C15</th><th style=\"text-align: right;\">  C16</th><th style=\"text-align: right;\">  C17</th><th style=\"text-align: right;\">  C18</th><th style=\"text-align: right;\">  C19</th><th style=\"text-align: right;\">  C20</th><th style=\"text-align: right;\">  C21</th><th style=\"text-align: right;\">  C22</th><th style=\"text-align: right;\">  C23</th><th style=\"text-align: right;\">  C24</th><th style=\"text-align: right;\">  C25</th><th style=\"text-align: right;\">  C26</th><th style=\"text-align: right;\">  C27</th><th style=\"text-align: right;\">  C28</th><th style=\"text-align: right;\">  C29</th><th style=\"text-align: right;\">  C30</th><th style=\"text-align: right;\">  C31</th><th style=\"text-align: right;\">  C32</th><th style=\"text-align: right;\">  C33</th><th style=\"text-align: right;\">  C34</th><th style=\"text-align: right;\">  C35</th><th style=\"text-align: right;\">  C36</th><th style=\"text-align: right;\">  C37</th><th style=\"text-align: right;\">  C38</th><th style=\"text-align: right;\">  C39</th><th style=\"text-align: right;\">  C40</th><th style=\"text-align: right;\">  C41</th><th style=\"text-align: right;\">  C42</th><th style=\"text-align: right;\">  C43</th><th style=\"text-align: right;\">  C44</th><th style=\"text-align: right;\">  C45</th><th style=\"text-align: right;\">  C46</th><th style=\"text-align: right;\">  C47</th><th style=\"text-align: right;\">  C48</th><th style=\"text-align: right;\">  C49</th><th style=\"text-align: right;\">  C50</th><th style=\"text-align: right;\">  C51</th><th style=\"text-align: right;\">  C52</th><th style=\"text-align: right;\">  C53</th><th style=\"text-align: right;\">  C54</th><th style=\"text-align: right;\">  C55</th><th style=\"text-align: right;\">  C56</th><th style=\"text-align: right;\">  C57</th><th style=\"text-align: right;\">  C58</th><th style=\"text-align: right;\">  C59</th><th style=\"text-align: right;\">  C60</th><th style=\"text-align: right;\">  C61</th><th style=\"text-align: right;\">  C62</th><th style=\"text-align: right;\">  C63</th><th style=\"text-align: right;\">  C64</th><th style=\"text-align: right;\">  C65</th><th style=\"text-align: right;\">  C66</th><th style=\"text-align: right;\">  C67</th><th style=\"text-align: right;\">  C68</th><th style=\"text-align: right;\">  C69</th><th style=\"text-align: right;\">  C70</th><th style=\"text-align: right;\">  C71</th><th style=\"text-align: right;\">  C72</th><th style=\"text-align: right;\">  C73</th><th style=\"text-align: right;\">  C74</th><th style=\"text-align: right;\">  C75</th><th style=\"text-align: right;\">  C76</th><th style=\"text-align: right;\">  C77</th><th style=\"text-align: right;\">  C78</th><th style=\"text-align: right;\">  C79</th><th style=\"text-align: right;\">  C80</th><th style=\"text-align: right;\">  C81</th><th style=\"text-align: right;\">  C82</th><th style=\"text-align: right;\">  C83</th><th style=\"text-align: right;\">  C84</th><th style=\"text-align: right;\">  C85</th><th style=\"text-align: right;\">  C86</th><th style=\"text-align: right;\">  C87</th><th style=\"text-align: right;\">  C88</th><th style=\"text-align: right;\">  C89</th><th style=\"text-align: right;\">  C90</th><th style=\"text-align: right;\">  C91</th><th style=\"text-align: right;\">  C92</th><th style=\"text-align: right;\">  C93</th><th style=\"text-align: right;\">  C94</th><th style=\"text-align: right;\">  C95</th><th style=\"text-align: right;\">  C96</th><th style=\"text-align: right;\">  C97</th><th style=\"text-align: right;\">  C98</th><th style=\"text-align: right;\">  C99</th><th style=\"text-align: right;\">  C100</th><th style=\"text-align: right;\">  C101</th><th style=\"text-align: right;\">  C102</th><th style=\"text-align: right;\">  C103</th><th style=\"text-align: right;\">  C104</th><th style=\"text-align: right;\">  C105</th><th style=\"text-align: right;\">  C106</th><th style=\"text-align: right;\">  C107</th><th style=\"text-align: right;\">  C108</th><th style=\"text-align: right;\">  C109</th><th style=\"text-align: right;\">  C110</th><th style=\"text-align: right;\">  C111</th><th style=\"text-align: right;\">  C112</th><th style=\"text-align: right;\">  C113</th><th style=\"text-align: right;\">  C114</th><th style=\"text-align: right;\">  C115</th><th style=\"text-align: right;\">  C116</th><th style=\"text-align: right;\">  C117</th><th style=\"text-align: right;\">  C118</th><th style=\"text-align: right;\">  C119</th><th style=\"text-align: right;\">  C120</th><th style=\"text-align: right;\">  C121</th><th style=\"text-align: right;\">  C122</th><th style=\"text-align: right;\">  C123</th><th style=\"text-align: right;\">  C124</th><th style=\"text-align: right;\">  C125</th><th style=\"text-align: right;\">  C126</th><th style=\"text-align: right;\">  C127</th><th style=\"text-align: right;\">  C128</th><th style=\"text-align: right;\">  C129</th><th style=\"text-align: right;\">  C130</th><th style=\"text-align: right;\">  C131</th><th style=\"text-align: right;\">  C132</th><th style=\"text-align: right;\">  C133</th><th style=\"text-align: right;\">  C134</th><th style=\"text-align: right;\">  C135</th><th style=\"text-align: right;\">  C136</th><th style=\"text-align: right;\">  C137</th><th style=\"text-align: right;\">  C138</th><th style=\"text-align: right;\">  C139</th><th style=\"text-align: right;\">  C140</th><th style=\"text-align: right;\">  C141</th><th style=\"text-align: right;\">  C142</th><th style=\"text-align: right;\">  C143</th><th style=\"text-align: right;\">  C144</th><th style=\"text-align: right;\">  C145</th><th style=\"text-align: right;\">  C146</th><th style=\"text-align: right;\">  C147</th><th style=\"text-align: right;\">  C148</th><th style=\"text-align: right;\">  C149</th><th style=\"text-align: right;\">  C150</th><th style=\"text-align: right;\">  C151</th><th style=\"text-align: right;\">  C152</th><th style=\"text-align: right;\">  C153</th><th style=\"text-align: right;\">  C154</th><th style=\"text-align: right;\">  C155</th><th style=\"text-align: right;\">  C156</th><th style=\"text-align: right;\">  C157</th><th style=\"text-align: right;\">  C158</th><th style=\"text-align: right;\">  C159</th><th style=\"text-align: right;\">  C160</th><th style=\"text-align: right;\">  C161</th><th style=\"text-align: right;\">  C162</th><th style=\"text-align: right;\">  C163</th><th style=\"text-align: right;\">  C164</th><th style=\"text-align: right;\">  C165</th><th style=\"text-align: right;\">  C166</th><th style=\"text-align: right;\">  C167</th><th style=\"text-align: right;\">  C168</th><th style=\"text-align: right;\">  C169</th><th style=\"text-align: right;\">  C170</th><th style=\"text-align: right;\">  C171</th><th style=\"text-align: right;\">  C172</th><th style=\"text-align: right;\">  C173</th><th style=\"text-align: right;\">  C174</th><th style=\"text-align: right;\">  C175</th><th style=\"text-align: right;\">  C176</th><th style=\"text-align: right;\">  C177</th><th style=\"text-align: right;\">  C178</th><th style=\"text-align: right;\">  C179</th><th style=\"text-align: right;\">  C180</th><th style=\"text-align: right;\">  C181</th><th style=\"text-align: right;\">  C182</th><th style=\"text-align: right;\">  C183</th><th style=\"text-align: right;\">  C184</th><th style=\"text-align: right;\">  C185</th><th style=\"text-align: right;\">  C186</th><th style=\"text-align: right;\">  C187</th><th style=\"text-align: right;\">  C188</th><th style=\"text-align: right;\">  C189</th><th style=\"text-align: right;\">  C190</th><th style=\"text-align: right;\">  C191</th><th style=\"text-align: right;\">  C192</th><th style=\"text-align: right;\">  C193</th><th style=\"text-align: right;\">  C194</th><th style=\"text-align: right;\">  C195</th><th style=\"text-align: right;\">  C196</th><th style=\"text-align: right;\">  C197</th><th style=\"text-align: right;\">  C198</th><th style=\"text-align: right;\">  C199</th><th style=\"text-align: right;\">  C200</th></tr>\n",
       "</thead>\n",
       "<tbody>\n",
       "<tr><td style=\"text-align: right;\">   0</td><td style=\"text-align: right;\">   0</td><td style=\"text-align: right;\">   0</td><td style=\"text-align: right;\">   0</td><td style=\"text-align: right;\">   0</td><td style=\"text-align: right;\">   0</td><td style=\"text-align: right;\">   0</td><td style=\"text-align: right;\">   0</td><td style=\"text-align: right;\">   0</td><td style=\"text-align: right;\">    0</td><td style=\"text-align: right;\">    0</td><td style=\"text-align: right;\">    0</td><td style=\"text-align: right;\">    0</td><td style=\"text-align: right;\">    0</td><td style=\"text-align: right;\">    0</td><td style=\"text-align: right;\">    0</td><td style=\"text-align: right;\">    0</td><td style=\"text-align: right;\">    0</td><td style=\"text-align: right;\">    0</td><td style=\"text-align: right;\">    0</td><td style=\"text-align: right;\">    0</td><td style=\"text-align: right;\">    0</td><td style=\"text-align: right;\">    0</td><td style=\"text-align: right;\">    0</td><td style=\"text-align: right;\">    0</td><td style=\"text-align: right;\">    0</td><td style=\"text-align: right;\">    0</td><td style=\"text-align: right;\">    0</td><td style=\"text-align: right;\">    0</td><td style=\"text-align: right;\">    0</td><td style=\"text-align: right;\">    0</td><td style=\"text-align: right;\">    0</td><td style=\"text-align: right;\">    0</td><td style=\"text-align: right;\">    0</td><td style=\"text-align: right;\">    0</td><td style=\"text-align: right;\">    0</td><td style=\"text-align: right;\">    0</td><td style=\"text-align: right;\">    0</td><td style=\"text-align: right;\">    0</td><td style=\"text-align: right;\">    0</td><td style=\"text-align: right;\">    0</td><td style=\"text-align: right;\">    0</td><td style=\"text-align: right;\">    0</td><td style=\"text-align: right;\">    0</td><td style=\"text-align: right;\">    0</td><td style=\"text-align: right;\">    0</td><td style=\"text-align: right;\">    0</td><td style=\"text-align: right;\">    0</td><td style=\"text-align: right;\">    0</td><td style=\"text-align: right;\">    0</td><td style=\"text-align: right;\">    0</td><td style=\"text-align: right;\">    0</td><td style=\"text-align: right;\">    0</td><td style=\"text-align: right;\">    0</td><td style=\"text-align: right;\">    0</td><td style=\"text-align: right;\">    0</td><td style=\"text-align: right;\">    0</td><td style=\"text-align: right;\">    0</td><td style=\"text-align: right;\">    0</td><td style=\"text-align: right;\">    0</td><td style=\"text-align: right;\">    0</td><td style=\"text-align: right;\">    0</td><td style=\"text-align: right;\">    0</td><td style=\"text-align: right;\">    0</td><td style=\"text-align: right;\">    0</td><td style=\"text-align: right;\">    0</td><td style=\"text-align: right;\">    0</td><td style=\"text-align: right;\">    0</td><td style=\"text-align: right;\">    0</td><td style=\"text-align: right;\">    0</td><td style=\"text-align: right;\">    0</td><td style=\"text-align: right;\">    0</td><td style=\"text-align: right;\">    0</td><td style=\"text-align: right;\">    0</td><td style=\"text-align: right;\">    0</td><td style=\"text-align: right;\">    0</td><td style=\"text-align: right;\">    0</td><td style=\"text-align: right;\">    0</td><td style=\"text-align: right;\">    0</td><td style=\"text-align: right;\">    0</td><td style=\"text-align: right;\">    0</td><td style=\"text-align: right;\">    0</td><td style=\"text-align: right;\">    0</td><td style=\"text-align: right;\">    0</td><td style=\"text-align: right;\">    0</td><td style=\"text-align: right;\">    0</td><td style=\"text-align: right;\">    0</td><td style=\"text-align: right;\">    0</td><td style=\"text-align: right;\">    0</td><td style=\"text-align: right;\">    0</td><td style=\"text-align: right;\">    0</td><td style=\"text-align: right;\">    0</td><td style=\"text-align: right;\">    0</td><td style=\"text-align: right;\">    0</td><td style=\"text-align: right;\">    0</td><td style=\"text-align: right;\">    0</td><td style=\"text-align: right;\">    0</td><td style=\"text-align: right;\">   77</td><td style=\"text-align: right;\">  133</td><td style=\"text-align: right;\">   151</td><td style=\"text-align: right;\">   254</td><td style=\"text-align: right;\">   254</td><td style=\"text-align: right;\">   220</td><td style=\"text-align: right;\">    93</td><td style=\"text-align: right;\">     2</td><td style=\"text-align: right;\">     0</td><td style=\"text-align: right;\">     0</td><td style=\"text-align: right;\">     0</td><td style=\"text-align: right;\">     0</td><td style=\"text-align: right;\">     0</td><td style=\"text-align: right;\">     0</td><td style=\"text-align: right;\">     0</td><td style=\"text-align: right;\">     0</td><td style=\"text-align: right;\">     0</td><td style=\"text-align: right;\">     0</td><td style=\"text-align: right;\">     0</td><td style=\"text-align: right;\">     0</td><td style=\"text-align: right;\">     0</td><td style=\"text-align: right;\">     0</td><td style=\"text-align: right;\">     0</td><td style=\"text-align: right;\">     0</td><td style=\"text-align: right;\">     0</td><td style=\"text-align: right;\">     0</td><td style=\"text-align: right;\">    11</td><td style=\"text-align: right;\">    83</td><td style=\"text-align: right;\">   254</td><td style=\"text-align: right;\">   253</td><td style=\"text-align: right;\">   253</td><td style=\"text-align: right;\">   253</td><td style=\"text-align: right;\">   253</td><td style=\"text-align: right;\">   253</td><td style=\"text-align: right;\">   253</td><td style=\"text-align: right;\">    47</td><td style=\"text-align: right;\">     0</td><td style=\"text-align: right;\">     0</td><td style=\"text-align: right;\">     0</td><td style=\"text-align: right;\">     0</td><td style=\"text-align: right;\">     0</td><td style=\"text-align: right;\">     0</td><td style=\"text-align: right;\">     0</td><td style=\"text-align: right;\">     0</td><td style=\"text-align: right;\">     0</td><td style=\"text-align: right;\">     0</td><td style=\"text-align: right;\">     0</td><td style=\"text-align: right;\">     0</td><td style=\"text-align: right;\">     0</td><td style=\"text-align: right;\">     0</td><td style=\"text-align: right;\">     0</td><td style=\"text-align: right;\">     0</td><td style=\"text-align: right;\">     0</td><td style=\"text-align: right;\">     0</td><td style=\"text-align: right;\">   110</td><td style=\"text-align: right;\">   253</td><td style=\"text-align: right;\">   254</td><td style=\"text-align: right;\">   253</td><td style=\"text-align: right;\">   253</td><td style=\"text-align: right;\">   253</td><td style=\"text-align: right;\">   253</td><td style=\"text-align: right;\">   253</td><td style=\"text-align: right;\">   253</td><td style=\"text-align: right;\">   170</td><td style=\"text-align: right;\">     4</td><td style=\"text-align: right;\">     0</td><td style=\"text-align: right;\">     0</td><td style=\"text-align: right;\">     0</td><td style=\"text-align: right;\">     0</td><td style=\"text-align: right;\">     0</td><td style=\"text-align: right;\">     0</td><td style=\"text-align: right;\">     0</td><td style=\"text-align: right;\">     0</td><td style=\"text-align: right;\">     0</td><td style=\"text-align: right;\">     0</td><td style=\"text-align: right;\">     0</td><td style=\"text-align: right;\">     0</td><td style=\"text-align: right;\">     0</td><td style=\"text-align: right;\">     0</td><td style=\"text-align: right;\">     0</td><td style=\"text-align: right;\">     0</td><td style=\"text-align: right;\">     0</td><td style=\"text-align: right;\">   110</td><td style=\"text-align: right;\">   253</td><td style=\"text-align: right;\">   254</td><td style=\"text-align: right;\">   253</td><td style=\"text-align: right;\">   206</td><td style=\"text-align: right;\">    84</td><td style=\"text-align: right;\">   170</td><td style=\"text-align: right;\">   242</td><td style=\"text-align: right;\">   253</td><td style=\"text-align: right;\">   253</td><td style=\"text-align: right;\">    24</td><td style=\"text-align: right;\">     0</td><td style=\"text-align: right;\">     0</td><td style=\"text-align: right;\">     0</td><td style=\"text-align: right;\">     0</td><td style=\"text-align: right;\">     0</td><td style=\"text-align: right;\">     0</td><td style=\"text-align: right;\">     0</td><td style=\"text-align: right;\">     0</td><td style=\"text-align: right;\">     0</td><td style=\"text-align: right;\">     0</td></tr>\n",
       "<tr><td style=\"text-align: right;\">   0</td><td style=\"text-align: right;\">   0</td><td style=\"text-align: right;\">   0</td><td style=\"text-align: right;\">   0</td><td style=\"text-align: right;\">   0</td><td style=\"text-align: right;\">   0</td><td style=\"text-align: right;\">   0</td><td style=\"text-align: right;\">   0</td><td style=\"text-align: right;\">   0</td><td style=\"text-align: right;\">    0</td><td style=\"text-align: right;\">    0</td><td style=\"text-align: right;\">    0</td><td style=\"text-align: right;\">    0</td><td style=\"text-align: right;\">    0</td><td style=\"text-align: right;\">    0</td><td style=\"text-align: right;\">    0</td><td style=\"text-align: right;\">    0</td><td style=\"text-align: right;\">    0</td><td style=\"text-align: right;\">    0</td><td style=\"text-align: right;\">    0</td><td style=\"text-align: right;\">    0</td><td style=\"text-align: right;\">    0</td><td style=\"text-align: right;\">    0</td><td style=\"text-align: right;\">    0</td><td style=\"text-align: right;\">    0</td><td style=\"text-align: right;\">    0</td><td style=\"text-align: right;\">    0</td><td style=\"text-align: right;\">    0</td><td style=\"text-align: right;\">    0</td><td style=\"text-align: right;\">    0</td><td style=\"text-align: right;\">    0</td><td style=\"text-align: right;\">    0</td><td style=\"text-align: right;\">    0</td><td style=\"text-align: right;\">    0</td><td style=\"text-align: right;\">    0</td><td style=\"text-align: right;\">    0</td><td style=\"text-align: right;\">    0</td><td style=\"text-align: right;\">    0</td><td style=\"text-align: right;\">    0</td><td style=\"text-align: right;\">    0</td><td style=\"text-align: right;\">    0</td><td style=\"text-align: right;\">    0</td><td style=\"text-align: right;\">    0</td><td style=\"text-align: right;\">    0</td><td style=\"text-align: right;\">    0</td><td style=\"text-align: right;\">    0</td><td style=\"text-align: right;\">    0</td><td style=\"text-align: right;\">    0</td><td style=\"text-align: right;\">    0</td><td style=\"text-align: right;\">    0</td><td style=\"text-align: right;\">    0</td><td style=\"text-align: right;\">    0</td><td style=\"text-align: right;\">    0</td><td style=\"text-align: right;\">    0</td><td style=\"text-align: right;\">    0</td><td style=\"text-align: right;\">    0</td><td style=\"text-align: right;\">    0</td><td style=\"text-align: right;\">    0</td><td style=\"text-align: right;\">    0</td><td style=\"text-align: right;\">    0</td><td style=\"text-align: right;\">    0</td><td style=\"text-align: right;\">    0</td><td style=\"text-align: right;\">    0</td><td style=\"text-align: right;\">    0</td><td style=\"text-align: right;\">    0</td><td style=\"text-align: right;\">    0</td><td style=\"text-align: right;\">    0</td><td style=\"text-align: right;\">    0</td><td style=\"text-align: right;\">    0</td><td style=\"text-align: right;\">    0</td><td style=\"text-align: right;\">    0</td><td style=\"text-align: right;\">    0</td><td style=\"text-align: right;\">    0</td><td style=\"text-align: right;\">    0</td><td style=\"text-align: right;\">    0</td><td style=\"text-align: right;\">    0</td><td style=\"text-align: right;\">    0</td><td style=\"text-align: right;\">    0</td><td style=\"text-align: right;\">    0</td><td style=\"text-align: right;\">    0</td><td style=\"text-align: right;\">    0</td><td style=\"text-align: right;\">    0</td><td style=\"text-align: right;\">    0</td><td style=\"text-align: right;\">    0</td><td style=\"text-align: right;\">    0</td><td style=\"text-align: right;\">    0</td><td style=\"text-align: right;\">    0</td><td style=\"text-align: right;\">    0</td><td style=\"text-align: right;\">    0</td><td style=\"text-align: right;\">    0</td><td style=\"text-align: right;\">    0</td><td style=\"text-align: right;\">    0</td><td style=\"text-align: right;\">    0</td><td style=\"text-align: right;\">    0</td><td style=\"text-align: right;\">    0</td><td style=\"text-align: right;\">    0</td><td style=\"text-align: right;\">    0</td><td style=\"text-align: right;\">    0</td><td style=\"text-align: right;\">    0</td><td style=\"text-align: right;\">     0</td><td style=\"text-align: right;\">     0</td><td style=\"text-align: right;\">     0</td><td style=\"text-align: right;\">     0</td><td style=\"text-align: right;\">     0</td><td style=\"text-align: right;\">     0</td><td style=\"text-align: right;\">     0</td><td style=\"text-align: right;\">     0</td><td style=\"text-align: right;\">     0</td><td style=\"text-align: right;\">     0</td><td style=\"text-align: right;\">     0</td><td style=\"text-align: right;\">     0</td><td style=\"text-align: right;\">     0</td><td style=\"text-align: right;\">     0</td><td style=\"text-align: right;\">     0</td><td style=\"text-align: right;\">     0</td><td style=\"text-align: right;\">     0</td><td style=\"text-align: right;\">     0</td><td style=\"text-align: right;\">     0</td><td style=\"text-align: right;\">     0</td><td style=\"text-align: right;\">     0</td><td style=\"text-align: right;\">     0</td><td style=\"text-align: right;\">     0</td><td style=\"text-align: right;\">     0</td><td style=\"text-align: right;\">     0</td><td style=\"text-align: right;\">     0</td><td style=\"text-align: right;\">     0</td><td style=\"text-align: right;\">     0</td><td style=\"text-align: right;\">     0</td><td style=\"text-align: right;\">     0</td><td style=\"text-align: right;\">     0</td><td style=\"text-align: right;\">     0</td><td style=\"text-align: right;\">     0</td><td style=\"text-align: right;\">     0</td><td style=\"text-align: right;\">     0</td><td style=\"text-align: right;\">     0</td><td style=\"text-align: right;\">     0</td><td style=\"text-align: right;\">     0</td><td style=\"text-align: right;\">     0</td><td style=\"text-align: right;\">     0</td><td style=\"text-align: right;\">     0</td><td style=\"text-align: right;\">     0</td><td style=\"text-align: right;\">     0</td><td style=\"text-align: right;\">     0</td><td style=\"text-align: right;\">     0</td><td style=\"text-align: right;\">     0</td><td style=\"text-align: right;\">     0</td><td style=\"text-align: right;\">     0</td><td style=\"text-align: right;\">     0</td><td style=\"text-align: right;\">     0</td><td style=\"text-align: right;\">     0</td><td style=\"text-align: right;\">     0</td><td style=\"text-align: right;\">     0</td><td style=\"text-align: right;\">     0</td><td style=\"text-align: right;\">   211</td><td style=\"text-align: right;\">   254</td><td style=\"text-align: right;\">   254</td><td style=\"text-align: right;\">   254</td><td style=\"text-align: right;\">   254</td><td style=\"text-align: right;\">   255</td><td style=\"text-align: right;\">   223</td><td style=\"text-align: right;\">   141</td><td style=\"text-align: right;\">    14</td><td style=\"text-align: right;\">     0</td><td style=\"text-align: right;\">     0</td><td style=\"text-align: right;\">     0</td><td style=\"text-align: right;\">     0</td><td style=\"text-align: right;\">     0</td><td style=\"text-align: right;\">     0</td><td style=\"text-align: right;\">     0</td><td style=\"text-align: right;\">     0</td><td style=\"text-align: right;\">     0</td><td style=\"text-align: right;\">     0</td><td style=\"text-align: right;\">     0</td><td style=\"text-align: right;\">     0</td><td style=\"text-align: right;\">     0</td><td style=\"text-align: right;\">     0</td><td style=\"text-align: right;\">     0</td><td style=\"text-align: right;\">     0</td><td style=\"text-align: right;\">     0</td><td style=\"text-align: right;\">     0</td><td style=\"text-align: right;\">     0</td><td style=\"text-align: right;\">   249</td><td style=\"text-align: right;\">   253</td><td style=\"text-align: right;\">   253</td><td style=\"text-align: right;\">   253</td><td style=\"text-align: right;\">   253</td><td style=\"text-align: right;\">   253</td><td style=\"text-align: right;\">   253</td><td style=\"text-align: right;\">   253</td><td style=\"text-align: right;\">    64</td><td style=\"text-align: right;\">     0</td><td style=\"text-align: right;\">     0</td><td style=\"text-align: right;\">     0</td><td style=\"text-align: right;\">     0</td><td style=\"text-align: right;\">     0</td><td style=\"text-align: right;\">     0</td><td style=\"text-align: right;\">     0</td><td style=\"text-align: right;\">     0</td><td style=\"text-align: right;\">     0</td><td style=\"text-align: right;\">     0</td></tr>\n",
       "<tr><td style=\"text-align: right;\">   0</td><td style=\"text-align: right;\">   0</td><td style=\"text-align: right;\">   0</td><td style=\"text-align: right;\">   0</td><td style=\"text-align: right;\">   0</td><td style=\"text-align: right;\">   0</td><td style=\"text-align: right;\">   0</td><td style=\"text-align: right;\">   0</td><td style=\"text-align: right;\">   0</td><td style=\"text-align: right;\">    0</td><td style=\"text-align: right;\">    0</td><td style=\"text-align: right;\">    0</td><td style=\"text-align: right;\">    0</td><td style=\"text-align: right;\">    0</td><td style=\"text-align: right;\">    0</td><td style=\"text-align: right;\">    0</td><td style=\"text-align: right;\">    0</td><td style=\"text-align: right;\">    0</td><td style=\"text-align: right;\">    0</td><td style=\"text-align: right;\">    0</td><td style=\"text-align: right;\">    0</td><td style=\"text-align: right;\">    0</td><td style=\"text-align: right;\">    0</td><td style=\"text-align: right;\">    0</td><td style=\"text-align: right;\">    0</td><td style=\"text-align: right;\">    0</td><td style=\"text-align: right;\">    0</td><td style=\"text-align: right;\">    0</td><td style=\"text-align: right;\">    0</td><td style=\"text-align: right;\">    0</td><td style=\"text-align: right;\">    0</td><td style=\"text-align: right;\">    0</td><td style=\"text-align: right;\">    0</td><td style=\"text-align: right;\">    0</td><td style=\"text-align: right;\">    0</td><td style=\"text-align: right;\">    0</td><td style=\"text-align: right;\">    0</td><td style=\"text-align: right;\">    0</td><td style=\"text-align: right;\">    0</td><td style=\"text-align: right;\">    0</td><td style=\"text-align: right;\">    0</td><td style=\"text-align: right;\">    0</td><td style=\"text-align: right;\">    0</td><td style=\"text-align: right;\">    0</td><td style=\"text-align: right;\">    0</td><td style=\"text-align: right;\">    0</td><td style=\"text-align: right;\">    0</td><td style=\"text-align: right;\">    0</td><td style=\"text-align: right;\">    0</td><td style=\"text-align: right;\">    0</td><td style=\"text-align: right;\">    0</td><td style=\"text-align: right;\">    0</td><td style=\"text-align: right;\">    0</td><td style=\"text-align: right;\">    0</td><td style=\"text-align: right;\">    0</td><td style=\"text-align: right;\">    0</td><td style=\"text-align: right;\">    0</td><td style=\"text-align: right;\">    0</td><td style=\"text-align: right;\">    0</td><td style=\"text-align: right;\">    0</td><td style=\"text-align: right;\">    0</td><td style=\"text-align: right;\">    0</td><td style=\"text-align: right;\">    0</td><td style=\"text-align: right;\">    0</td><td style=\"text-align: right;\">    0</td><td style=\"text-align: right;\">    0</td><td style=\"text-align: right;\">    0</td><td style=\"text-align: right;\">    0</td><td style=\"text-align: right;\">    0</td><td style=\"text-align: right;\">    0</td><td style=\"text-align: right;\">    0</td><td style=\"text-align: right;\">    0</td><td style=\"text-align: right;\">    0</td><td style=\"text-align: right;\">    0</td><td style=\"text-align: right;\">    0</td><td style=\"text-align: right;\">    0</td><td style=\"text-align: right;\">    0</td><td style=\"text-align: right;\">    0</td><td style=\"text-align: right;\">    0</td><td style=\"text-align: right;\">    0</td><td style=\"text-align: right;\">    0</td><td style=\"text-align: right;\">    0</td><td style=\"text-align: right;\">    0</td><td style=\"text-align: right;\">    0</td><td style=\"text-align: right;\">    0</td><td style=\"text-align: right;\">    0</td><td style=\"text-align: right;\">    0</td><td style=\"text-align: right;\">    0</td><td style=\"text-align: right;\">    0</td><td style=\"text-align: right;\">    0</td><td style=\"text-align: right;\">    0</td><td style=\"text-align: right;\">    0</td><td style=\"text-align: right;\">    0</td><td style=\"text-align: right;\">    0</td><td style=\"text-align: right;\">    0</td><td style=\"text-align: right;\">    0</td><td style=\"text-align: right;\">    5</td><td style=\"text-align: right;\">   13</td><td style=\"text-align: right;\">  185</td><td style=\"text-align: right;\">   197</td><td style=\"text-align: right;\">   253</td><td style=\"text-align: right;\">   253</td><td style=\"text-align: right;\">    84</td><td style=\"text-align: right;\">     0</td><td style=\"text-align: right;\">     0</td><td style=\"text-align: right;\">     0</td><td style=\"text-align: right;\">     0</td><td style=\"text-align: right;\">     0</td><td style=\"text-align: right;\">     0</td><td style=\"text-align: right;\">     0</td><td style=\"text-align: right;\">     0</td><td style=\"text-align: right;\">     0</td><td style=\"text-align: right;\">     0</td><td style=\"text-align: right;\">     0</td><td style=\"text-align: right;\">     0</td><td style=\"text-align: right;\">     0</td><td style=\"text-align: right;\">     0</td><td style=\"text-align: right;\">     0</td><td style=\"text-align: right;\">     0</td><td style=\"text-align: right;\">     0</td><td style=\"text-align: right;\">     0</td><td style=\"text-align: right;\">     0</td><td style=\"text-align: right;\">     0</td><td style=\"text-align: right;\">     0</td><td style=\"text-align: right;\">   109</td><td style=\"text-align: right;\">   252</td><td style=\"text-align: right;\">   252</td><td style=\"text-align: right;\">   253</td><td style=\"text-align: right;\">   252</td><td style=\"text-align: right;\">   252</td><td style=\"text-align: right;\">    84</td><td style=\"text-align: right;\">     0</td><td style=\"text-align: right;\">     0</td><td style=\"text-align: right;\">     0</td><td style=\"text-align: right;\">     0</td><td style=\"text-align: right;\">     0</td><td style=\"text-align: right;\">     0</td><td style=\"text-align: right;\">     0</td><td style=\"text-align: right;\">     0</td><td style=\"text-align: right;\">     0</td><td style=\"text-align: right;\">     0</td><td style=\"text-align: right;\">     0</td><td style=\"text-align: right;\">     0</td><td style=\"text-align: right;\">     0</td><td style=\"text-align: right;\">     0</td><td style=\"text-align: right;\">     0</td><td style=\"text-align: right;\">     0</td><td style=\"text-align: right;\">     0</td><td style=\"text-align: right;\">     0</td><td style=\"text-align: right;\">     0</td><td style=\"text-align: right;\">     0</td><td style=\"text-align: right;\">   128</td><td style=\"text-align: right;\">   239</td><td style=\"text-align: right;\">   252</td><td style=\"text-align: right;\">   252</td><td style=\"text-align: right;\">   253</td><td style=\"text-align: right;\">   231</td><td style=\"text-align: right;\">   141</td><td style=\"text-align: right;\">    32</td><td style=\"text-align: right;\">     0</td><td style=\"text-align: right;\">     0</td><td style=\"text-align: right;\">     0</td><td style=\"text-align: right;\">     0</td><td style=\"text-align: right;\">     0</td><td style=\"text-align: right;\">     0</td><td style=\"text-align: right;\">     0</td><td style=\"text-align: right;\">     0</td><td style=\"text-align: right;\">     0</td><td style=\"text-align: right;\">     0</td><td style=\"text-align: right;\">     0</td><td style=\"text-align: right;\">     0</td><td style=\"text-align: right;\">     0</td><td style=\"text-align: right;\">     0</td><td style=\"text-align: right;\">     0</td><td style=\"text-align: right;\">     0</td><td style=\"text-align: right;\">     0</td><td style=\"text-align: right;\">     0</td><td style=\"text-align: right;\">     0</td><td style=\"text-align: right;\">    14</td><td style=\"text-align: right;\">   214</td><td style=\"text-align: right;\">   252</td><td style=\"text-align: right;\">   252</td><td style=\"text-align: right;\">   206</td><td style=\"text-align: right;\">   222</td><td style=\"text-align: right;\">    36</td><td style=\"text-align: right;\">     0</td><td style=\"text-align: right;\">     0</td><td style=\"text-align: right;\">     0</td><td style=\"text-align: right;\">     0</td><td style=\"text-align: right;\">     0</td><td style=\"text-align: right;\">     0</td><td style=\"text-align: right;\">     0</td><td style=\"text-align: right;\">     0</td><td style=\"text-align: right;\">     0</td><td style=\"text-align: right;\">     0</td><td style=\"text-align: right;\">     0</td><td style=\"text-align: right;\">     0</td><td style=\"text-align: right;\">     0</td><td style=\"text-align: right;\">     0</td><td style=\"text-align: right;\">     0</td></tr>\n",
       "</tbody>\n",
       "</table>"
      ]
     },
     "metadata": {},
     "output_type": "display_data"
    },
    {
     "data": {
      "text/plain": []
     },
     "metadata": {},
     "output_type": "display_data"
    },
    {
     "data": {
      "text/html": [
       "<table>\n",
       "<thead>\n",
       "<tr><th style=\"text-align: right;\">  C1</th><th style=\"text-align: right;\">  C2</th><th style=\"text-align: right;\">  C3</th><th style=\"text-align: right;\">  C4</th><th style=\"text-align: right;\">  C5</th><th style=\"text-align: right;\">  C6</th><th style=\"text-align: right;\">  C7</th><th style=\"text-align: right;\">  C8</th><th style=\"text-align: right;\">  C9</th><th style=\"text-align: right;\">  C10</th><th style=\"text-align: right;\">  C11</th><th style=\"text-align: right;\">  C12</th><th style=\"text-align: right;\">  C13</th><th style=\"text-align: right;\">  C14</th><th style=\"text-align: right;\">  C15</th><th style=\"text-align: right;\">  C16</th><th style=\"text-align: right;\">  C17</th><th style=\"text-align: right;\">  C18</th><th style=\"text-align: right;\">  C19</th><th style=\"text-align: right;\">  C20</th><th style=\"text-align: right;\">  C21</th><th style=\"text-align: right;\">  C22</th><th style=\"text-align: right;\">  C23</th><th style=\"text-align: right;\">  C24</th><th style=\"text-align: right;\">  C25</th><th style=\"text-align: right;\">  C26</th><th style=\"text-align: right;\">  C27</th><th style=\"text-align: right;\">  C28</th><th style=\"text-align: right;\">  C29</th><th style=\"text-align: right;\">  C30</th><th style=\"text-align: right;\">  C31</th><th style=\"text-align: right;\">  C32</th><th style=\"text-align: right;\">  C33</th><th style=\"text-align: right;\">  C34</th><th style=\"text-align: right;\">  C35</th><th style=\"text-align: right;\">  C36</th><th style=\"text-align: right;\">  C37</th><th style=\"text-align: right;\">  C38</th><th style=\"text-align: right;\">  C39</th><th style=\"text-align: right;\">  C40</th><th style=\"text-align: right;\">  C41</th><th style=\"text-align: right;\">  C42</th><th style=\"text-align: right;\">  C43</th><th style=\"text-align: right;\">  C44</th><th style=\"text-align: right;\">  C45</th><th style=\"text-align: right;\">  C46</th><th style=\"text-align: right;\">  C47</th><th style=\"text-align: right;\">  C48</th><th style=\"text-align: right;\">  C49</th><th style=\"text-align: right;\">  C50</th><th style=\"text-align: right;\">  C51</th><th style=\"text-align: right;\">  C52</th><th style=\"text-align: right;\">  C53</th><th style=\"text-align: right;\">  C54</th><th style=\"text-align: right;\">  C55</th><th style=\"text-align: right;\">  C56</th><th style=\"text-align: right;\">  C57</th><th style=\"text-align: right;\">  C58</th><th style=\"text-align: right;\">  C59</th><th style=\"text-align: right;\">  C60</th><th style=\"text-align: right;\">  C61</th><th style=\"text-align: right;\">  C62</th><th style=\"text-align: right;\">  C63</th><th style=\"text-align: right;\">  C64</th><th style=\"text-align: right;\">  C65</th><th style=\"text-align: right;\">  C66</th><th style=\"text-align: right;\">  C67</th><th style=\"text-align: right;\">  C68</th><th style=\"text-align: right;\">  C69</th><th style=\"text-align: right;\">  C70</th><th style=\"text-align: right;\">  C71</th><th style=\"text-align: right;\">  C72</th><th style=\"text-align: right;\">  C73</th><th style=\"text-align: right;\">  C74</th><th style=\"text-align: right;\">  C75</th><th style=\"text-align: right;\">  C76</th><th style=\"text-align: right;\">  C77</th><th style=\"text-align: right;\">  C78</th><th style=\"text-align: right;\">  C79</th><th style=\"text-align: right;\">  C80</th><th style=\"text-align: right;\">  C81</th><th style=\"text-align: right;\">  C82</th><th style=\"text-align: right;\">  C83</th><th style=\"text-align: right;\">  C84</th><th style=\"text-align: right;\">  C85</th><th style=\"text-align: right;\">  C86</th><th style=\"text-align: right;\">  C87</th><th style=\"text-align: right;\">  C88</th><th style=\"text-align: right;\">  C89</th><th style=\"text-align: right;\">  C90</th><th style=\"text-align: right;\">  C91</th><th style=\"text-align: right;\">  C92</th><th style=\"text-align: right;\">  C93</th><th style=\"text-align: right;\">  C94</th><th style=\"text-align: right;\">  C95</th><th style=\"text-align: right;\">  C96</th><th style=\"text-align: right;\">  C97</th><th style=\"text-align: right;\">  C98</th><th style=\"text-align: right;\">  C99</th><th style=\"text-align: right;\">  C100</th><th style=\"text-align: right;\">  C101</th><th style=\"text-align: right;\">  C102</th><th style=\"text-align: right;\">  C103</th><th style=\"text-align: right;\">  C104</th><th style=\"text-align: right;\">  C105</th><th style=\"text-align: right;\">  C106</th><th style=\"text-align: right;\">  C107</th><th style=\"text-align: right;\">  C108</th><th style=\"text-align: right;\">  C109</th><th style=\"text-align: right;\">  C110</th><th style=\"text-align: right;\">  C111</th><th style=\"text-align: right;\">  C112</th><th style=\"text-align: right;\">  C113</th><th style=\"text-align: right;\">  C114</th><th style=\"text-align: right;\">  C115</th><th style=\"text-align: right;\">  C116</th><th style=\"text-align: right;\">  C117</th><th style=\"text-align: right;\">  C118</th><th style=\"text-align: right;\">  C119</th><th style=\"text-align: right;\">  C120</th><th style=\"text-align: right;\">  C121</th><th style=\"text-align: right;\">  C122</th><th style=\"text-align: right;\">  C123</th><th style=\"text-align: right;\">  C124</th><th style=\"text-align: right;\">  C125</th><th style=\"text-align: right;\">  C126</th><th style=\"text-align: right;\">  C127</th><th style=\"text-align: right;\">  C128</th><th style=\"text-align: right;\">  C129</th><th style=\"text-align: right;\">  C130</th><th style=\"text-align: right;\">  C131</th><th style=\"text-align: right;\">  C132</th><th style=\"text-align: right;\">  C133</th><th style=\"text-align: right;\">  C134</th><th style=\"text-align: right;\">  C135</th><th style=\"text-align: right;\">  C136</th><th style=\"text-align: right;\">  C137</th><th style=\"text-align: right;\">  C138</th><th style=\"text-align: right;\">  C139</th><th style=\"text-align: right;\">  C140</th><th style=\"text-align: right;\">  C141</th><th style=\"text-align: right;\">  C142</th><th style=\"text-align: right;\">  C143</th><th style=\"text-align: right;\">  C144</th><th style=\"text-align: right;\">  C145</th><th style=\"text-align: right;\">  C146</th><th style=\"text-align: right;\">  C147</th><th style=\"text-align: right;\">  C148</th><th style=\"text-align: right;\">  C149</th><th style=\"text-align: right;\">  C150</th><th style=\"text-align: right;\">  C151</th><th style=\"text-align: right;\">  C152</th><th style=\"text-align: right;\">  C153</th><th style=\"text-align: right;\">  C154</th><th style=\"text-align: right;\">  C155</th><th style=\"text-align: right;\">  C156</th><th style=\"text-align: right;\">  C157</th><th style=\"text-align: right;\">  C158</th><th style=\"text-align: right;\">  C159</th><th style=\"text-align: right;\">  C160</th><th style=\"text-align: right;\">  C161</th><th style=\"text-align: right;\">  C162</th><th style=\"text-align: right;\">  C163</th><th style=\"text-align: right;\">  C164</th><th style=\"text-align: right;\">  C165</th><th style=\"text-align: right;\">  C166</th><th style=\"text-align: right;\">  C167</th><th style=\"text-align: right;\">  C168</th><th style=\"text-align: right;\">  C169</th><th style=\"text-align: right;\">  C170</th><th style=\"text-align: right;\">  C171</th><th style=\"text-align: right;\">  C172</th><th style=\"text-align: right;\">  C173</th><th style=\"text-align: right;\">  C174</th><th style=\"text-align: right;\">  C175</th><th style=\"text-align: right;\">  C176</th><th style=\"text-align: right;\">  C177</th><th style=\"text-align: right;\">  C178</th><th style=\"text-align: right;\">  C179</th><th style=\"text-align: right;\">  C180</th><th style=\"text-align: right;\">  C181</th><th style=\"text-align: right;\">  C182</th><th style=\"text-align: right;\">  C183</th><th style=\"text-align: right;\">  C184</th><th style=\"text-align: right;\">  C185</th><th style=\"text-align: right;\">  C186</th><th style=\"text-align: right;\">  C187</th><th style=\"text-align: right;\">  C188</th><th style=\"text-align: right;\">  C189</th><th style=\"text-align: right;\">  C190</th><th style=\"text-align: right;\">  C191</th><th style=\"text-align: right;\">  C192</th><th style=\"text-align: right;\">  C193</th><th style=\"text-align: right;\">  C194</th><th style=\"text-align: right;\">  C195</th><th style=\"text-align: right;\">  C196</th><th style=\"text-align: right;\">  C197</th><th style=\"text-align: right;\">  C198</th><th style=\"text-align: right;\">  C199</th><th style=\"text-align: right;\">  C200</th></tr>\n",
       "</thead>\n",
       "<tbody>\n",
       "<tr><td style=\"text-align: right;\">   0</td><td style=\"text-align: right;\">   0</td><td style=\"text-align: right;\">   0</td><td style=\"text-align: right;\">   0</td><td style=\"text-align: right;\">   0</td><td style=\"text-align: right;\">   0</td><td style=\"text-align: right;\">   0</td><td style=\"text-align: right;\">   0</td><td style=\"text-align: right;\">   0</td><td style=\"text-align: right;\">    0</td><td style=\"text-align: right;\">    0</td><td style=\"text-align: right;\">    0</td><td style=\"text-align: right;\">    0</td><td style=\"text-align: right;\">    0</td><td style=\"text-align: right;\">    0</td><td style=\"text-align: right;\">    0</td><td style=\"text-align: right;\">    0</td><td style=\"text-align: right;\">    0</td><td style=\"text-align: right;\">    0</td><td style=\"text-align: right;\">    0</td><td style=\"text-align: right;\">    0</td><td style=\"text-align: right;\">    0</td><td style=\"text-align: right;\">    0</td><td style=\"text-align: right;\">    0</td><td style=\"text-align: right;\">    0</td><td style=\"text-align: right;\">    0</td><td style=\"text-align: right;\">    0</td><td style=\"text-align: right;\">    0</td><td style=\"text-align: right;\">    0</td><td style=\"text-align: right;\">    0</td><td style=\"text-align: right;\">    0</td><td style=\"text-align: right;\">    0</td><td style=\"text-align: right;\">    0</td><td style=\"text-align: right;\">    0</td><td style=\"text-align: right;\">    0</td><td style=\"text-align: right;\">    0</td><td style=\"text-align: right;\">    0</td><td style=\"text-align: right;\">    0</td><td style=\"text-align: right;\">    0</td><td style=\"text-align: right;\">    0</td><td style=\"text-align: right;\">    0</td><td style=\"text-align: right;\">    0</td><td style=\"text-align: right;\">    0</td><td style=\"text-align: right;\">    0</td><td style=\"text-align: right;\">    0</td><td style=\"text-align: right;\">    0</td><td style=\"text-align: right;\">    0</td><td style=\"text-align: right;\">    0</td><td style=\"text-align: right;\">    0</td><td style=\"text-align: right;\">    0</td><td style=\"text-align: right;\">    0</td><td style=\"text-align: right;\">    0</td><td style=\"text-align: right;\">    0</td><td style=\"text-align: right;\">    0</td><td style=\"text-align: right;\">    0</td><td style=\"text-align: right;\">    0</td><td style=\"text-align: right;\">    0</td><td style=\"text-align: right;\">    0</td><td style=\"text-align: right;\">    0</td><td style=\"text-align: right;\">    0</td><td style=\"text-align: right;\">    0</td><td style=\"text-align: right;\">    0</td><td style=\"text-align: right;\">    0</td><td style=\"text-align: right;\">    0</td><td style=\"text-align: right;\">    0</td><td style=\"text-align: right;\">    0</td><td style=\"text-align: right;\">    0</td><td style=\"text-align: right;\">    0</td><td style=\"text-align: right;\">    0</td><td style=\"text-align: right;\">    0</td><td style=\"text-align: right;\">    0</td><td style=\"text-align: right;\">    0</td><td style=\"text-align: right;\">    0</td><td style=\"text-align: right;\">    0</td><td style=\"text-align: right;\">    0</td><td style=\"text-align: right;\">    0</td><td style=\"text-align: right;\">    0</td><td style=\"text-align: right;\">    0</td><td style=\"text-align: right;\">    0</td><td style=\"text-align: right;\">    0</td><td style=\"text-align: right;\">    0</td><td style=\"text-align: right;\">    0</td><td style=\"text-align: right;\">    0</td><td style=\"text-align: right;\">    0</td><td style=\"text-align: right;\">    0</td><td style=\"text-align: right;\">    0</td><td style=\"text-align: right;\">    0</td><td style=\"text-align: right;\">    0</td><td style=\"text-align: right;\">    0</td><td style=\"text-align: right;\">    0</td><td style=\"text-align: right;\">    0</td><td style=\"text-align: right;\">    0</td><td style=\"text-align: right;\">    0</td><td style=\"text-align: right;\">    0</td><td style=\"text-align: right;\">    0</td><td style=\"text-align: right;\">    0</td><td style=\"text-align: right;\">    0</td><td style=\"text-align: right;\">    0</td><td style=\"text-align: right;\">    0</td><td style=\"text-align: right;\">     0</td><td style=\"text-align: right;\">     0</td><td style=\"text-align: right;\">     0</td><td style=\"text-align: right;\">     0</td><td style=\"text-align: right;\">     0</td><td style=\"text-align: right;\">     0</td><td style=\"text-align: right;\">     0</td><td style=\"text-align: right;\">     0</td><td style=\"text-align: right;\">     0</td><td style=\"text-align: right;\">     0</td><td style=\"text-align: right;\">     0</td><td style=\"text-align: right;\">     0</td><td style=\"text-align: right;\">     0</td><td style=\"text-align: right;\">     0</td><td style=\"text-align: right;\">     0</td><td style=\"text-align: right;\">     0</td><td style=\"text-align: right;\">     0</td><td style=\"text-align: right;\">     0</td><td style=\"text-align: right;\">     0</td><td style=\"text-align: right;\">    25</td><td style=\"text-align: right;\">   105</td><td style=\"text-align: right;\">   105</td><td style=\"text-align: right;\">   105</td><td style=\"text-align: right;\">   123</td><td style=\"text-align: right;\">   253</td><td style=\"text-align: right;\">   253</td><td style=\"text-align: right;\">   253</td><td style=\"text-align: right;\">   253</td><td style=\"text-align: right;\">   255</td><td style=\"text-align: right;\">   253</td><td style=\"text-align: right;\">   156</td><td style=\"text-align: right;\">    55</td><td style=\"text-align: right;\">     0</td><td style=\"text-align: right;\">     0</td><td style=\"text-align: right;\">     0</td><td style=\"text-align: right;\">     0</td><td style=\"text-align: right;\">     0</td><td style=\"text-align: right;\">     0</td><td style=\"text-align: right;\">     0</td><td style=\"text-align: right;\">     0</td><td style=\"text-align: right;\">     0</td><td style=\"text-align: right;\">     0</td><td style=\"text-align: right;\">     0</td><td style=\"text-align: right;\">     0</td><td style=\"text-align: right;\">     0</td><td style=\"text-align: right;\">     0</td><td style=\"text-align: right;\">     0</td><td style=\"text-align: right;\">   183</td><td style=\"text-align: right;\">   252</td><td style=\"text-align: right;\">   252</td><td style=\"text-align: right;\">   252</td><td style=\"text-align: right;\">   252</td><td style=\"text-align: right;\">   252</td><td style=\"text-align: right;\">   252</td><td style=\"text-align: right;\">   252</td><td style=\"text-align: right;\">   252</td><td style=\"text-align: right;\">   253</td><td style=\"text-align: right;\">   252</td><td style=\"text-align: right;\">   252</td><td style=\"text-align: right;\">   231</td><td style=\"text-align: right;\">   164</td><td style=\"text-align: right;\">    18</td><td style=\"text-align: right;\">     0</td><td style=\"text-align: right;\">     0</td><td style=\"text-align: right;\">     0</td><td style=\"text-align: right;\">     0</td><td style=\"text-align: right;\">     0</td><td style=\"text-align: right;\">     0</td><td style=\"text-align: right;\">     0</td><td style=\"text-align: right;\">     0</td><td style=\"text-align: right;\">     0</td><td style=\"text-align: right;\">     0</td><td style=\"text-align: right;\">     0</td><td style=\"text-align: right;\">     0</td><td style=\"text-align: right;\">     0</td><td style=\"text-align: right;\">   208</td><td style=\"text-align: right;\">   252</td><td style=\"text-align: right;\">   252</td><td style=\"text-align: right;\">   252</td><td style=\"text-align: right;\">   252</td><td style=\"text-align: right;\">   252</td><td style=\"text-align: right;\">   252</td><td style=\"text-align: right;\">   252</td><td style=\"text-align: right;\">   252</td><td style=\"text-align: right;\">   253</td><td style=\"text-align: right;\">   252</td><td style=\"text-align: right;\">   252</td><td style=\"text-align: right;\">   252</td><td style=\"text-align: right;\">   252</td><td style=\"text-align: right;\">    74</td><td style=\"text-align: right;\">     0</td><td style=\"text-align: right;\">     0</td><td style=\"text-align: right;\">     0</td><td style=\"text-align: right;\">     0</td><td style=\"text-align: right;\">     0</td><td style=\"text-align: right;\">     0</td><td style=\"text-align: right;\">     0</td><td style=\"text-align: right;\">     0</td><td style=\"text-align: right;\">     0</td><td style=\"text-align: right;\">     0</td><td style=\"text-align: right;\">     0</td></tr>\n",
       "<tr><td style=\"text-align: right;\">   0</td><td style=\"text-align: right;\">   0</td><td style=\"text-align: right;\">   0</td><td style=\"text-align: right;\">   0</td><td style=\"text-align: right;\">   0</td><td style=\"text-align: right;\">   0</td><td style=\"text-align: right;\">   0</td><td style=\"text-align: right;\">   0</td><td style=\"text-align: right;\">   0</td><td style=\"text-align: right;\">    0</td><td style=\"text-align: right;\">    0</td><td style=\"text-align: right;\">    0</td><td style=\"text-align: right;\">    0</td><td style=\"text-align: right;\">    0</td><td style=\"text-align: right;\">    0</td><td style=\"text-align: right;\">    0</td><td style=\"text-align: right;\">    0</td><td style=\"text-align: right;\">    0</td><td style=\"text-align: right;\">    0</td><td style=\"text-align: right;\">    0</td><td style=\"text-align: right;\">    0</td><td style=\"text-align: right;\">    0</td><td style=\"text-align: right;\">    0</td><td style=\"text-align: right;\">    0</td><td style=\"text-align: right;\">    0</td><td style=\"text-align: right;\">    0</td><td style=\"text-align: right;\">    0</td><td style=\"text-align: right;\">    0</td><td style=\"text-align: right;\">    0</td><td style=\"text-align: right;\">    0</td><td style=\"text-align: right;\">    0</td><td style=\"text-align: right;\">    0</td><td style=\"text-align: right;\">    0</td><td style=\"text-align: right;\">    0</td><td style=\"text-align: right;\">    0</td><td style=\"text-align: right;\">    0</td><td style=\"text-align: right;\">    0</td><td style=\"text-align: right;\">    0</td><td style=\"text-align: right;\">    0</td><td style=\"text-align: right;\">    0</td><td style=\"text-align: right;\">    0</td><td style=\"text-align: right;\">    0</td><td style=\"text-align: right;\">    0</td><td style=\"text-align: right;\">    0</td><td style=\"text-align: right;\">    0</td><td style=\"text-align: right;\">    0</td><td style=\"text-align: right;\">    0</td><td style=\"text-align: right;\">    0</td><td style=\"text-align: right;\">    0</td><td style=\"text-align: right;\">    0</td><td style=\"text-align: right;\">    0</td><td style=\"text-align: right;\">    0</td><td style=\"text-align: right;\">    0</td><td style=\"text-align: right;\">    0</td><td style=\"text-align: right;\">    0</td><td style=\"text-align: right;\">    0</td><td style=\"text-align: right;\">    0</td><td style=\"text-align: right;\">    0</td><td style=\"text-align: right;\">    0</td><td style=\"text-align: right;\">    0</td><td style=\"text-align: right;\">    0</td><td style=\"text-align: right;\">    0</td><td style=\"text-align: right;\">    0</td><td style=\"text-align: right;\">    0</td><td style=\"text-align: right;\">    0</td><td style=\"text-align: right;\">    0</td><td style=\"text-align: right;\">    0</td><td style=\"text-align: right;\">    0</td><td style=\"text-align: right;\">    0</td><td style=\"text-align: right;\">    0</td><td style=\"text-align: right;\">    0</td><td style=\"text-align: right;\">    0</td><td style=\"text-align: right;\">    0</td><td style=\"text-align: right;\">    0</td><td style=\"text-align: right;\">    0</td><td style=\"text-align: right;\">    0</td><td style=\"text-align: right;\">    0</td><td style=\"text-align: right;\">    0</td><td style=\"text-align: right;\">    0</td><td style=\"text-align: right;\">    0</td><td style=\"text-align: right;\">    0</td><td style=\"text-align: right;\">    0</td><td style=\"text-align: right;\">    0</td><td style=\"text-align: right;\">    0</td><td style=\"text-align: right;\">    0</td><td style=\"text-align: right;\">    0</td><td style=\"text-align: right;\">    0</td><td style=\"text-align: right;\">    0</td><td style=\"text-align: right;\">    0</td><td style=\"text-align: right;\">    0</td><td style=\"text-align: right;\">    0</td><td style=\"text-align: right;\">    0</td><td style=\"text-align: right;\">    0</td><td style=\"text-align: right;\">    0</td><td style=\"text-align: right;\">    0</td><td style=\"text-align: right;\">    0</td><td style=\"text-align: right;\">    0</td><td style=\"text-align: right;\">    0</td><td style=\"text-align: right;\">    0</td><td style=\"text-align: right;\">     0</td><td style=\"text-align: right;\">     0</td><td style=\"text-align: right;\">     0</td><td style=\"text-align: right;\">     0</td><td style=\"text-align: right;\">     0</td><td style=\"text-align: right;\">     0</td><td style=\"text-align: right;\">     0</td><td style=\"text-align: right;\">     0</td><td style=\"text-align: right;\">     0</td><td style=\"text-align: right;\">     0</td><td style=\"text-align: right;\">     0</td><td style=\"text-align: right;\">     0</td><td style=\"text-align: right;\">     0</td><td style=\"text-align: right;\">     0</td><td style=\"text-align: right;\">     0</td><td style=\"text-align: right;\">     0</td><td style=\"text-align: right;\">     0</td><td style=\"text-align: right;\">     0</td><td style=\"text-align: right;\">     0</td><td style=\"text-align: right;\">     0</td><td style=\"text-align: right;\">     0</td><td style=\"text-align: right;\">     0</td><td style=\"text-align: right;\">     0</td><td style=\"text-align: right;\">     7</td><td style=\"text-align: right;\">   210</td><td style=\"text-align: right;\">   253</td><td style=\"text-align: right;\">   205</td><td style=\"text-align: right;\">    78</td><td style=\"text-align: right;\">     0</td><td style=\"text-align: right;\">     0</td><td style=\"text-align: right;\">     0</td><td style=\"text-align: right;\">     0</td><td style=\"text-align: right;\">     0</td><td style=\"text-align: right;\">     0</td><td style=\"text-align: right;\">     0</td><td style=\"text-align: right;\">     0</td><td style=\"text-align: right;\">     0</td><td style=\"text-align: right;\">     0</td><td style=\"text-align: right;\">     0</td><td style=\"text-align: right;\">     0</td><td style=\"text-align: right;\">     0</td><td style=\"text-align: right;\">     0</td><td style=\"text-align: right;\">     0</td><td style=\"text-align: right;\">     0</td><td style=\"text-align: right;\">     0</td><td style=\"text-align: right;\">     0</td><td style=\"text-align: right;\">     0</td><td style=\"text-align: right;\">     0</td><td style=\"text-align: right;\">     0</td><td style=\"text-align: right;\">     0</td><td style=\"text-align: right;\">     0</td><td style=\"text-align: right;\">    89</td><td style=\"text-align: right;\">   252</td><td style=\"text-align: right;\">   252</td><td style=\"text-align: right;\">   252</td><td style=\"text-align: right;\">   229</td><td style=\"text-align: right;\">    49</td><td style=\"text-align: right;\">     0</td><td style=\"text-align: right;\">     0</td><td style=\"text-align: right;\">     0</td><td style=\"text-align: right;\">     0</td><td style=\"text-align: right;\">     0</td><td style=\"text-align: right;\">     0</td><td style=\"text-align: right;\">     0</td><td style=\"text-align: right;\">     0</td><td style=\"text-align: right;\">     0</td><td style=\"text-align: right;\">     0</td><td style=\"text-align: right;\">     0</td><td style=\"text-align: right;\">     0</td><td style=\"text-align: right;\">     0</td><td style=\"text-align: right;\">     0</td><td style=\"text-align: right;\">     0</td><td style=\"text-align: right;\">     0</td><td style=\"text-align: right;\">     0</td><td style=\"text-align: right;\">     0</td><td style=\"text-align: right;\">     0</td><td style=\"text-align: right;\">     0</td><td style=\"text-align: right;\">     0</td><td style=\"text-align: right;\">     0</td><td style=\"text-align: right;\">   213</td><td style=\"text-align: right;\">   252</td><td style=\"text-align: right;\">   252</td><td style=\"text-align: right;\">   252</td><td style=\"text-align: right;\">   253</td><td style=\"text-align: right;\">   212</td><td style=\"text-align: right;\">    17</td><td style=\"text-align: right;\">     0</td><td style=\"text-align: right;\">     0</td><td style=\"text-align: right;\">     0</td><td style=\"text-align: right;\">     0</td><td style=\"text-align: right;\">     0</td><td style=\"text-align: right;\">     0</td><td style=\"text-align: right;\">     0</td><td style=\"text-align: right;\">     0</td><td style=\"text-align: right;\">     0</td><td style=\"text-align: right;\">     0</td><td style=\"text-align: right;\">     0</td><td style=\"text-align: right;\">     0</td><td style=\"text-align: right;\">     0</td><td style=\"text-align: right;\">     0</td><td style=\"text-align: right;\">     0</td></tr>\n",
       "<tr><td style=\"text-align: right;\">   0</td><td style=\"text-align: right;\">   0</td><td style=\"text-align: right;\">   0</td><td style=\"text-align: right;\">   0</td><td style=\"text-align: right;\">   0</td><td style=\"text-align: right;\">   0</td><td style=\"text-align: right;\">   0</td><td style=\"text-align: right;\">   0</td><td style=\"text-align: right;\">   0</td><td style=\"text-align: right;\">    0</td><td style=\"text-align: right;\">    0</td><td style=\"text-align: right;\">    0</td><td style=\"text-align: right;\">    0</td><td style=\"text-align: right;\">    0</td><td style=\"text-align: right;\">    0</td><td style=\"text-align: right;\">    0</td><td style=\"text-align: right;\">    0</td><td style=\"text-align: right;\">    0</td><td style=\"text-align: right;\">    0</td><td style=\"text-align: right;\">    0</td><td style=\"text-align: right;\">    0</td><td style=\"text-align: right;\">    0</td><td style=\"text-align: right;\">    0</td><td style=\"text-align: right;\">    0</td><td style=\"text-align: right;\">    0</td><td style=\"text-align: right;\">    0</td><td style=\"text-align: right;\">    0</td><td style=\"text-align: right;\">    0</td><td style=\"text-align: right;\">    0</td><td style=\"text-align: right;\">    0</td><td style=\"text-align: right;\">    0</td><td style=\"text-align: right;\">    0</td><td style=\"text-align: right;\">    0</td><td style=\"text-align: right;\">    0</td><td style=\"text-align: right;\">    0</td><td style=\"text-align: right;\">    0</td><td style=\"text-align: right;\">    0</td><td style=\"text-align: right;\">    0</td><td style=\"text-align: right;\">    0</td><td style=\"text-align: right;\">    0</td><td style=\"text-align: right;\">    0</td><td style=\"text-align: right;\">    0</td><td style=\"text-align: right;\">    0</td><td style=\"text-align: right;\">    0</td><td style=\"text-align: right;\">    0</td><td style=\"text-align: right;\">    0</td><td style=\"text-align: right;\">    0</td><td style=\"text-align: right;\">    0</td><td style=\"text-align: right;\">    0</td><td style=\"text-align: right;\">    0</td><td style=\"text-align: right;\">    0</td><td style=\"text-align: right;\">    0</td><td style=\"text-align: right;\">    0</td><td style=\"text-align: right;\">    0</td><td style=\"text-align: right;\">    0</td><td style=\"text-align: right;\">    0</td><td style=\"text-align: right;\">    0</td><td style=\"text-align: right;\">    0</td><td style=\"text-align: right;\">    0</td><td style=\"text-align: right;\">    0</td><td style=\"text-align: right;\">    0</td><td style=\"text-align: right;\">    0</td><td style=\"text-align: right;\">    0</td><td style=\"text-align: right;\">    0</td><td style=\"text-align: right;\">    0</td><td style=\"text-align: right;\">    0</td><td style=\"text-align: right;\">    0</td><td style=\"text-align: right;\">    0</td><td style=\"text-align: right;\">    0</td><td style=\"text-align: right;\">    0</td><td style=\"text-align: right;\">    0</td><td style=\"text-align: right;\">    0</td><td style=\"text-align: right;\">    0</td><td style=\"text-align: right;\">    0</td><td style=\"text-align: right;\">    0</td><td style=\"text-align: right;\">    0</td><td style=\"text-align: right;\">    0</td><td style=\"text-align: right;\">    0</td><td style=\"text-align: right;\">    0</td><td style=\"text-align: right;\">    0</td><td style=\"text-align: right;\">    0</td><td style=\"text-align: right;\">    0</td><td style=\"text-align: right;\">    0</td><td style=\"text-align: right;\">    0</td><td style=\"text-align: right;\">    0</td><td style=\"text-align: right;\">    0</td><td style=\"text-align: right;\">    0</td><td style=\"text-align: right;\">    0</td><td style=\"text-align: right;\">    0</td><td style=\"text-align: right;\">    0</td><td style=\"text-align: right;\">    0</td><td style=\"text-align: right;\">    0</td><td style=\"text-align: right;\">    0</td><td style=\"text-align: right;\">    0</td><td style=\"text-align: right;\">    0</td><td style=\"text-align: right;\">    0</td><td style=\"text-align: right;\">    0</td><td style=\"text-align: right;\">    0</td><td style=\"text-align: right;\">    0</td><td style=\"text-align: right;\">     0</td><td style=\"text-align: right;\">     0</td><td style=\"text-align: right;\">     0</td><td style=\"text-align: right;\">     0</td><td style=\"text-align: right;\">     0</td><td style=\"text-align: right;\">     0</td><td style=\"text-align: right;\">     0</td><td style=\"text-align: right;\">     0</td><td style=\"text-align: right;\">     0</td><td style=\"text-align: right;\">     0</td><td style=\"text-align: right;\">     0</td><td style=\"text-align: right;\">     0</td><td style=\"text-align: right;\">     0</td><td style=\"text-align: right;\">     0</td><td style=\"text-align: right;\">     0</td><td style=\"text-align: right;\">     0</td><td style=\"text-align: right;\">     0</td><td style=\"text-align: right;\">     0</td><td style=\"text-align: right;\">     0</td><td style=\"text-align: right;\">     0</td><td style=\"text-align: right;\">     0</td><td style=\"text-align: right;\">     0</td><td style=\"text-align: right;\">     0</td><td style=\"text-align: right;\">     0</td><td style=\"text-align: right;\">     0</td><td style=\"text-align: right;\">    56</td><td style=\"text-align: right;\">    91</td><td style=\"text-align: right;\">   202</td><td style=\"text-align: right;\">   254</td><td style=\"text-align: right;\">   254</td><td style=\"text-align: right;\">   254</td><td style=\"text-align: right;\">   107</td><td style=\"text-align: right;\">     0</td><td style=\"text-align: right;\">     0</td><td style=\"text-align: right;\">     0</td><td style=\"text-align: right;\">     0</td><td style=\"text-align: right;\">     0</td><td style=\"text-align: right;\">     0</td><td style=\"text-align: right;\">     0</td><td style=\"text-align: right;\">     0</td><td style=\"text-align: right;\">     0</td><td style=\"text-align: right;\">     0</td><td style=\"text-align: right;\">     0</td><td style=\"text-align: right;\">     0</td><td style=\"text-align: right;\">     0</td><td style=\"text-align: right;\">     0</td><td style=\"text-align: right;\">     0</td><td style=\"text-align: right;\">     0</td><td style=\"text-align: right;\">     0</td><td style=\"text-align: right;\">     0</td><td style=\"text-align: right;\">     4</td><td style=\"text-align: right;\">    17</td><td style=\"text-align: right;\">    60</td><td style=\"text-align: right;\">   225</td><td style=\"text-align: right;\">   253</td><td style=\"text-align: right;\">   253</td><td style=\"text-align: right;\">   253</td><td style=\"text-align: right;\">   253</td><td style=\"text-align: right;\">   253</td><td style=\"text-align: right;\">   241</td><td style=\"text-align: right;\">    96</td><td style=\"text-align: right;\">     3</td><td style=\"text-align: right;\">     0</td><td style=\"text-align: right;\">     0</td><td style=\"text-align: right;\">     0</td><td style=\"text-align: right;\">     0</td><td style=\"text-align: right;\">     0</td><td style=\"text-align: right;\">     0</td><td style=\"text-align: right;\">     0</td><td style=\"text-align: right;\">     0</td><td style=\"text-align: right;\">     0</td><td style=\"text-align: right;\">     0</td><td style=\"text-align: right;\">     0</td><td style=\"text-align: right;\">     0</td><td style=\"text-align: right;\">     0</td><td style=\"text-align: right;\">     0</td><td style=\"text-align: right;\">     0</td><td style=\"text-align: right;\">    53</td><td style=\"text-align: right;\">   135</td><td style=\"text-align: right;\">   253</td><td style=\"text-align: right;\">   253</td><td style=\"text-align: right;\">   253</td><td style=\"text-align: right;\">   253</td><td style=\"text-align: right;\">   253</td><td style=\"text-align: right;\">   253</td><td style=\"text-align: right;\">   253</td><td style=\"text-align: right;\">   253</td><td style=\"text-align: right;\">   253</td><td style=\"text-align: right;\">   253</td><td style=\"text-align: right;\">    32</td><td style=\"text-align: right;\">     0</td><td style=\"text-align: right;\">     0</td><td style=\"text-align: right;\">     0</td><td style=\"text-align: right;\">     0</td><td style=\"text-align: right;\">     0</td><td style=\"text-align: right;\">     0</td><td style=\"text-align: right;\">     0</td><td style=\"text-align: right;\">     0</td><td style=\"text-align: right;\">     0</td><td style=\"text-align: right;\">     0</td><td style=\"text-align: right;\">     0</td></tr>\n",
       "</tbody>\n",
       "</table>"
      ]
     },
     "metadata": {},
     "output_type": "display_data"
    },
    {
     "data": {
      "text/plain": []
     },
     "metadata": {},
     "output_type": "display_data"
    }
   ],
   "source": [
    "# Your code here #\n",
    "train, valid = train.split_frame([0.8])\n",
    "display(valid.head(3))\n",
    "display(train.head(3))"
   ]
  },
  {
   "cell_type": "markdown",
   "metadata": {},
   "source": [
    "## Ploting images"
   ]
  },
  {
   "cell_type": "code",
   "execution_count": 10,
   "metadata": {},
   "outputs": [
    {
     "data": {
      "image/png": "[encoded data removed]",
      "text/plain": [
       "<Figure size 432x288 with 1 Axes>"
      ]
     },
     "metadata": {},
     "output_type": "display_data"
    }
   ],
   "source": [
    "import numpy as np\n",
    "import matplotlib.pyplot as plt\n",
    "\n",
    "# converts to pandas dataframe (if pandas is installed)\n",
    "test_pd = test.as_data_frame()\n",
    "pixels = test_pd.iloc[:,list(range(0,28*28))]\n",
    "labels = test_pd.iloc[:,28*28]\n",
    "\n",
    "def draw_pixels(pixels, labels, num):\n",
    "    data = np.array(pixels.iloc[num], dtype='uint8')\n",
    "    data = data.reshape((28, 28))\n",
    "    plt.title('Label is {label}'.format(label=labels.iloc[num]))\n",
    "    plt.imshow(data, cmap='gray')\n",
    "    plt.show()\n",
    "    \n",
    "draw_pixels(pixels, labels, 0)"
   ]
  },
  {
   "cell_type": "markdown",
   "metadata": {},
   "source": [
    "## Finally Machine Learning\n",
    "\n",
    "We begin with they laziest way, throwing the data into a off the shelf algorithm. Nevertheless, the next exercise is a bigger one."
   ]
  },
  {
   "cell_type": "markdown",
   "metadata": {},
   "source": [
    "### Exercise (j9s)\n",
    "Create a random forest model using H2O with default settings. The algorithm needs a dataframe with training data, which we constructed before, and it also needs to know names or numbers of training columns and name or number of target column. Also provide the validation dataframe so that you can compare metrics on these two sets during and after training.\n",
    "\n",
    "In python objects are created by a method call to the class type. The parameters can be ordered or named, like so:\n",
    "\n",
    "obj = NameOfClass(param1 , param2, ... , named_param1=value1, named_param2=value2, ...)\n",
    "\n",
    "Named parameters are optional and have default values.\n",
    "\n",
    "While your model trains, go into FLOW and click Model -> List all models -> Click your model. Finally you can click refresh to see stats update continuously.\n",
    "Get acquainted with logloss, variable importance, hitratio (see below), and more.\n",
    "How do these differ between training set and validation set?"
   ]
  },
  {
   "cell_type": "markdown",
   "metadata": {},
   "source": [
    "### Hitratio\n",
    "Hitratio is a bit hard to find info about;\n",
    "1-hitratio: for each image we let the model output 1 prediction it is the most confident about, if the prediction matches the true target, that image counts as a hit. 1-hitratio is then \\[ #images hit \\]/\\[#total images\\].\n",
    "\n",
    "If we would compute 2-hitratio, then we let the model take two guesses at each image, and if it got either of the guesses correct, then that image counts as a hit, and so on."
   ]
  },
  {
   "cell_type": "markdown",
   "metadata": {},
   "source": [
    "## Test performance"
   ]
  },
  {
   "cell_type": "markdown",
   "metadata": {},
   "source": [
    "### Exercise (sj8)\n",
    "Using estimator.model_performance(df) lets you measure various performance metrics on a data frame df without going into the FLOW ui. Check the random forest's performance on train, validation and test sets."
   ]
  },
  {
   "cell_type": "code",
   "execution_count": null,
   "metadata": {},
   "outputs": [],
   "source": []
  },
  {
   "cell_type": "code",
   "execution_count": null,
   "metadata": {},
   "outputs": [],
   "source": []
  },
  {
   "cell_type": "code",
   "execution_count": null,
   "metadata": {
    "scrolled": true
   },
   "outputs": [],
   "source": []
  },
  {
   "cell_type": "markdown",
   "metadata": {},
   "source": [
    "## Deep Learning\n",
    "I mean why not..."
   ]
  },
  {
   "cell_type": "markdown",
   "metadata": {},
   "source": [
    "### Exercise (7fe)\n",
    "Repeat the procedure above but change H2ODeepLearningEstimator to H2ODeepLearningEstimator.\n",
    "\n",
    "- Which is better out of the box for this data set?\n",
    "- Which took longer to train?\n",
    "- How was the gap between validation and test errors?"
   ]
  },
  {
   "cell_type": "code",
   "execution_count": null,
   "metadata": {},
   "outputs": [],
   "source": []
  },
  {
   "cell_type": "code",
   "execution_count": null,
   "metadata": {},
   "outputs": [],
   "source": []
  },
  {
   "cell_type": "markdown",
   "metadata": {},
   "source": [
    "## Downloading POJO/MOJO\n",
    "H2O models can be downloaded in two Java compatible forms. "
   ]
  },
  {
   "cell_type": "markdown",
   "metadata": {},
   "source": [
    "## Goodbye H2O"
   ]
  },
  {
   "cell_type": "code",
   "execution_count": null,
   "metadata": {},
   "outputs": [],
   "source": [
    "h2o.cluster().shutdown()"
   ]
  },
  {
   "cell_type": "markdown",
   "metadata": {},
   "source": [
    "### Keras on Tensorflow\n",
    "So far we have not exploited at all the position of pixels in the plane. It is widely known that convolutional networks (CNNs) are a great way share weights among translated descriptors. This is a fancy way of saying that we can keep the number of variables (weights) much smaller by encoding assumptions about images in the structure of the model. For example, if we have a 5x5 filter that can detect horizontal edges in one part of the image, we have reason to believe it has the same ability applied in a different part of the image.\n",
    "\n",
    "TensorFlow is a Google library for graph computations (and neural networks as a special but important case). TensorFlow is popular also because it provides a general backend so that any or most neural networks can be implemented on top of it and it is possible to export models and run them in a JVM.\n",
    "\n",
    "Keras is a high level library that can use TensorFlow as a backend, but makes life much easier for the programmer.\n",
    "\n",
    "Hence we will use Keras-TF to train a CNN."
   ]
  },
  {
   "cell_type": "code",
   "execution_count": 8,
   "metadata": {},
   "outputs": [
    {
     "name": "stderr",
     "output_type": "stream",
     "text": [
      "Using TensorFlow backend.\n"
     ]
    }
   ],
   "source": [
    "import pandas as pd\n",
    "import numpy as np\n",
    "import matplotlib.pyplot as plt\n",
    "\n",
    "from keras.utils.np_utils import to_categorical\n",
    "from keras.models import Sequential\n",
    "from keras.layers import Dense, Dropout, Flatten, Conv2D, MaxPool2D\n",
    "from keras.optimizers import RMSprop\n",
    "from keras.callbacks import ReduceLROnPlateau"
   ]
  },
  {
   "cell_type": "markdown",
   "metadata": {},
   "source": [
    "### Loading data as pandas Dataframe\n",
    "Pandas dataframes are similar to H2O's, but run in a single python instance*. Compared to H2O's dataframes,\n",
    "pandas offers far more operations and seems to be more mature as of today. By default pandas will try\n",
    "to guess the schema of csv files by parsing the first row. As our data does not have a header, we have to specify that.\n",
    "\n",
    "*The DASK project provides dataframes distributed on a cluster which are backed by pandas dataframes."
   ]
  },
  {
   "cell_type": "code",
   "execution_count": 24,
   "metadata": {},
   "outputs": [],
   "source": [
    "train = pd.read_csv('data/mnist/mnist.train.csv.gz', header=None)\n",
    "test = pd.read_csv('data/mnist/mnist.test.csv.gz', header=None)"
   ]
  },
  {
   "cell_type": "markdown",
   "metadata": {},
   "source": [
    "### Exercise (2kj)\n",
    "- Create dataframes X_train and X_test which consist of all columns except the target column. Run help(pd.DataFrame.drop) and find out what arguments you need to provide.\n",
    "- Create Series Y_train and Y_test which consist of the target column only. Run help(pd.DataFrame.loc) and read the first example and the one on 'Set value for an entire column'. However you may need to use iloc instead of loc if you want to reference a column by an integer. (There is also help on iloc if you are curious.)\n",
    "- Delete train and test to save memory."
   ]
  },
  {
   "cell_type": "code",
   "execution_count": 25,
   "metadata": {},
   "outputs": [],
   "source": [
    "Y_train = train.iloc[:,28*28]\n",
    "X_train = train.drop(28*28, axis = 1)\n",
    "Y_test = test.iloc[:,28*28]\n",
    "X_test = test.drop(28*28, axis = 1)\n",
    "del train, test"
   ]
  },
  {
   "cell_type": "code",
   "execution_count": 53,
   "metadata": {},
   "outputs": [],
   "source": [
    "import inspect\n",
    "\n",
    "def cheat(code):\n",
    "    cheat_dict = {\n",
    "      't1w': \"Paste the url into your browser, localhost:54321 or 127.0.0.1:54321\",\n",
    "      'i7b': '''test = h2o.import_file(\"data/mnist/mnist.test.csv.gz\")\n",
    "                train = h2o.import_file(\"data/mnist/mnist.train.csv.gz\")''',\n",
    "      '2if': '''train[-1] = train[-1].asfactor()\n",
    "                test[-1] = test[-1].asfactor()''',\n",
    "      'ot5': \"train, valid = train.split_frame([0.8])\",\n",
    "      'j9s': '''from h2o.estimators import H2ORandomForestEstimator\n",
    "                x = list(range(28*28))\n",
    "                y = 28*28\n",
    "                rf = H2ORandomForestEstimator()\n",
    "                rf.train(x,y,training_frame=train, validation_frame=valid)''',\n",
    "      'sj8': '''rf.model_performance(train)\n",
    "                rf.model_performance(valid)\n",
    "                rf.model_performance(test)''',\n",
    "      '2kj': '''Y_train = train.iloc[:,28*28]\n",
    "                X_train = train.drop(28*28, axis = 1)\n",
    "                Y_test = test.iloc[:,28*28]\n",
    "                X_test = test.drop(28*28, axis = 1)\n",
    "                del train, test\n",
    "             ''',\n",
    "      'kalle': '''print(X_test[0].shape)\n",
    "                  print(X_test[0][:,:,0].shape)''',\n",
    "      'bella': '''model = Sequential()\n",
    "                  model.add(Conv2D(filters = 32, kernel_size = (5,5),padding = 'Same', \n",
    "                  activation ='relu', input_shape = (28,28,1)))''',\n",
    "      'giorgio': \"model.add(MaxPool2D(pool_size=(2,2)))\",\n",
    "      'charles': '''# you may leave out 'rate=' from the next line\n",
    "                    model.add(Dropout(rate=0.25))'''\n",
    "    }\n",
    "    if code in cheat_dict:\n",
    "        print(inspect.cleandoc(cheat_dict[code]))\n",
    "    else:\n",
    "        print('Invalid exercise id, Naughty cheater!')\n",
    "\n",
    "def hint(code):\n",
    "    hint_dict = {\n",
    "      't1w': \"Urls can be interesting :)\",\n",
    "      'i7b': \"Use h2o.import_file\",\n",
    "      '2if': \"In Python [-1] can be used to access the last column\",\n",
    "      'ot5': \"Use df.split_frame(list_of_fractions)\",\n",
    "      'j9s': '''https://h2o-release.s3.amazonaws.com/h2o/rel-wolpert/11/docs-website/h2o-py/docs/modeling.html#h2o.estimators.estimator_base.H2OEstimator\n",
    "                On the page search for 'Train the H2O model'.\n",
    "                Then click on H2ORandomForestEstimator on the left pane.\n",
    "                The full name of the model class you want is h2o.estimators.H2ORandomForestEstimator.''',\n",
    "      'sj8': \"model_performance works just as a java method (it is a method on the model/estimator), and it has one argument which is the dataframe to measure performance on.\",\n",
    "      '2kj': \"Hint 1: to select all rows, use colon. Hint 2: axis has to do with dropping rows vs columns.\",\n",
    "      'kalle': '''First part: X_test[0] extracts the first slice along the first dimension. This represents the first image. What is its shape?\n",
    "                  Second part: Select a slice of X_test[0], where the first two dimensions take any value, and the last takes only value 0.''',\n",
    "      'bella': \"There are two hints! Run either of hint('bella_adding_layer'), hint('bella_create_layer') or hint('bella_kernel_size').\",\n",
    "      'bella_adding_layer': \"use model.add(your_layer_here)\",\n",
    "      'bella_create_layer': \"NameOfLayer(param1 , param2, ... , named_param1=value1, named_param2=value2, ...)\",\n",
    "      'bella_kernel_size': \"kernel_size=(5,5), this is a python tuple\",\n",
    "      'giorgio': \"follow the solution of previous exercise, but use pool_size as the only parameter\",\n",
    "      'charles': \"follow the solution of previous exercise, but use rate as the only parameter\"\n",
    "    }\n",
    "    if code in hint_dict:\n",
    "        print(inspect.cleandoc(hint_dict[code]))\n",
    "    else:\n",
    "        print('Invalid exercise id. Did you type the id correctly?')\n",
    "\n",
    "def skeleton(code):\n",
    "    skel = {\n",
    "        't1w': \"Sorry no skeleton here\",\n",
    "        'i7b': '''test = h2o.{fill_in}(\"fill_in\")\n",
    "                  train = h2o.{fill_in}(\"fill_in\")''',\n",
    "        'j9s': '''from h2o.estimators import H2ORandomForestEstimator\n",
    "                  x = fill_in \n",
    "                  y = fill_in\n",
    "                  rf = H2ORandomForestEstimator()\n",
    "                  rf.train(fill_in_here)''',\n",
    "        'ot5': \"train, valid = train.fill_in\",\n",
    "        '2if': '''train[fill_in] = train[fill_in].asfactor()\n",
    "                  test[fill_in] = test[fill_in].asfactor()''',\n",
    "        'sj8': \"Sorry no skeleton here\",\n",
    "        '2kj': '''Y_train = train.iloc[fill_in_to_select_all_rows,fill_in_to_select_target_column]\n",
    "                  X_train = train.drop(fill_in)\n",
    "                  Y_test = test.iloc[fill_in,fill_in]\n",
    "                  X_test = test.drop(fill_in)\n",
    "                  del train, test\n",
    "               ''',\n",
    "        'kalle': \"No skeleton, but checkout the hint if needed.\",\n",
    "        'bella': '''model = Sequential()\n",
    "                    model.add(__fill_in__(filters = __fill_in__, kernel_size = __fill_in__ ,padding = 'Same', \n",
    "                    activation =__fill_in__, input_shape = __fill_in__))''',\n",
    "        'giorgio': \"model.add(MaxPool2D(__fill_in__))\",\n",
    "        'charles': \"model.add(Dropout(__fill_in__))\",\n",
    "\n",
    "    }\n",
    "    if code in skel:\n",
    "        print(inspect.cleandoc(skel[code]))\n",
    "    else:\n",
    "        print('No skeletons in this wardrobe. Did you type the id correctly?')\n",
    "        \n",
    "        \n"
   ]
  },
  {
   "cell_type": "markdown",
   "metadata": {},
   "source": [
    "### Rescaling\n",
    "Rescaling the input to be between 0 and 1 help the CNN to converge faster and better.\n",
    "Without this, learning size of weights and thereby gradients will be unbalanced across layers and we would need smaller learning rates, increasing the risk for numerical errors."
   ]
  },
  {
   "cell_type": "code",
   "execution_count": 26,
   "metadata": {
    "scrolled": true
   },
   "outputs": [],
   "source": [
    "X_train = X_train/255\n",
    "X_test = X_test/255"
   ]
  },
  {
   "cell_type": "markdown",
   "metadata": {},
   "source": [
    "### Reshaping\n",
    "Some frameworks for training NNs, including Keras assume that input is a tensor of higher dimension than 2 (which would be matrix). The input tensor here should be num_examples x height x width x channels. Number of channels is 1 since we have gray-scale pictures, and the -1 means that numpy should figure out how many rows.\n",
    "Reshaping thus reshapes our n x 28^2 tensor to a n x 28 x 28 x 1 tensor.\n",
    "Finally we are using the 2D geometri of the data."
   ]
  },
  {
   "cell_type": "code",
   "execution_count": 27,
   "metadata": {},
   "outputs": [],
   "source": [
    "X_train = X_train.values.reshape(-1,28,28,1)\n",
    "X_test = X_test.values.reshape(-1,28,28,1)"
   ]
  },
  {
   "cell_type": "markdown",
   "metadata": {},
   "source": [
    "### Exercise (kalle)\n",
    "Since X_train and X_test are now numpy arrays, lets take a look at them. We can use indexing and slicing on numpy objects in a similar way we have done on pandas dataframes, however this is easier and does not require loc and iloc.\n",
    "- Use the .shape attribute of numpy arrays to find out the shape of part of the tensor which hold the first image.\n",
    "- Remove the last dimension from this part of the tensor and confirm that the result has shape (28,28)."
   ]
  },
  {
   "cell_type": "code",
   "execution_count": null,
   "metadata": {},
   "outputs": [],
   "source": []
  },
  {
   "cell_type": "markdown",
   "metadata": {},
   "source": [
    "### Label encoding\n",
    "The targets (or labels as they can be called), have numerical values which seems to indicate that guessing a nearby number is better than guessing a far number. However we only care about guessing right or wrong so that is not the loss function we want. We will therefore apply one-hot encoding to the labels, representing for example the number 3 as \\[0,0,3,0,0,0,0,0,0,0\\]. This is the expected format of the loss function categorical crossentropy that we will use."
   ]
  },
  {
   "cell_type": "code",
   "execution_count": 36,
   "metadata": {},
   "outputs": [],
   "source": [
    "Y_train = to_categorical(Y_train, num_classes = 10)\n",
    "Y_test = to_categorical(Y_test, num_classes = 10)"
   ]
  },
  {
   "cell_type": "markdown",
   "metadata": {},
   "source": [
    "### Neural network architecture\n",
    "\n",
    "An important part of training a neural network is to design an architecture. We will use a feed-forward\n",
    "architecture https://en.wikipedia.org/wiki/Feedforward_neural_network with convolutional layers as the main components. A classical approach is to intertwine convolutional layers https://en.wikipedia.org/wiki/Convolutional_neural_network with maxpooling layers and finish off with fully connected layers. Moreover, to prevent overfitting (which could happen very easily with the huge number of variables), dropout layers help a great deal.\n",
    "\n",
    "A part of the network architecture are so called activation functions which are typically stuck between two layers. Activation functions are simply applied on each value (neuron) before being fed into the next layer.\n",
    "\n",
    "A popular and powerful activation function is the rectified linear unit, or ReLU. https://en.wikipedia.org/wiki/Rectifier_(neural_networks)"
   ]
  },
  {
   "cell_type": "markdown",
   "metadata": {},
   "source": [
    "### Convolutional layer\n",
    "\n",
    "A convolutional layer has several filters which can be seen as small matrixes which determine how to average m-by-m pixels of the image into a single value. In Keras this m is called kernel_size and the number of filters is simply 'filters'. Each filter could learn different things, which is why we need more than 1 filter. For example a filter could detect 45 degree lines , or it could detect upper-right-corners.\n",
    "\n",
    "What is nice about this is that we don't need to tell the algorithm what filters (or features) are important.\n",
    "\n",
    "When several convolutional (or other layers) are stacked on top of eachother, higher level features can be learned such as arcs of different curvature, or even body parts or cats or dogs."
   ]
  },
  {
   "cell_type": "markdown",
   "metadata": {},
   "source": [
    "### Exercise (bella)\n",
    "Add a first convolutional layer with 32 filters, averaging over 5-by-5 pixels, relu activation, correct input_shape and padding ='Same'. Run help(Conv2D) and the cell above to get some info."
   ]
  },
  {
   "cell_type": "code",
   "execution_count": 42,
   "metadata": {},
   "outputs": [],
   "source": [
    "# Feed-forward network\n",
    "model = Sequential()\n",
    "\n",
    "# __fill_in__ #"
   ]
  },
  {
   "cell_type": "markdown",
   "metadata": {},
   "source": [
    "### Rinse and repeat\n",
    "Add another identical layer, but do not include input_shape since this is not the first layer."
   ]
  },
  {
   "cell_type": "code",
   "execution_count": 42,
   "metadata": {},
   "outputs": [],
   "source": [
    "## repeat"
   ]
  },
  {
   "cell_type": "markdown",
   "metadata": {},
   "source": [
    "### Maxpooling\n",
    "A maxpooling layer divides up the image into k-by-k boxes side by side. Each box gives one node in the layer and the value of that node is simply the maximum of the values in the k-by-k box."
   ]
  },
  {
   "cell_type": "markdown",
   "metadata": {},
   "source": [
    "### Exercise (giorgio)\n",
    "Add a maxpooling layer with 2-by-2 size."
   ]
  },
  {
   "cell_type": "markdown",
   "metadata": {},
   "source": [
    "### Dropout\n",
    "A Dropout layer randomly sets a fraction `rate` of input units to 0 at each update during training time. The random choice is made independently of both neuron and training example."
   ]
  },
  {
   "cell_type": "markdown",
   "metadata": {},
   "source": [
    "### Exercise (charles)\n",
    "Add a dropout layer with 25% rate."
   ]
  },
  {
   "cell_type": "code",
   "execution_count": null,
   "metadata": {},
   "outputs": [],
   "source": []
  },
  {
   "cell_type": "code",
   "execution_count": null,
   "metadata": {},
   "outputs": [],
   "source": [
    "\n",
    "\n",
    "\n",
    "\n",
    "model.add(Conv2D(filters = 64, kernel_size = (3,3),padding = 'Same', \n",
    "                 activation ='relu'))\n",
    "model.add(Conv2D(filters = 64, kernel_size = (3,3),padding = 'Same', \n",
    "                 activation ='relu'))\n",
    "model.add(MaxPool2D(pool_size=(2,2), strides=(2,2)))\n",
    "model.add(Dropout(0.25))\n",
    "\n",
    "\n",
    "model.add(Flatten())\n",
    "model.add(Dense(256, activation = \"relu\"))\n",
    "model.add(Dropout(0.5))\n",
    "model.add(Dense(10, activation = \"softmax\"))"
   ]
  },
  {
   "cell_type": "code",
   "execution_count": 22,
   "metadata": {},
   "outputs": [
    {
     "name": "stdout",
     "output_type": "stream",
     "text": [
      "Train on 60000 samples, validate on 10000 samples\n",
      "Epoch 1/1\n",
      " - 170s - loss: 8.3408 - acc: 0.1723 - val_loss: 1.1703 - val_acc: 0.6518\n"
     ]
    }
   ],
   "source": [
    "optimizer = RMSprop(lr=0.001, rho=0.9, epsilon=1e-08, decay=0.0)\n",
    "model.compile(optimizer = optimizer , loss = \"categorical_crossentropy\", metrics=[\"accuracy\"])\n",
    "learning_rate_reduction = ReduceLROnPlateau(monitor='val_acc', \n",
    "                                            patience=3, \n",
    "                                            verbose=1, \n",
    "                                            factor=0.5, \n",
    "                                            min_lr=0.00001)\n",
    "epochs = 1 # Turn epochs to 30 to get 0.9967 accuracy\n",
    "batch_size = 86\n",
    "# Without data augmentation i obtained an accuracy of 0.98114\n",
    "history = model.fit(X_train, Y_train, batch_size = batch_size, epochs = epochs, \n",
    "          validation_data = (X_test, Y_test), verbose = 2)"
   ]
  },
  {
   "cell_type": "code",
   "execution_count": 78,
   "metadata": {},
   "outputs": [
    {
     "data": {
      "image/png": "[encoded data removed]",
      "text/plain": [
       "<Figure size 432x288 with 2 Axes>"
      ]
     },
     "metadata": {},
     "output_type": "display_data"
    }
   ],
   "source": [
    "# Plot the loss and accuracy curves for training and validation \n",
    "fig, ax = plt.subplots(2,1)\n",
    "ax[0].plot(history.history['loss'], color='b', label=\"Training loss\")\n",
    "ax[0].plot(history.history['val_loss'], color='r', label=\"validation loss\",axes =ax[0])\n",
    "legend = ax[0].legend(loc='best', shadow=True)\n",
    "\n",
    "ax[1].plot(history.history['acc'], color='b', label=\"Training accuracy\")\n",
    "ax[1].plot(history.history['val_acc'], color='r',label=\"Validation accuracy\")\n",
    "legend = ax[1].legend(loc='best', shadow=True)"
   ]
  },
  {
   "cell_type": "code",
   "execution_count": null,
   "metadata": {},
   "outputs": [],
   "source": []
  }
 ],
 "metadata": {
  "kernelspec": {
   "display_name": "Python 3",
   "language": "python",
   "name": "python3"
  },
  "language_info": {
   "codemirror_mode": {
    "name": "ipython",
    "version": 3
   },
   "file_extension": ".py",
   "mimetype": "text/x-python",
   "name": "python",
   "nbconvert_exporter": "python",
   "pygments_lexer": "ipython3",
   "version": "3.5.2"
  }
 },
 "nbformat": 4,
 "nbformat_minor": 2
}
