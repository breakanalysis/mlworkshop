{
 "cells": [
  {
   "cell_type": "markdown",
   "metadata": {},
   "source": [
    "# Write your first ML model\n",
    "\n",
    "Whether or not this is actually your first model, we are going to take a look at the\n",
    "famous MNIST data set of handwritten digits. We are going to use a few different ML libs for this."
   ]
  },
  {
   "cell_type": "markdown",
   "metadata": {},
   "source": [
    "## Notebook basics\n",
    "- Use Enter and Escpace to toggle in and out of cells.\n",
    "- When you are out you can use 'a' and 'b' to insert a new cell above or below.\n",
    "- Or you can delete a cell with 'dd'.\n",
    "- You can run the current cell with shift enter (works in both modes).\n",
    "- You may prefer alt enter which runs cell and creates a new cell after."
   ]
  },
  {
   "cell_type": "markdown",
   "metadata": {},
   "source": [
    "## H2O\n",
    "Let's start our journey by launching a local H2O cluster with one node."
   ]
  },
  {
   "cell_type": "code",
   "execution_count": 1,
   "metadata": {
    "scrolled": false
   },
   "outputs": [
    {
     "name": "stdout",
     "output_type": "stream",
     "text": [
      "Checking whether there is an H2O instance running at http://localhost:54321..... not found.\n",
      "Attempting to start a local H2O server...\n",
      "  Java Version: java version \"1.8.0_172\"; Java(TM) SE Runtime Environment (build 1.8.0_172-b11); Java HotSpot(TM) 64-Bit Server VM (build 25.172-b11, mixed mode)\n",
      "  Starting server from /usr/lib/python3.6/site-packages/h2o/backend/bin/h2o.jar\n",
      "  Ice root: /tmp/tmp080vx3ii\n",
      "  JVM stdout: /tmp/tmp080vx3ii/h2o_jacob_started_from_python.out\n",
      "  JVM stderr: /tmp/tmp080vx3ii/h2o_jacob_started_from_python.err\n",
      "  Server is running at http://127.0.0.1:54321\n",
      "Connecting to H2O server at http://127.0.0.1:54321... successful.\n"
     ]
    },
    {
     "data": {
      "text/html": [
       "<div style=\"overflow:auto\"><table style=\"width:50%\"><tr><td>H2O cluster uptime:</td>\n",
       "<td>01 secs</td></tr>\n",
       "<tr><td>H2O cluster timezone:</td>\n",
       "<td>Europe/Stockholm</td></tr>\n",
       "<tr><td>H2O data parsing timezone:</td>\n",
       "<td>UTC</td></tr>\n",
       "<tr><td>H2O cluster version:</td>\n",
       "<td>3.18.0.11</td></tr>\n",
       "<tr><td>H2O cluster version age:</td>\n",
       "<td>2 months and 5 days </td></tr>\n",
       "<tr><td>H2O cluster name:</td>\n",
       "<td>H2O_from_python_jacob_3bd0ks</td></tr>\n",
       "<tr><td>H2O cluster total nodes:</td>\n",
       "<td>1</td></tr>\n",
       "<tr><td>H2O cluster free memory:</td>\n",
       "<td>3.450 Gb</td></tr>\n",
       "<tr><td>H2O cluster total cores:</td>\n",
       "<td>8</td></tr>\n",
       "<tr><td>H2O cluster allowed cores:</td>\n",
       "<td>8</td></tr>\n",
       "<tr><td>H2O cluster status:</td>\n",
       "<td>accepting new members, healthy</td></tr>\n",
       "<tr><td>H2O connection url:</td>\n",
       "<td>http://127.0.0.1:54321</td></tr>\n",
       "<tr><td>H2O connection proxy:</td>\n",
       "<td>None</td></tr>\n",
       "<tr><td>H2O internal security:</td>\n",
       "<td>False</td></tr>\n",
       "<tr><td>H2O API Extensions:</td>\n",
       "<td>XGBoost, Algos, AutoML, Core V3, Core V4</td></tr>\n",
       "<tr><td>Python version:</td>\n",
       "<td>3.6.5 final</td></tr></table></div>"
      ],
      "text/plain": [
       "--------------------------  ----------------------------------------\n",
       "H2O cluster uptime:         01 secs\n",
       "H2O cluster timezone:       Europe/Stockholm\n",
       "H2O data parsing timezone:  UTC\n",
       "H2O cluster version:        3.18.0.11\n",
       "H2O cluster version age:    2 months and 5 days\n",
       "H2O cluster name:           H2O_from_python_jacob_3bd0ks\n",
       "H2O cluster total nodes:    1\n",
       "H2O cluster free memory:    3.450 Gb\n",
       "H2O cluster total cores:    8\n",
       "H2O cluster allowed cores:  8\n",
       "H2O cluster status:         accepting new members, healthy\n",
       "H2O connection url:         http://127.0.0.1:54321\n",
       "H2O connection proxy:\n",
       "H2O internal security:      False\n",
       "H2O API Extensions:         XGBoost, Algos, AutoML, Core V3, Core V4\n",
       "Python version:             3.6.5 final\n",
       "--------------------------  ----------------------------------------"
      ]
     },
     "metadata": {},
     "output_type": "display_data"
    }
   ],
   "source": [
    "import h2o\n",
    "h2o.init()"
   ]
  },
  {
   "cell_type": "markdown",
   "metadata": {},
   "source": [
    "## Cheats\n",
    "Run the cell below to enable skeletons, hints and cheats.\n",
    "To later use these run skeleton('id'), hint('id') or cheat('id') in any cell."
   ]
  },
  {
   "cell_type": "code",
   "execution_count": 2,
   "metadata": {},
   "outputs": [],
   "source": [
    "from cheat import *"
   ]
  },
  {
   "cell_type": "markdown",
   "metadata": {},
   "source": [
    "### Exercise (andy)\n",
    "\n",
    "Take a quick look at the output from h2o.init() above. Anything particularly interesting?"
   ]
  },
  {
   "cell_type": "markdown",
   "metadata": {},
   "source": [
    "### Exercise (mia)\n",
    "\n",
    "It is time to import some data into our H2O cluster. There are two data files in\n",
    "the notebook workdirectory.\n",
    "- Find them and import them into H2O. (use hint if you have trouble finding the method name.)\n",
    "- View your result X by putting X last in a cell and run the cell.\n",
    "- Run X.show() and display(X).\n",
    "- See if you can view X in the Flow UI."
   ]
  },
  {
   "cell_type": "code",
   "execution_count": 4,
   "metadata": {},
   "outputs": [
    {
     "name": "stdout",
     "output_type": "stream",
     "text": [
      "Parse progress: |█████████████████████████████████████████████████████████| 100%\n",
      "Parse progress: |█████████████████████████████████████████████████████████| 100%\n"
     ]
    }
   ],
   "source": [
    "test = h2o.import_file(\"data/mnist/mnist.test.csv.gz\")\n",
    "train = h2o.import_file(\"data/mnist/mnist.train.csv.gz\")"
   ]
  },
  {
   "cell_type": "markdown",
   "metadata": {},
   "source": [
    "### Exercise (sam)\n",
    "Find the target column of the two imported frames and convert its datatype to enum.\n",
    "The conversion is done by the 'asfactor' method. To select a column from a dataframe use square brackets df\\[...\\]. What goes between brackets can be a column name, number, or a list, however not all combinations will work when assigning columns."
   ]
  },
  {
   "cell_type": "code",
   "execution_count": 6,
   "metadata": {},
   "outputs": [],
   "source": [
    "train[-1] = train[-1].asfactor()\n",
    "test[-1] = test[-1].asfactor()"
   ]
  },
  {
   "cell_type": "markdown",
   "metadata": {},
   "source": [
    "### Exercise (anne)\n",
    "\n",
    "Often one will split off a part of training data into a validation set.\n",
    "The validation set serves as a proxy for testing models 'in the wild'.\n",
    "Scores measured on the training set are not reliable as many algorithms produce\n",
    "perfect or near perfect training scores.\n",
    "Split the training frame into two parts: train (80% of rows) and valid (remaining 20%)."
   ]
  },
  {
   "cell_type": "code",
   "execution_count": 8,
   "metadata": {
    "scrolled": true
   },
   "outputs": [
    {
     "data": {
      "text/html": [
       "<table>\n",
       "<thead>\n",
       "<tr><th style=\"text-align: right;\">  C1</th><th style=\"text-align: right;\">  C2</th><th style=\"text-align: right;\">  C3</th><th style=\"text-align: right;\">  C4</th><th style=\"text-align: right;\">  C5</th><th style=\"text-align: right;\">  C6</th><th style=\"text-align: right;\">  C7</th><th style=\"text-align: right;\">  C8</th><th style=\"text-align: right;\">  C9</th><th style=\"text-align: right;\">  C10</th><th style=\"text-align: right;\">  C11</th><th style=\"text-align: right;\">  C12</th><th style=\"text-align: right;\">  C13</th><th style=\"text-align: right;\">  C14</th><th style=\"text-align: right;\">  C15</th><th style=\"text-align: right;\">  C16</th><th style=\"text-align: right;\">  C17</th><th style=\"text-align: right;\">  C18</th><th style=\"text-align: right;\">  C19</th><th style=\"text-align: right;\">  C20</th><th style=\"text-align: right;\">  C21</th><th style=\"text-align: right;\">  C22</th><th style=\"text-align: right;\">  C23</th><th style=\"text-align: right;\">  C24</th><th style=\"text-align: right;\">  C25</th><th style=\"text-align: right;\">  C26</th><th style=\"text-align: right;\">  C27</th><th style=\"text-align: right;\">  C28</th><th style=\"text-align: right;\">  C29</th><th style=\"text-align: right;\">  C30</th><th style=\"text-align: right;\">  C31</th><th style=\"text-align: right;\">  C32</th><th style=\"text-align: right;\">  C33</th><th style=\"text-align: right;\">  C34</th><th style=\"text-align: right;\">  C35</th><th style=\"text-align: right;\">  C36</th><th style=\"text-align: right;\">  C37</th><th style=\"text-align: right;\">  C38</th><th style=\"text-align: right;\">  C39</th><th style=\"text-align: right;\">  C40</th><th style=\"text-align: right;\">  C41</th><th style=\"text-align: right;\">  C42</th><th style=\"text-align: right;\">  C43</th><th style=\"text-align: right;\">  C44</th><th style=\"text-align: right;\">  C45</th><th style=\"text-align: right;\">  C46</th><th style=\"text-align: right;\">  C47</th><th style=\"text-align: right;\">  C48</th><th style=\"text-align: right;\">  C49</th><th style=\"text-align: right;\">  C50</th><th style=\"text-align: right;\">  C51</th><th style=\"text-align: right;\">  C52</th><th style=\"text-align: right;\">  C53</th><th style=\"text-align: right;\">  C54</th><th style=\"text-align: right;\">  C55</th><th style=\"text-align: right;\">  C56</th><th style=\"text-align: right;\">  C57</th><th style=\"text-align: right;\">  C58</th><th style=\"text-align: right;\">  C59</th><th style=\"text-align: right;\">  C60</th><th style=\"text-align: right;\">  C61</th><th style=\"text-align: right;\">  C62</th><th style=\"text-align: right;\">  C63</th><th style=\"text-align: right;\">  C64</th><th style=\"text-align: right;\">  C65</th><th style=\"text-align: right;\">  C66</th><th style=\"text-align: right;\">  C67</th><th style=\"text-align: right;\">  C68</th><th style=\"text-align: right;\">  C69</th><th style=\"text-align: right;\">  C70</th><th style=\"text-align: right;\">  C71</th><th style=\"text-align: right;\">  C72</th><th style=\"text-align: right;\">  C73</th><th style=\"text-align: right;\">  C74</th><th style=\"text-align: right;\">  C75</th><th style=\"text-align: right;\">  C76</th><th style=\"text-align: right;\">  C77</th><th style=\"text-align: right;\">  C78</th><th style=\"text-align: right;\">  C79</th><th style=\"text-align: right;\">  C80</th><th style=\"text-align: right;\">  C81</th><th style=\"text-align: right;\">  C82</th><th style=\"text-align: right;\">  C83</th><th style=\"text-align: right;\">  C84</th><th style=\"text-align: right;\">  C85</th><th style=\"text-align: right;\">  C86</th><th style=\"text-align: right;\">  C87</th><th style=\"text-align: right;\">  C88</th><th style=\"text-align: right;\">  C89</th><th style=\"text-align: right;\">  C90</th><th style=\"text-align: right;\">  C91</th><th style=\"text-align: right;\">  C92</th><th style=\"text-align: right;\">  C93</th><th style=\"text-align: right;\">  C94</th><th style=\"text-align: right;\">  C95</th><th style=\"text-align: right;\">  C96</th><th style=\"text-align: right;\">  C97</th><th style=\"text-align: right;\">  C98</th><th style=\"text-align: right;\">  C99</th><th style=\"text-align: right;\">  C100</th><th style=\"text-align: right;\">  C101</th><th style=\"text-align: right;\">  C102</th><th style=\"text-align: right;\">  C103</th><th style=\"text-align: right;\">  C104</th><th style=\"text-align: right;\">  C105</th><th style=\"text-align: right;\">  C106</th><th style=\"text-align: right;\">  C107</th><th style=\"text-align: right;\">  C108</th><th style=\"text-align: right;\">  C109</th><th style=\"text-align: right;\">  C110</th><th style=\"text-align: right;\">  C111</th><th style=\"text-align: right;\">  C112</th><th style=\"text-align: right;\">  C113</th><th style=\"text-align: right;\">  C114</th><th style=\"text-align: right;\">  C115</th><th style=\"text-align: right;\">  C116</th><th style=\"text-align: right;\">  C117</th><th style=\"text-align: right;\">  C118</th><th style=\"text-align: right;\">  C119</th><th style=\"text-align: right;\">  C120</th><th style=\"text-align: right;\">  C121</th><th style=\"text-align: right;\">  C122</th><th style=\"text-align: right;\">  C123</th><th style=\"text-align: right;\">  C124</th><th style=\"text-align: right;\">  C125</th><th style=\"text-align: right;\">  C126</th><th style=\"text-align: right;\">  C127</th><th style=\"text-align: right;\">  C128</th><th style=\"text-align: right;\">  C129</th><th style=\"text-align: right;\">  C130</th><th style=\"text-align: right;\">  C131</th><th style=\"text-align: right;\">  C132</th><th style=\"text-align: right;\">  C133</th><th style=\"text-align: right;\">  C134</th><th style=\"text-align: right;\">  C135</th><th style=\"text-align: right;\">  C136</th><th style=\"text-align: right;\">  C137</th><th style=\"text-align: right;\">  C138</th><th style=\"text-align: right;\">  C139</th><th style=\"text-align: right;\">  C140</th><th style=\"text-align: right;\">  C141</th><th style=\"text-align: right;\">  C142</th><th style=\"text-align: right;\">  C143</th><th style=\"text-align: right;\">  C144</th><th style=\"text-align: right;\">  C145</th><th style=\"text-align: right;\">  C146</th><th style=\"text-align: right;\">  C147</th><th style=\"text-align: right;\">  C148</th><th style=\"text-align: right;\">  C149</th><th style=\"text-align: right;\">  C150</th><th style=\"text-align: right;\">  C151</th><th style=\"text-align: right;\">  C152</th><th style=\"text-align: right;\">  C153</th><th style=\"text-align: right;\">  C154</th><th style=\"text-align: right;\">  C155</th><th style=\"text-align: right;\">  C156</th><th style=\"text-align: right;\">  C157</th><th style=\"text-align: right;\">  C158</th><th style=\"text-align: right;\">  C159</th><th style=\"text-align: right;\">  C160</th><th style=\"text-align: right;\">  C161</th><th style=\"text-align: right;\">  C162</th><th style=\"text-align: right;\">  C163</th><th style=\"text-align: right;\">  C164</th><th style=\"text-align: right;\">  C165</th><th style=\"text-align: right;\">  C166</th><th style=\"text-align: right;\">  C167</th><th style=\"text-align: right;\">  C168</th><th style=\"text-align: right;\">  C169</th><th style=\"text-align: right;\">  C170</th><th style=\"text-align: right;\">  C171</th><th style=\"text-align: right;\">  C172</th><th style=\"text-align: right;\">  C173</th><th style=\"text-align: right;\">  C174</th><th style=\"text-align: right;\">  C175</th><th style=\"text-align: right;\">  C176</th><th style=\"text-align: right;\">  C177</th><th style=\"text-align: right;\">  C178</th><th style=\"text-align: right;\">  C179</th><th style=\"text-align: right;\">  C180</th><th style=\"text-align: right;\">  C181</th><th style=\"text-align: right;\">  C182</th><th style=\"text-align: right;\">  C183</th><th style=\"text-align: right;\">  C184</th><th style=\"text-align: right;\">  C185</th><th style=\"text-align: right;\">  C186</th><th style=\"text-align: right;\">  C187</th><th style=\"text-align: right;\">  C188</th><th style=\"text-align: right;\">  C189</th><th style=\"text-align: right;\">  C190</th><th style=\"text-align: right;\">  C191</th><th style=\"text-align: right;\">  C192</th><th style=\"text-align: right;\">  C193</th><th style=\"text-align: right;\">  C194</th><th style=\"text-align: right;\">  C195</th><th style=\"text-align: right;\">  C196</th><th style=\"text-align: right;\">  C197</th><th style=\"text-align: right;\">  C198</th><th style=\"text-align: right;\">  C199</th><th style=\"text-align: right;\">  C200</th></tr>\n",
       "</thead>\n",
       "<tbody>\n",
       "<tr><td style=\"text-align: right;\">   0</td><td style=\"text-align: right;\">   0</td><td style=\"text-align: right;\">   0</td><td style=\"text-align: right;\">   0</td><td style=\"text-align: right;\">   0</td><td style=\"text-align: right;\">   0</td><td style=\"text-align: right;\">   0</td><td style=\"text-align: right;\">   0</td><td style=\"text-align: right;\">   0</td><td style=\"text-align: right;\">    0</td><td style=\"text-align: right;\">    0</td><td style=\"text-align: right;\">    0</td><td style=\"text-align: right;\">    0</td><td style=\"text-align: right;\">    0</td><td style=\"text-align: right;\">    0</td><td style=\"text-align: right;\">    0</td><td style=\"text-align: right;\">    0</td><td style=\"text-align: right;\">    0</td><td style=\"text-align: right;\">    0</td><td style=\"text-align: right;\">    0</td><td style=\"text-align: right;\">    0</td><td style=\"text-align: right;\">    0</td><td style=\"text-align: right;\">    0</td><td style=\"text-align: right;\">    0</td><td style=\"text-align: right;\">    0</td><td style=\"text-align: right;\">    0</td><td style=\"text-align: right;\">    0</td><td style=\"text-align: right;\">    0</td><td style=\"text-align: right;\">    0</td><td style=\"text-align: right;\">    0</td><td style=\"text-align: right;\">    0</td><td style=\"text-align: right;\">    0</td><td style=\"text-align: right;\">    0</td><td style=\"text-align: right;\">    0</td><td style=\"text-align: right;\">    0</td><td style=\"text-align: right;\">    0</td><td style=\"text-align: right;\">    0</td><td style=\"text-align: right;\">    0</td><td style=\"text-align: right;\">    0</td><td style=\"text-align: right;\">    0</td><td style=\"text-align: right;\">    0</td><td style=\"text-align: right;\">    0</td><td style=\"text-align: right;\">    0</td><td style=\"text-align: right;\">    0</td><td style=\"text-align: right;\">    0</td><td style=\"text-align: right;\">    0</td><td style=\"text-align: right;\">    0</td><td style=\"text-align: right;\">    0</td><td style=\"text-align: right;\">    0</td><td style=\"text-align: right;\">    0</td><td style=\"text-align: right;\">    0</td><td style=\"text-align: right;\">    0</td><td style=\"text-align: right;\">    0</td><td style=\"text-align: right;\">    0</td><td style=\"text-align: right;\">    0</td><td style=\"text-align: right;\">    0</td><td style=\"text-align: right;\">    0</td><td style=\"text-align: right;\">    0</td><td style=\"text-align: right;\">    0</td><td style=\"text-align: right;\">    0</td><td style=\"text-align: right;\">    0</td><td style=\"text-align: right;\">    0</td><td style=\"text-align: right;\">    0</td><td style=\"text-align: right;\">    0</td><td style=\"text-align: right;\">    0</td><td style=\"text-align: right;\">    0</td><td style=\"text-align: right;\">    0</td><td style=\"text-align: right;\">    0</td><td style=\"text-align: right;\">    0</td><td style=\"text-align: right;\">    0</td><td style=\"text-align: right;\">    0</td><td style=\"text-align: right;\">    0</td><td style=\"text-align: right;\">    0</td><td style=\"text-align: right;\">    0</td><td style=\"text-align: right;\">    0</td><td style=\"text-align: right;\">    0</td><td style=\"text-align: right;\">    0</td><td style=\"text-align: right;\">    0</td><td style=\"text-align: right;\">    0</td><td style=\"text-align: right;\">    0</td><td style=\"text-align: right;\">    0</td><td style=\"text-align: right;\">    0</td><td style=\"text-align: right;\">    0</td><td style=\"text-align: right;\">    0</td><td style=\"text-align: right;\">    0</td><td style=\"text-align: right;\">    0</td><td style=\"text-align: right;\">    0</td><td style=\"text-align: right;\">    0</td><td style=\"text-align: right;\">    0</td><td style=\"text-align: right;\">    0</td><td style=\"text-align: right;\">    0</td><td style=\"text-align: right;\">    0</td><td style=\"text-align: right;\">    0</td><td style=\"text-align: right;\">    0</td><td style=\"text-align: right;\">    0</td><td style=\"text-align: right;\">    0</td><td style=\"text-align: right;\">    0</td><td style=\"text-align: right;\">    0</td><td style=\"text-align: right;\">    0</td><td style=\"text-align: right;\">     0</td><td style=\"text-align: right;\">     0</td><td style=\"text-align: right;\">     0</td><td style=\"text-align: right;\">     0</td><td style=\"text-align: right;\">     0</td><td style=\"text-align: right;\">     0</td><td style=\"text-align: right;\">     0</td><td style=\"text-align: right;\">     0</td><td style=\"text-align: right;\">     0</td><td style=\"text-align: right;\">     0</td><td style=\"text-align: right;\">     0</td><td style=\"text-align: right;\">     0</td><td style=\"text-align: right;\">     0</td><td style=\"text-align: right;\">     0</td><td style=\"text-align: right;\">     0</td><td style=\"text-align: right;\">     0</td><td style=\"text-align: right;\">     0</td><td style=\"text-align: right;\">     0</td><td style=\"text-align: right;\">     0</td><td style=\"text-align: right;\">    25</td><td style=\"text-align: right;\">   105</td><td style=\"text-align: right;\">   105</td><td style=\"text-align: right;\">   105</td><td style=\"text-align: right;\">   123</td><td style=\"text-align: right;\">   253</td><td style=\"text-align: right;\">   253</td><td style=\"text-align: right;\">   253</td><td style=\"text-align: right;\">   253</td><td style=\"text-align: right;\">   255</td><td style=\"text-align: right;\">   253</td><td style=\"text-align: right;\">   156</td><td style=\"text-align: right;\">    55</td><td style=\"text-align: right;\">     0</td><td style=\"text-align: right;\">     0</td><td style=\"text-align: right;\">     0</td><td style=\"text-align: right;\">     0</td><td style=\"text-align: right;\">     0</td><td style=\"text-align: right;\">     0</td><td style=\"text-align: right;\">     0</td><td style=\"text-align: right;\">     0</td><td style=\"text-align: right;\">     0</td><td style=\"text-align: right;\">     0</td><td style=\"text-align: right;\">     0</td><td style=\"text-align: right;\">     0</td><td style=\"text-align: right;\">     0</td><td style=\"text-align: right;\">     0</td><td style=\"text-align: right;\">     0</td><td style=\"text-align: right;\">   183</td><td style=\"text-align: right;\">   252</td><td style=\"text-align: right;\">   252</td><td style=\"text-align: right;\">   252</td><td style=\"text-align: right;\">   252</td><td style=\"text-align: right;\">   252</td><td style=\"text-align: right;\">   252</td><td style=\"text-align: right;\">   252</td><td style=\"text-align: right;\">   252</td><td style=\"text-align: right;\">   253</td><td style=\"text-align: right;\">   252</td><td style=\"text-align: right;\">   252</td><td style=\"text-align: right;\">   231</td><td style=\"text-align: right;\">   164</td><td style=\"text-align: right;\">    18</td><td style=\"text-align: right;\">     0</td><td style=\"text-align: right;\">     0</td><td style=\"text-align: right;\">     0</td><td style=\"text-align: right;\">     0</td><td style=\"text-align: right;\">     0</td><td style=\"text-align: right;\">     0</td><td style=\"text-align: right;\">     0</td><td style=\"text-align: right;\">     0</td><td style=\"text-align: right;\">     0</td><td style=\"text-align: right;\">     0</td><td style=\"text-align: right;\">     0</td><td style=\"text-align: right;\">     0</td><td style=\"text-align: right;\">     0</td><td style=\"text-align: right;\">   208</td><td style=\"text-align: right;\">   252</td><td style=\"text-align: right;\">   252</td><td style=\"text-align: right;\">   252</td><td style=\"text-align: right;\">   252</td><td style=\"text-align: right;\">   252</td><td style=\"text-align: right;\">   252</td><td style=\"text-align: right;\">   252</td><td style=\"text-align: right;\">   252</td><td style=\"text-align: right;\">   253</td><td style=\"text-align: right;\">   252</td><td style=\"text-align: right;\">   252</td><td style=\"text-align: right;\">   252</td><td style=\"text-align: right;\">   252</td><td style=\"text-align: right;\">    74</td><td style=\"text-align: right;\">     0</td><td style=\"text-align: right;\">     0</td><td style=\"text-align: right;\">     0</td><td style=\"text-align: right;\">     0</td><td style=\"text-align: right;\">     0</td><td style=\"text-align: right;\">     0</td><td style=\"text-align: right;\">     0</td><td style=\"text-align: right;\">     0</td><td style=\"text-align: right;\">     0</td><td style=\"text-align: right;\">     0</td><td style=\"text-align: right;\">     0</td></tr>\n",
       "<tr><td style=\"text-align: right;\">   0</td><td style=\"text-align: right;\">   0</td><td style=\"text-align: right;\">   0</td><td style=\"text-align: right;\">   0</td><td style=\"text-align: right;\">   0</td><td style=\"text-align: right;\">   0</td><td style=\"text-align: right;\">   0</td><td style=\"text-align: right;\">   0</td><td style=\"text-align: right;\">   0</td><td style=\"text-align: right;\">    0</td><td style=\"text-align: right;\">    0</td><td style=\"text-align: right;\">    0</td><td style=\"text-align: right;\">    0</td><td style=\"text-align: right;\">    0</td><td style=\"text-align: right;\">    0</td><td style=\"text-align: right;\">    0</td><td style=\"text-align: right;\">    0</td><td style=\"text-align: right;\">    0</td><td style=\"text-align: right;\">    0</td><td style=\"text-align: right;\">    0</td><td style=\"text-align: right;\">    0</td><td style=\"text-align: right;\">    0</td><td style=\"text-align: right;\">    0</td><td style=\"text-align: right;\">    0</td><td style=\"text-align: right;\">    0</td><td style=\"text-align: right;\">    0</td><td style=\"text-align: right;\">    0</td><td style=\"text-align: right;\">    0</td><td style=\"text-align: right;\">    0</td><td style=\"text-align: right;\">    0</td><td style=\"text-align: right;\">    0</td><td style=\"text-align: right;\">    0</td><td style=\"text-align: right;\">    0</td><td style=\"text-align: right;\">    0</td><td style=\"text-align: right;\">    0</td><td style=\"text-align: right;\">    0</td><td style=\"text-align: right;\">    0</td><td style=\"text-align: right;\">    0</td><td style=\"text-align: right;\">    0</td><td style=\"text-align: right;\">    0</td><td style=\"text-align: right;\">    0</td><td style=\"text-align: right;\">    0</td><td style=\"text-align: right;\">    0</td><td style=\"text-align: right;\">    0</td><td style=\"text-align: right;\">    0</td><td style=\"text-align: right;\">    0</td><td style=\"text-align: right;\">    0</td><td style=\"text-align: right;\">    0</td><td style=\"text-align: right;\">    0</td><td style=\"text-align: right;\">    0</td><td style=\"text-align: right;\">    0</td><td style=\"text-align: right;\">    0</td><td style=\"text-align: right;\">    0</td><td style=\"text-align: right;\">    0</td><td style=\"text-align: right;\">    0</td><td style=\"text-align: right;\">    0</td><td style=\"text-align: right;\">    0</td><td style=\"text-align: right;\">    0</td><td style=\"text-align: right;\">    0</td><td style=\"text-align: right;\">    0</td><td style=\"text-align: right;\">    0</td><td style=\"text-align: right;\">    0</td><td style=\"text-align: right;\">    0</td><td style=\"text-align: right;\">    0</td><td style=\"text-align: right;\">    0</td><td style=\"text-align: right;\">    0</td><td style=\"text-align: right;\">    0</td><td style=\"text-align: right;\">    0</td><td style=\"text-align: right;\">    0</td><td style=\"text-align: right;\">    0</td><td style=\"text-align: right;\">    0</td><td style=\"text-align: right;\">    0</td><td style=\"text-align: right;\">    0</td><td style=\"text-align: right;\">    0</td><td style=\"text-align: right;\">    0</td><td style=\"text-align: right;\">    0</td><td style=\"text-align: right;\">    0</td><td style=\"text-align: right;\">    0</td><td style=\"text-align: right;\">    0</td><td style=\"text-align: right;\">    0</td><td style=\"text-align: right;\">    0</td><td style=\"text-align: right;\">    0</td><td style=\"text-align: right;\">    0</td><td style=\"text-align: right;\">    0</td><td style=\"text-align: right;\">    0</td><td style=\"text-align: right;\">    0</td><td style=\"text-align: right;\">    0</td><td style=\"text-align: right;\">    0</td><td style=\"text-align: right;\">    0</td><td style=\"text-align: right;\">    0</td><td style=\"text-align: right;\">    0</td><td style=\"text-align: right;\">    0</td><td style=\"text-align: right;\">    0</td><td style=\"text-align: right;\">    0</td><td style=\"text-align: right;\">    0</td><td style=\"text-align: right;\">    0</td><td style=\"text-align: right;\">    0</td><td style=\"text-align: right;\">    0</td><td style=\"text-align: right;\">    0</td><td style=\"text-align: right;\">     0</td><td style=\"text-align: right;\">     0</td><td style=\"text-align: right;\">     0</td><td style=\"text-align: right;\">     0</td><td style=\"text-align: right;\">     0</td><td style=\"text-align: right;\">     0</td><td style=\"text-align: right;\">     0</td><td style=\"text-align: right;\">     0</td><td style=\"text-align: right;\">     0</td><td style=\"text-align: right;\">     0</td><td style=\"text-align: right;\">     0</td><td style=\"text-align: right;\">     0</td><td style=\"text-align: right;\">     0</td><td style=\"text-align: right;\">     0</td><td style=\"text-align: right;\">     0</td><td style=\"text-align: right;\">     0</td><td style=\"text-align: right;\">     0</td><td style=\"text-align: right;\">     0</td><td style=\"text-align: right;\">     0</td><td style=\"text-align: right;\">     0</td><td style=\"text-align: right;\">     0</td><td style=\"text-align: right;\">     0</td><td style=\"text-align: right;\">     0</td><td style=\"text-align: right;\">     0</td><td style=\"text-align: right;\">    42</td><td style=\"text-align: right;\">   118</td><td style=\"text-align: right;\">   143</td><td style=\"text-align: right;\">   255</td><td style=\"text-align: right;\">   254</td><td style=\"text-align: right;\">   254</td><td style=\"text-align: right;\">   254</td><td style=\"text-align: right;\">   210</td><td style=\"text-align: right;\">   118</td><td style=\"text-align: right;\">    35</td><td style=\"text-align: right;\">     0</td><td style=\"text-align: right;\">     0</td><td style=\"text-align: right;\">     0</td><td style=\"text-align: right;\">     0</td><td style=\"text-align: right;\">     0</td><td style=\"text-align: right;\">     0</td><td style=\"text-align: right;\">     0</td><td style=\"text-align: right;\">     0</td><td style=\"text-align: right;\">     0</td><td style=\"text-align: right;\">     0</td><td style=\"text-align: right;\">     0</td><td style=\"text-align: right;\">     0</td><td style=\"text-align: right;\">     0</td><td style=\"text-align: right;\">     0</td><td style=\"text-align: right;\">     0</td><td style=\"text-align: right;\">     0</td><td style=\"text-align: right;\">     0</td><td style=\"text-align: right;\">   102</td><td style=\"text-align: right;\">   241</td><td style=\"text-align: right;\">   253</td><td style=\"text-align: right;\">   253</td><td style=\"text-align: right;\">   253</td><td style=\"text-align: right;\">   253</td><td style=\"text-align: right;\">   253</td><td style=\"text-align: right;\">   253</td><td style=\"text-align: right;\">   253</td><td style=\"text-align: right;\">   253</td><td style=\"text-align: right;\">   217</td><td style=\"text-align: right;\">    37</td><td style=\"text-align: right;\">     0</td><td style=\"text-align: right;\">     0</td><td style=\"text-align: right;\">     0</td><td style=\"text-align: right;\">     0</td><td style=\"text-align: right;\">     0</td><td style=\"text-align: right;\">     0</td><td style=\"text-align: right;\">     0</td><td style=\"text-align: right;\">     0</td><td style=\"text-align: right;\">     0</td><td style=\"text-align: right;\">     0</td><td style=\"text-align: right;\">     0</td><td style=\"text-align: right;\">     0</td><td style=\"text-align: right;\">     0</td><td style=\"text-align: right;\">     0</td><td style=\"text-align: right;\">     0</td><td style=\"text-align: right;\">     0</td><td style=\"text-align: right;\">    78</td><td style=\"text-align: right;\">   177</td><td style=\"text-align: right;\">   239</td><td style=\"text-align: right;\">   253</td><td style=\"text-align: right;\">   253</td><td style=\"text-align: right;\">   210</td><td style=\"text-align: right;\">   177</td><td style=\"text-align: right;\">   208</td><td style=\"text-align: right;\">   253</td><td style=\"text-align: right;\">   253</td><td style=\"text-align: right;\">   253</td><td style=\"text-align: right;\">   136</td><td style=\"text-align: right;\">     0</td><td style=\"text-align: right;\">     0</td><td style=\"text-align: right;\">     0</td><td style=\"text-align: right;\">     0</td><td style=\"text-align: right;\">     0</td><td style=\"text-align: right;\">     0</td><td style=\"text-align: right;\">     0</td><td style=\"text-align: right;\">     0</td><td style=\"text-align: right;\">     0</td><td style=\"text-align: right;\">     0</td></tr>\n",
       "<tr><td style=\"text-align: right;\">   0</td><td style=\"text-align: right;\">   0</td><td style=\"text-align: right;\">   0</td><td style=\"text-align: right;\">   0</td><td style=\"text-align: right;\">   0</td><td style=\"text-align: right;\">   0</td><td style=\"text-align: right;\">   0</td><td style=\"text-align: right;\">   0</td><td style=\"text-align: right;\">   0</td><td style=\"text-align: right;\">    0</td><td style=\"text-align: right;\">    0</td><td style=\"text-align: right;\">    0</td><td style=\"text-align: right;\">    0</td><td style=\"text-align: right;\">    0</td><td style=\"text-align: right;\">    0</td><td style=\"text-align: right;\">    0</td><td style=\"text-align: right;\">    0</td><td style=\"text-align: right;\">    0</td><td style=\"text-align: right;\">    0</td><td style=\"text-align: right;\">    0</td><td style=\"text-align: right;\">    0</td><td style=\"text-align: right;\">    0</td><td style=\"text-align: right;\">    0</td><td style=\"text-align: right;\">    0</td><td style=\"text-align: right;\">    0</td><td style=\"text-align: right;\">    0</td><td style=\"text-align: right;\">    0</td><td style=\"text-align: right;\">    0</td><td style=\"text-align: right;\">    0</td><td style=\"text-align: right;\">    0</td><td style=\"text-align: right;\">    0</td><td style=\"text-align: right;\">    0</td><td style=\"text-align: right;\">    0</td><td style=\"text-align: right;\">    0</td><td style=\"text-align: right;\">    0</td><td style=\"text-align: right;\">    0</td><td style=\"text-align: right;\">    0</td><td style=\"text-align: right;\">    0</td><td style=\"text-align: right;\">    0</td><td style=\"text-align: right;\">    0</td><td style=\"text-align: right;\">    0</td><td style=\"text-align: right;\">    0</td><td style=\"text-align: right;\">    0</td><td style=\"text-align: right;\">    0</td><td style=\"text-align: right;\">    0</td><td style=\"text-align: right;\">    0</td><td style=\"text-align: right;\">    0</td><td style=\"text-align: right;\">    0</td><td style=\"text-align: right;\">    0</td><td style=\"text-align: right;\">    0</td><td style=\"text-align: right;\">    0</td><td style=\"text-align: right;\">    0</td><td style=\"text-align: right;\">    0</td><td style=\"text-align: right;\">    0</td><td style=\"text-align: right;\">    0</td><td style=\"text-align: right;\">    0</td><td style=\"text-align: right;\">    0</td><td style=\"text-align: right;\">    0</td><td style=\"text-align: right;\">    0</td><td style=\"text-align: right;\">    0</td><td style=\"text-align: right;\">    0</td><td style=\"text-align: right;\">    0</td><td style=\"text-align: right;\">    0</td><td style=\"text-align: right;\">    0</td><td style=\"text-align: right;\">    0</td><td style=\"text-align: right;\">    0</td><td style=\"text-align: right;\">    0</td><td style=\"text-align: right;\">    0</td><td style=\"text-align: right;\">    0</td><td style=\"text-align: right;\">    0</td><td style=\"text-align: right;\">    0</td><td style=\"text-align: right;\">    0</td><td style=\"text-align: right;\">    0</td><td style=\"text-align: right;\">    0</td><td style=\"text-align: right;\">    0</td><td style=\"text-align: right;\">    0</td><td style=\"text-align: right;\">    0</td><td style=\"text-align: right;\">    0</td><td style=\"text-align: right;\">    0</td><td style=\"text-align: right;\">    0</td><td style=\"text-align: right;\">    0</td><td style=\"text-align: right;\">    0</td><td style=\"text-align: right;\">    0</td><td style=\"text-align: right;\">    0</td><td style=\"text-align: right;\">    0</td><td style=\"text-align: right;\">    0</td><td style=\"text-align: right;\">    0</td><td style=\"text-align: right;\">    0</td><td style=\"text-align: right;\">    0</td><td style=\"text-align: right;\">    0</td><td style=\"text-align: right;\">    0</td><td style=\"text-align: right;\">    0</td><td style=\"text-align: right;\">    0</td><td style=\"text-align: right;\">    0</td><td style=\"text-align: right;\">    0</td><td style=\"text-align: right;\">    0</td><td style=\"text-align: right;\">    0</td><td style=\"text-align: right;\">    0</td><td style=\"text-align: right;\">    0</td><td style=\"text-align: right;\">     0</td><td style=\"text-align: right;\">     0</td><td style=\"text-align: right;\">     0</td><td style=\"text-align: right;\">     0</td><td style=\"text-align: right;\">     0</td><td style=\"text-align: right;\">     0</td><td style=\"text-align: right;\">     0</td><td style=\"text-align: right;\">     0</td><td style=\"text-align: right;\">     0</td><td style=\"text-align: right;\">     0</td><td style=\"text-align: right;\">     0</td><td style=\"text-align: right;\">     0</td><td style=\"text-align: right;\">     0</td><td style=\"text-align: right;\">     0</td><td style=\"text-align: right;\">     0</td><td style=\"text-align: right;\">     0</td><td style=\"text-align: right;\">     0</td><td style=\"text-align: right;\">     0</td><td style=\"text-align: right;\">     0</td><td style=\"text-align: right;\">     0</td><td style=\"text-align: right;\">     0</td><td style=\"text-align: right;\">     0</td><td style=\"text-align: right;\">     0</td><td style=\"text-align: right;\">     0</td><td style=\"text-align: right;\">     0</td><td style=\"text-align: right;\">     0</td><td style=\"text-align: right;\">     0</td><td style=\"text-align: right;\">     0</td><td style=\"text-align: right;\">     0</td><td style=\"text-align: right;\">     0</td><td style=\"text-align: right;\">     0</td><td style=\"text-align: right;\">     0</td><td style=\"text-align: right;\">     0</td><td style=\"text-align: right;\">     0</td><td style=\"text-align: right;\">     0</td><td style=\"text-align: right;\">     0</td><td style=\"text-align: right;\">     0</td><td style=\"text-align: right;\">     0</td><td style=\"text-align: right;\">     0</td><td style=\"text-align: right;\">     0</td><td style=\"text-align: right;\">     0</td><td style=\"text-align: right;\">     0</td><td style=\"text-align: right;\">     0</td><td style=\"text-align: right;\">     0</td><td style=\"text-align: right;\">     0</td><td style=\"text-align: right;\">     0</td><td style=\"text-align: right;\">     0</td><td style=\"text-align: right;\">     0</td><td style=\"text-align: right;\">     0</td><td style=\"text-align: right;\">     0</td><td style=\"text-align: right;\">     0</td><td style=\"text-align: right;\">     0</td><td style=\"text-align: right;\">     0</td><td style=\"text-align: right;\">     0</td><td style=\"text-align: right;\">     0</td><td style=\"text-align: right;\">     0</td><td style=\"text-align: right;\">     0</td><td style=\"text-align: right;\">     0</td><td style=\"text-align: right;\">     0</td><td style=\"text-align: right;\">     0</td><td style=\"text-align: right;\">     0</td><td style=\"text-align: right;\">     0</td><td style=\"text-align: right;\">     0</td><td style=\"text-align: right;\">     0</td><td style=\"text-align: right;\">     0</td><td style=\"text-align: right;\">     0</td><td style=\"text-align: right;\">     0</td><td style=\"text-align: right;\">     0</td><td style=\"text-align: right;\">     0</td><td style=\"text-align: right;\">     0</td><td style=\"text-align: right;\">     0</td><td style=\"text-align: right;\">     0</td><td style=\"text-align: right;\">     0</td><td style=\"text-align: right;\">     0</td><td style=\"text-align: right;\">     0</td><td style=\"text-align: right;\">     0</td><td style=\"text-align: right;\">     0</td><td style=\"text-align: right;\">     0</td><td style=\"text-align: right;\">     0</td><td style=\"text-align: right;\">     0</td><td style=\"text-align: right;\">     0</td><td style=\"text-align: right;\">     0</td><td style=\"text-align: right;\">     0</td><td style=\"text-align: right;\">     0</td><td style=\"text-align: right;\">     0</td><td style=\"text-align: right;\">     0</td><td style=\"text-align: right;\">     0</td><td style=\"text-align: right;\">     0</td><td style=\"text-align: right;\">     0</td><td style=\"text-align: right;\">     0</td><td style=\"text-align: right;\">     0</td><td style=\"text-align: right;\">     0</td><td style=\"text-align: right;\">     0</td><td style=\"text-align: right;\">     0</td><td style=\"text-align: right;\">     0</td><td style=\"text-align: right;\">     0</td><td style=\"text-align: right;\">     0</td><td style=\"text-align: right;\">     0</td><td style=\"text-align: right;\">     0</td><td style=\"text-align: right;\">     0</td><td style=\"text-align: right;\">     0</td></tr>\n",
       "</tbody>\n",
       "</table>"
      ]
     },
     "metadata": {},
     "output_type": "display_data"
    },
    {
     "data": {
      "text/plain": []
     },
     "metadata": {},
     "output_type": "display_data"
    },
    {
     "data": {
      "text/html": [
       "<table>\n",
       "<thead>\n",
       "<tr><th style=\"text-align: right;\">  C1</th><th style=\"text-align: right;\">  C2</th><th style=\"text-align: right;\">  C3</th><th style=\"text-align: right;\">  C4</th><th style=\"text-align: right;\">  C5</th><th style=\"text-align: right;\">  C6</th><th style=\"text-align: right;\">  C7</th><th style=\"text-align: right;\">  C8</th><th style=\"text-align: right;\">  C9</th><th style=\"text-align: right;\">  C10</th><th style=\"text-align: right;\">  C11</th><th style=\"text-align: right;\">  C12</th><th style=\"text-align: right;\">  C13</th><th style=\"text-align: right;\">  C14</th><th style=\"text-align: right;\">  C15</th><th style=\"text-align: right;\">  C16</th><th style=\"text-align: right;\">  C17</th><th style=\"text-align: right;\">  C18</th><th style=\"text-align: right;\">  C19</th><th style=\"text-align: right;\">  C20</th><th style=\"text-align: right;\">  C21</th><th style=\"text-align: right;\">  C22</th><th style=\"text-align: right;\">  C23</th><th style=\"text-align: right;\">  C24</th><th style=\"text-align: right;\">  C25</th><th style=\"text-align: right;\">  C26</th><th style=\"text-align: right;\">  C27</th><th style=\"text-align: right;\">  C28</th><th style=\"text-align: right;\">  C29</th><th style=\"text-align: right;\">  C30</th><th style=\"text-align: right;\">  C31</th><th style=\"text-align: right;\">  C32</th><th style=\"text-align: right;\">  C33</th><th style=\"text-align: right;\">  C34</th><th style=\"text-align: right;\">  C35</th><th style=\"text-align: right;\">  C36</th><th style=\"text-align: right;\">  C37</th><th style=\"text-align: right;\">  C38</th><th style=\"text-align: right;\">  C39</th><th style=\"text-align: right;\">  C40</th><th style=\"text-align: right;\">  C41</th><th style=\"text-align: right;\">  C42</th><th style=\"text-align: right;\">  C43</th><th style=\"text-align: right;\">  C44</th><th style=\"text-align: right;\">  C45</th><th style=\"text-align: right;\">  C46</th><th style=\"text-align: right;\">  C47</th><th style=\"text-align: right;\">  C48</th><th style=\"text-align: right;\">  C49</th><th style=\"text-align: right;\">  C50</th><th style=\"text-align: right;\">  C51</th><th style=\"text-align: right;\">  C52</th><th style=\"text-align: right;\">  C53</th><th style=\"text-align: right;\">  C54</th><th style=\"text-align: right;\">  C55</th><th style=\"text-align: right;\">  C56</th><th style=\"text-align: right;\">  C57</th><th style=\"text-align: right;\">  C58</th><th style=\"text-align: right;\">  C59</th><th style=\"text-align: right;\">  C60</th><th style=\"text-align: right;\">  C61</th><th style=\"text-align: right;\">  C62</th><th style=\"text-align: right;\">  C63</th><th style=\"text-align: right;\">  C64</th><th style=\"text-align: right;\">  C65</th><th style=\"text-align: right;\">  C66</th><th style=\"text-align: right;\">  C67</th><th style=\"text-align: right;\">  C68</th><th style=\"text-align: right;\">  C69</th><th style=\"text-align: right;\">  C70</th><th style=\"text-align: right;\">  C71</th><th style=\"text-align: right;\">  C72</th><th style=\"text-align: right;\">  C73</th><th style=\"text-align: right;\">  C74</th><th style=\"text-align: right;\">  C75</th><th style=\"text-align: right;\">  C76</th><th style=\"text-align: right;\">  C77</th><th style=\"text-align: right;\">  C78</th><th style=\"text-align: right;\">  C79</th><th style=\"text-align: right;\">  C80</th><th style=\"text-align: right;\">  C81</th><th style=\"text-align: right;\">  C82</th><th style=\"text-align: right;\">  C83</th><th style=\"text-align: right;\">  C84</th><th style=\"text-align: right;\">  C85</th><th style=\"text-align: right;\">  C86</th><th style=\"text-align: right;\">  C87</th><th style=\"text-align: right;\">  C88</th><th style=\"text-align: right;\">  C89</th><th style=\"text-align: right;\">  C90</th><th style=\"text-align: right;\">  C91</th><th style=\"text-align: right;\">  C92</th><th style=\"text-align: right;\">  C93</th><th style=\"text-align: right;\">  C94</th><th style=\"text-align: right;\">  C95</th><th style=\"text-align: right;\">  C96</th><th style=\"text-align: right;\">  C97</th><th style=\"text-align: right;\">  C98</th><th style=\"text-align: right;\">  C99</th><th style=\"text-align: right;\">  C100</th><th style=\"text-align: right;\">  C101</th><th style=\"text-align: right;\">  C102</th><th style=\"text-align: right;\">  C103</th><th style=\"text-align: right;\">  C104</th><th style=\"text-align: right;\">  C105</th><th style=\"text-align: right;\">  C106</th><th style=\"text-align: right;\">  C107</th><th style=\"text-align: right;\">  C108</th><th style=\"text-align: right;\">  C109</th><th style=\"text-align: right;\">  C110</th><th style=\"text-align: right;\">  C111</th><th style=\"text-align: right;\">  C112</th><th style=\"text-align: right;\">  C113</th><th style=\"text-align: right;\">  C114</th><th style=\"text-align: right;\">  C115</th><th style=\"text-align: right;\">  C116</th><th style=\"text-align: right;\">  C117</th><th style=\"text-align: right;\">  C118</th><th style=\"text-align: right;\">  C119</th><th style=\"text-align: right;\">  C120</th><th style=\"text-align: right;\">  C121</th><th style=\"text-align: right;\">  C122</th><th style=\"text-align: right;\">  C123</th><th style=\"text-align: right;\">  C124</th><th style=\"text-align: right;\">  C125</th><th style=\"text-align: right;\">  C126</th><th style=\"text-align: right;\">  C127</th><th style=\"text-align: right;\">  C128</th><th style=\"text-align: right;\">  C129</th><th style=\"text-align: right;\">  C130</th><th style=\"text-align: right;\">  C131</th><th style=\"text-align: right;\">  C132</th><th style=\"text-align: right;\">  C133</th><th style=\"text-align: right;\">  C134</th><th style=\"text-align: right;\">  C135</th><th style=\"text-align: right;\">  C136</th><th style=\"text-align: right;\">  C137</th><th style=\"text-align: right;\">  C138</th><th style=\"text-align: right;\">  C139</th><th style=\"text-align: right;\">  C140</th><th style=\"text-align: right;\">  C141</th><th style=\"text-align: right;\">  C142</th><th style=\"text-align: right;\">  C143</th><th style=\"text-align: right;\">  C144</th><th style=\"text-align: right;\">  C145</th><th style=\"text-align: right;\">  C146</th><th style=\"text-align: right;\">  C147</th><th style=\"text-align: right;\">  C148</th><th style=\"text-align: right;\">  C149</th><th style=\"text-align: right;\">  C150</th><th style=\"text-align: right;\">  C151</th><th style=\"text-align: right;\">  C152</th><th style=\"text-align: right;\">  C153</th><th style=\"text-align: right;\">  C154</th><th style=\"text-align: right;\">  C155</th><th style=\"text-align: right;\">  C156</th><th style=\"text-align: right;\">  C157</th><th style=\"text-align: right;\">  C158</th><th style=\"text-align: right;\">  C159</th><th style=\"text-align: right;\">  C160</th><th style=\"text-align: right;\">  C161</th><th style=\"text-align: right;\">  C162</th><th style=\"text-align: right;\">  C163</th><th style=\"text-align: right;\">  C164</th><th style=\"text-align: right;\">  C165</th><th style=\"text-align: right;\">  C166</th><th style=\"text-align: right;\">  C167</th><th style=\"text-align: right;\">  C168</th><th style=\"text-align: right;\">  C169</th><th style=\"text-align: right;\">  C170</th><th style=\"text-align: right;\">  C171</th><th style=\"text-align: right;\">  C172</th><th style=\"text-align: right;\">  C173</th><th style=\"text-align: right;\">  C174</th><th style=\"text-align: right;\">  C175</th><th style=\"text-align: right;\">  C176</th><th style=\"text-align: right;\">  C177</th><th style=\"text-align: right;\">  C178</th><th style=\"text-align: right;\">  C179</th><th style=\"text-align: right;\">  C180</th><th style=\"text-align: right;\">  C181</th><th style=\"text-align: right;\">  C182</th><th style=\"text-align: right;\">  C183</th><th style=\"text-align: right;\">  C184</th><th style=\"text-align: right;\">  C185</th><th style=\"text-align: right;\">  C186</th><th style=\"text-align: right;\">  C187</th><th style=\"text-align: right;\">  C188</th><th style=\"text-align: right;\">  C189</th><th style=\"text-align: right;\">  C190</th><th style=\"text-align: right;\">  C191</th><th style=\"text-align: right;\">  C192</th><th style=\"text-align: right;\">  C193</th><th style=\"text-align: right;\">  C194</th><th style=\"text-align: right;\">  C195</th><th style=\"text-align: right;\">  C196</th><th style=\"text-align: right;\">  C197</th><th style=\"text-align: right;\">  C198</th><th style=\"text-align: right;\">  C199</th><th style=\"text-align: right;\">  C200</th></tr>\n",
       "</thead>\n",
       "<tbody>\n",
       "<tr><td style=\"text-align: right;\">   0</td><td style=\"text-align: right;\">   0</td><td style=\"text-align: right;\">   0</td><td style=\"text-align: right;\">   0</td><td style=\"text-align: right;\">   0</td><td style=\"text-align: right;\">   0</td><td style=\"text-align: right;\">   0</td><td style=\"text-align: right;\">   0</td><td style=\"text-align: right;\">   0</td><td style=\"text-align: right;\">    0</td><td style=\"text-align: right;\">    0</td><td style=\"text-align: right;\">    0</td><td style=\"text-align: right;\">    0</td><td style=\"text-align: right;\">    0</td><td style=\"text-align: right;\">    0</td><td style=\"text-align: right;\">    0</td><td style=\"text-align: right;\">    0</td><td style=\"text-align: right;\">    0</td><td style=\"text-align: right;\">    0</td><td style=\"text-align: right;\">    0</td><td style=\"text-align: right;\">    0</td><td style=\"text-align: right;\">    0</td><td style=\"text-align: right;\">    0</td><td style=\"text-align: right;\">    0</td><td style=\"text-align: right;\">    0</td><td style=\"text-align: right;\">    0</td><td style=\"text-align: right;\">    0</td><td style=\"text-align: right;\">    0</td><td style=\"text-align: right;\">    0</td><td style=\"text-align: right;\">    0</td><td style=\"text-align: right;\">    0</td><td style=\"text-align: right;\">    0</td><td style=\"text-align: right;\">    0</td><td style=\"text-align: right;\">    0</td><td style=\"text-align: right;\">    0</td><td style=\"text-align: right;\">    0</td><td style=\"text-align: right;\">    0</td><td style=\"text-align: right;\">    0</td><td style=\"text-align: right;\">    0</td><td style=\"text-align: right;\">    0</td><td style=\"text-align: right;\">    0</td><td style=\"text-align: right;\">    0</td><td style=\"text-align: right;\">    0</td><td style=\"text-align: right;\">    0</td><td style=\"text-align: right;\">    0</td><td style=\"text-align: right;\">    0</td><td style=\"text-align: right;\">    0</td><td style=\"text-align: right;\">    0</td><td style=\"text-align: right;\">    0</td><td style=\"text-align: right;\">    0</td><td style=\"text-align: right;\">    0</td><td style=\"text-align: right;\">    0</td><td style=\"text-align: right;\">    0</td><td style=\"text-align: right;\">    0</td><td style=\"text-align: right;\">    0</td><td style=\"text-align: right;\">    0</td><td style=\"text-align: right;\">    0</td><td style=\"text-align: right;\">    0</td><td style=\"text-align: right;\">    0</td><td style=\"text-align: right;\">    0</td><td style=\"text-align: right;\">    0</td><td style=\"text-align: right;\">    0</td><td style=\"text-align: right;\">    0</td><td style=\"text-align: right;\">    0</td><td style=\"text-align: right;\">    0</td><td style=\"text-align: right;\">    0</td><td style=\"text-align: right;\">    0</td><td style=\"text-align: right;\">    0</td><td style=\"text-align: right;\">    0</td><td style=\"text-align: right;\">    0</td><td style=\"text-align: right;\">    0</td><td style=\"text-align: right;\">    0</td><td style=\"text-align: right;\">    0</td><td style=\"text-align: right;\">    0</td><td style=\"text-align: right;\">    0</td><td style=\"text-align: right;\">    0</td><td style=\"text-align: right;\">    0</td><td style=\"text-align: right;\">    0</td><td style=\"text-align: right;\">    0</td><td style=\"text-align: right;\">    0</td><td style=\"text-align: right;\">    0</td><td style=\"text-align: right;\">    0</td><td style=\"text-align: right;\">    0</td><td style=\"text-align: right;\">    0</td><td style=\"text-align: right;\">    0</td><td style=\"text-align: right;\">    0</td><td style=\"text-align: right;\">    0</td><td style=\"text-align: right;\">    0</td><td style=\"text-align: right;\">    0</td><td style=\"text-align: right;\">    0</td><td style=\"text-align: right;\">    0</td><td style=\"text-align: right;\">    0</td><td style=\"text-align: right;\">    0</td><td style=\"text-align: right;\">    0</td><td style=\"text-align: right;\">    0</td><td style=\"text-align: right;\">    0</td><td style=\"text-align: right;\">    0</td><td style=\"text-align: right;\">    0</td><td style=\"text-align: right;\">    0</td><td style=\"text-align: right;\">     0</td><td style=\"text-align: right;\">     0</td><td style=\"text-align: right;\">     0</td><td style=\"text-align: right;\">     0</td><td style=\"text-align: right;\">     0</td><td style=\"text-align: right;\">     0</td><td style=\"text-align: right;\">     0</td><td style=\"text-align: right;\">     0</td><td style=\"text-align: right;\">     0</td><td style=\"text-align: right;\">     0</td><td style=\"text-align: right;\">     0</td><td style=\"text-align: right;\">     0</td><td style=\"text-align: right;\">     0</td><td style=\"text-align: right;\">     0</td><td style=\"text-align: right;\">     0</td><td style=\"text-align: right;\">     0</td><td style=\"text-align: right;\">     0</td><td style=\"text-align: right;\">     0</td><td style=\"text-align: right;\">     0</td><td style=\"text-align: right;\">     0</td><td style=\"text-align: right;\">     0</td><td style=\"text-align: right;\">     0</td><td style=\"text-align: right;\">     0</td><td style=\"text-align: right;\">     7</td><td style=\"text-align: right;\">   210</td><td style=\"text-align: right;\">   253</td><td style=\"text-align: right;\">   205</td><td style=\"text-align: right;\">    78</td><td style=\"text-align: right;\">     0</td><td style=\"text-align: right;\">     0</td><td style=\"text-align: right;\">     0</td><td style=\"text-align: right;\">     0</td><td style=\"text-align: right;\">     0</td><td style=\"text-align: right;\">     0</td><td style=\"text-align: right;\">     0</td><td style=\"text-align: right;\">     0</td><td style=\"text-align: right;\">     0</td><td style=\"text-align: right;\">     0</td><td style=\"text-align: right;\">     0</td><td style=\"text-align: right;\">     0</td><td style=\"text-align: right;\">     0</td><td style=\"text-align: right;\">     0</td><td style=\"text-align: right;\">     0</td><td style=\"text-align: right;\">     0</td><td style=\"text-align: right;\">     0</td><td style=\"text-align: right;\">     0</td><td style=\"text-align: right;\">     0</td><td style=\"text-align: right;\">     0</td><td style=\"text-align: right;\">     0</td><td style=\"text-align: right;\">     0</td><td style=\"text-align: right;\">     0</td><td style=\"text-align: right;\">    89</td><td style=\"text-align: right;\">   252</td><td style=\"text-align: right;\">   252</td><td style=\"text-align: right;\">   252</td><td style=\"text-align: right;\">   229</td><td style=\"text-align: right;\">    49</td><td style=\"text-align: right;\">     0</td><td style=\"text-align: right;\">     0</td><td style=\"text-align: right;\">     0</td><td style=\"text-align: right;\">     0</td><td style=\"text-align: right;\">     0</td><td style=\"text-align: right;\">     0</td><td style=\"text-align: right;\">     0</td><td style=\"text-align: right;\">     0</td><td style=\"text-align: right;\">     0</td><td style=\"text-align: right;\">     0</td><td style=\"text-align: right;\">     0</td><td style=\"text-align: right;\">     0</td><td style=\"text-align: right;\">     0</td><td style=\"text-align: right;\">     0</td><td style=\"text-align: right;\">     0</td><td style=\"text-align: right;\">     0</td><td style=\"text-align: right;\">     0</td><td style=\"text-align: right;\">     0</td><td style=\"text-align: right;\">     0</td><td style=\"text-align: right;\">     0</td><td style=\"text-align: right;\">     0</td><td style=\"text-align: right;\">     0</td><td style=\"text-align: right;\">   213</td><td style=\"text-align: right;\">   252</td><td style=\"text-align: right;\">   252</td><td style=\"text-align: right;\">   252</td><td style=\"text-align: right;\">   253</td><td style=\"text-align: right;\">   212</td><td style=\"text-align: right;\">    17</td><td style=\"text-align: right;\">     0</td><td style=\"text-align: right;\">     0</td><td style=\"text-align: right;\">     0</td><td style=\"text-align: right;\">     0</td><td style=\"text-align: right;\">     0</td><td style=\"text-align: right;\">     0</td><td style=\"text-align: right;\">     0</td><td style=\"text-align: right;\">     0</td><td style=\"text-align: right;\">     0</td><td style=\"text-align: right;\">     0</td><td style=\"text-align: right;\">     0</td><td style=\"text-align: right;\">     0</td><td style=\"text-align: right;\">     0</td><td style=\"text-align: right;\">     0</td><td style=\"text-align: right;\">     0</td></tr>\n",
       "<tr><td style=\"text-align: right;\">   0</td><td style=\"text-align: right;\">   0</td><td style=\"text-align: right;\">   0</td><td style=\"text-align: right;\">   0</td><td style=\"text-align: right;\">   0</td><td style=\"text-align: right;\">   0</td><td style=\"text-align: right;\">   0</td><td style=\"text-align: right;\">   0</td><td style=\"text-align: right;\">   0</td><td style=\"text-align: right;\">    0</td><td style=\"text-align: right;\">    0</td><td style=\"text-align: right;\">    0</td><td style=\"text-align: right;\">    0</td><td style=\"text-align: right;\">    0</td><td style=\"text-align: right;\">    0</td><td style=\"text-align: right;\">    0</td><td style=\"text-align: right;\">    0</td><td style=\"text-align: right;\">    0</td><td style=\"text-align: right;\">    0</td><td style=\"text-align: right;\">    0</td><td style=\"text-align: right;\">    0</td><td style=\"text-align: right;\">    0</td><td style=\"text-align: right;\">    0</td><td style=\"text-align: right;\">    0</td><td style=\"text-align: right;\">    0</td><td style=\"text-align: right;\">    0</td><td style=\"text-align: right;\">    0</td><td style=\"text-align: right;\">    0</td><td style=\"text-align: right;\">    0</td><td style=\"text-align: right;\">    0</td><td style=\"text-align: right;\">    0</td><td style=\"text-align: right;\">    0</td><td style=\"text-align: right;\">    0</td><td style=\"text-align: right;\">    0</td><td style=\"text-align: right;\">    0</td><td style=\"text-align: right;\">    0</td><td style=\"text-align: right;\">    0</td><td style=\"text-align: right;\">    0</td><td style=\"text-align: right;\">    0</td><td style=\"text-align: right;\">    0</td><td style=\"text-align: right;\">    0</td><td style=\"text-align: right;\">    0</td><td style=\"text-align: right;\">    0</td><td style=\"text-align: right;\">    0</td><td style=\"text-align: right;\">    0</td><td style=\"text-align: right;\">    0</td><td style=\"text-align: right;\">    0</td><td style=\"text-align: right;\">    0</td><td style=\"text-align: right;\">    0</td><td style=\"text-align: right;\">    0</td><td style=\"text-align: right;\">    0</td><td style=\"text-align: right;\">    0</td><td style=\"text-align: right;\">    0</td><td style=\"text-align: right;\">    0</td><td style=\"text-align: right;\">    0</td><td style=\"text-align: right;\">    0</td><td style=\"text-align: right;\">    0</td><td style=\"text-align: right;\">    0</td><td style=\"text-align: right;\">    0</td><td style=\"text-align: right;\">    0</td><td style=\"text-align: right;\">    0</td><td style=\"text-align: right;\">    0</td><td style=\"text-align: right;\">    0</td><td style=\"text-align: right;\">    0</td><td style=\"text-align: right;\">    0</td><td style=\"text-align: right;\">    0</td><td style=\"text-align: right;\">    0</td><td style=\"text-align: right;\">    0</td><td style=\"text-align: right;\">    0</td><td style=\"text-align: right;\">    0</td><td style=\"text-align: right;\">    0</td><td style=\"text-align: right;\">    0</td><td style=\"text-align: right;\">    0</td><td style=\"text-align: right;\">    0</td><td style=\"text-align: right;\">    0</td><td style=\"text-align: right;\">    0</td><td style=\"text-align: right;\">    0</td><td style=\"text-align: right;\">    0</td><td style=\"text-align: right;\">    0</td><td style=\"text-align: right;\">    0</td><td style=\"text-align: right;\">    0</td><td style=\"text-align: right;\">    0</td><td style=\"text-align: right;\">    0</td><td style=\"text-align: right;\">    0</td><td style=\"text-align: right;\">    0</td><td style=\"text-align: right;\">    0</td><td style=\"text-align: right;\">    0</td><td style=\"text-align: right;\">    0</td><td style=\"text-align: right;\">    0</td><td style=\"text-align: right;\">    0</td><td style=\"text-align: right;\">    0</td><td style=\"text-align: right;\">    0</td><td style=\"text-align: right;\">    0</td><td style=\"text-align: right;\">    0</td><td style=\"text-align: right;\">    0</td><td style=\"text-align: right;\">    0</td><td style=\"text-align: right;\">    0</td><td style=\"text-align: right;\">    0</td><td style=\"text-align: right;\">    0</td><td style=\"text-align: right;\">     0</td><td style=\"text-align: right;\">     0</td><td style=\"text-align: right;\">     0</td><td style=\"text-align: right;\">     0</td><td style=\"text-align: right;\">     0</td><td style=\"text-align: right;\">     0</td><td style=\"text-align: right;\">     0</td><td style=\"text-align: right;\">     0</td><td style=\"text-align: right;\">     0</td><td style=\"text-align: right;\">     0</td><td style=\"text-align: right;\">     0</td><td style=\"text-align: right;\">     0</td><td style=\"text-align: right;\">     0</td><td style=\"text-align: right;\">     0</td><td style=\"text-align: right;\">     0</td><td style=\"text-align: right;\">     0</td><td style=\"text-align: right;\">     0</td><td style=\"text-align: right;\">     0</td><td style=\"text-align: right;\">     0</td><td style=\"text-align: right;\">     0</td><td style=\"text-align: right;\">     0</td><td style=\"text-align: right;\">     0</td><td style=\"text-align: right;\">     0</td><td style=\"text-align: right;\">     0</td><td style=\"text-align: right;\">     0</td><td style=\"text-align: right;\">    56</td><td style=\"text-align: right;\">    91</td><td style=\"text-align: right;\">   202</td><td style=\"text-align: right;\">   254</td><td style=\"text-align: right;\">   254</td><td style=\"text-align: right;\">   254</td><td style=\"text-align: right;\">   107</td><td style=\"text-align: right;\">     0</td><td style=\"text-align: right;\">     0</td><td style=\"text-align: right;\">     0</td><td style=\"text-align: right;\">     0</td><td style=\"text-align: right;\">     0</td><td style=\"text-align: right;\">     0</td><td style=\"text-align: right;\">     0</td><td style=\"text-align: right;\">     0</td><td style=\"text-align: right;\">     0</td><td style=\"text-align: right;\">     0</td><td style=\"text-align: right;\">     0</td><td style=\"text-align: right;\">     0</td><td style=\"text-align: right;\">     0</td><td style=\"text-align: right;\">     0</td><td style=\"text-align: right;\">     0</td><td style=\"text-align: right;\">     0</td><td style=\"text-align: right;\">     0</td><td style=\"text-align: right;\">     0</td><td style=\"text-align: right;\">     4</td><td style=\"text-align: right;\">    17</td><td style=\"text-align: right;\">    60</td><td style=\"text-align: right;\">   225</td><td style=\"text-align: right;\">   253</td><td style=\"text-align: right;\">   253</td><td style=\"text-align: right;\">   253</td><td style=\"text-align: right;\">   253</td><td style=\"text-align: right;\">   253</td><td style=\"text-align: right;\">   241</td><td style=\"text-align: right;\">    96</td><td style=\"text-align: right;\">     3</td><td style=\"text-align: right;\">     0</td><td style=\"text-align: right;\">     0</td><td style=\"text-align: right;\">     0</td><td style=\"text-align: right;\">     0</td><td style=\"text-align: right;\">     0</td><td style=\"text-align: right;\">     0</td><td style=\"text-align: right;\">     0</td><td style=\"text-align: right;\">     0</td><td style=\"text-align: right;\">     0</td><td style=\"text-align: right;\">     0</td><td style=\"text-align: right;\">     0</td><td style=\"text-align: right;\">     0</td><td style=\"text-align: right;\">     0</td><td style=\"text-align: right;\">     0</td><td style=\"text-align: right;\">     0</td><td style=\"text-align: right;\">    53</td><td style=\"text-align: right;\">   135</td><td style=\"text-align: right;\">   253</td><td style=\"text-align: right;\">   253</td><td style=\"text-align: right;\">   253</td><td style=\"text-align: right;\">   253</td><td style=\"text-align: right;\">   253</td><td style=\"text-align: right;\">   253</td><td style=\"text-align: right;\">   253</td><td style=\"text-align: right;\">   253</td><td style=\"text-align: right;\">   253</td><td style=\"text-align: right;\">   253</td><td style=\"text-align: right;\">    32</td><td style=\"text-align: right;\">     0</td><td style=\"text-align: right;\">     0</td><td style=\"text-align: right;\">     0</td><td style=\"text-align: right;\">     0</td><td style=\"text-align: right;\">     0</td><td style=\"text-align: right;\">     0</td><td style=\"text-align: right;\">     0</td><td style=\"text-align: right;\">     0</td><td style=\"text-align: right;\">     0</td><td style=\"text-align: right;\">     0</td><td style=\"text-align: right;\">     0</td></tr>\n",
       "<tr><td style=\"text-align: right;\">   0</td><td style=\"text-align: right;\">   0</td><td style=\"text-align: right;\">   0</td><td style=\"text-align: right;\">   0</td><td style=\"text-align: right;\">   0</td><td style=\"text-align: right;\">   0</td><td style=\"text-align: right;\">   0</td><td style=\"text-align: right;\">   0</td><td style=\"text-align: right;\">   0</td><td style=\"text-align: right;\">    0</td><td style=\"text-align: right;\">    0</td><td style=\"text-align: right;\">    0</td><td style=\"text-align: right;\">    0</td><td style=\"text-align: right;\">    0</td><td style=\"text-align: right;\">    0</td><td style=\"text-align: right;\">    0</td><td style=\"text-align: right;\">    0</td><td style=\"text-align: right;\">    0</td><td style=\"text-align: right;\">    0</td><td style=\"text-align: right;\">    0</td><td style=\"text-align: right;\">    0</td><td style=\"text-align: right;\">    0</td><td style=\"text-align: right;\">    0</td><td style=\"text-align: right;\">    0</td><td style=\"text-align: right;\">    0</td><td style=\"text-align: right;\">    0</td><td style=\"text-align: right;\">    0</td><td style=\"text-align: right;\">    0</td><td style=\"text-align: right;\">    0</td><td style=\"text-align: right;\">    0</td><td style=\"text-align: right;\">    0</td><td style=\"text-align: right;\">    0</td><td style=\"text-align: right;\">    0</td><td style=\"text-align: right;\">    0</td><td style=\"text-align: right;\">    0</td><td style=\"text-align: right;\">    0</td><td style=\"text-align: right;\">    0</td><td style=\"text-align: right;\">    0</td><td style=\"text-align: right;\">    0</td><td style=\"text-align: right;\">    0</td><td style=\"text-align: right;\">    0</td><td style=\"text-align: right;\">    0</td><td style=\"text-align: right;\">    0</td><td style=\"text-align: right;\">    0</td><td style=\"text-align: right;\">    0</td><td style=\"text-align: right;\">    0</td><td style=\"text-align: right;\">    0</td><td style=\"text-align: right;\">    0</td><td style=\"text-align: right;\">    0</td><td style=\"text-align: right;\">    0</td><td style=\"text-align: right;\">    0</td><td style=\"text-align: right;\">    0</td><td style=\"text-align: right;\">    0</td><td style=\"text-align: right;\">    0</td><td style=\"text-align: right;\">    0</td><td style=\"text-align: right;\">    0</td><td style=\"text-align: right;\">    0</td><td style=\"text-align: right;\">    0</td><td style=\"text-align: right;\">    0</td><td style=\"text-align: right;\">    0</td><td style=\"text-align: right;\">    0</td><td style=\"text-align: right;\">    0</td><td style=\"text-align: right;\">    0</td><td style=\"text-align: right;\">    0</td><td style=\"text-align: right;\">    0</td><td style=\"text-align: right;\">    0</td><td style=\"text-align: right;\">    0</td><td style=\"text-align: right;\">    0</td><td style=\"text-align: right;\">    0</td><td style=\"text-align: right;\">    0</td><td style=\"text-align: right;\">    0</td><td style=\"text-align: right;\">    0</td><td style=\"text-align: right;\">    0</td><td style=\"text-align: right;\">    0</td><td style=\"text-align: right;\">    0</td><td style=\"text-align: right;\">    0</td><td style=\"text-align: right;\">    0</td><td style=\"text-align: right;\">    0</td><td style=\"text-align: right;\">    0</td><td style=\"text-align: right;\">    0</td><td style=\"text-align: right;\">    0</td><td style=\"text-align: right;\">    0</td><td style=\"text-align: right;\">    0</td><td style=\"text-align: right;\">    0</td><td style=\"text-align: right;\">    0</td><td style=\"text-align: right;\">    0</td><td style=\"text-align: right;\">    0</td><td style=\"text-align: right;\">    0</td><td style=\"text-align: right;\">    0</td><td style=\"text-align: right;\">    0</td><td style=\"text-align: right;\">    0</td><td style=\"text-align: right;\">    0</td><td style=\"text-align: right;\">    0</td><td style=\"text-align: right;\">    0</td><td style=\"text-align: right;\">    0</td><td style=\"text-align: right;\">    0</td><td style=\"text-align: right;\">    0</td><td style=\"text-align: right;\">    0</td><td style=\"text-align: right;\">    0</td><td style=\"text-align: right;\">     0</td><td style=\"text-align: right;\">     0</td><td style=\"text-align: right;\">     0</td><td style=\"text-align: right;\">     0</td><td style=\"text-align: right;\">     0</td><td style=\"text-align: right;\">     0</td><td style=\"text-align: right;\">     0</td><td style=\"text-align: right;\">     0</td><td style=\"text-align: right;\">     0</td><td style=\"text-align: right;\">     0</td><td style=\"text-align: right;\">     0</td><td style=\"text-align: right;\">     0</td><td style=\"text-align: right;\">     0</td><td style=\"text-align: right;\">     0</td><td style=\"text-align: right;\">     0</td><td style=\"text-align: right;\">     0</td><td style=\"text-align: right;\">     0</td><td style=\"text-align: right;\">     0</td><td style=\"text-align: right;\">     0</td><td style=\"text-align: right;\">     0</td><td style=\"text-align: right;\">     0</td><td style=\"text-align: right;\">     0</td><td style=\"text-align: right;\">     0</td><td style=\"text-align: right;\">     0</td><td style=\"text-align: right;\">     0</td><td style=\"text-align: right;\">     0</td><td style=\"text-align: right;\">    10</td><td style=\"text-align: right;\">   216</td><td style=\"text-align: right;\">   163</td><td style=\"text-align: right;\">     0</td><td style=\"text-align: right;\">     0</td><td style=\"text-align: right;\">     0</td><td style=\"text-align: right;\">     0</td><td style=\"text-align: right;\">     0</td><td style=\"text-align: right;\">     0</td><td style=\"text-align: right;\">     0</td><td style=\"text-align: right;\">     0</td><td style=\"text-align: right;\">     0</td><td style=\"text-align: right;\">     0</td><td style=\"text-align: right;\">     0</td><td style=\"text-align: right;\">     0</td><td style=\"text-align: right;\">     0</td><td style=\"text-align: right;\">     0</td><td style=\"text-align: right;\">     0</td><td style=\"text-align: right;\">     0</td><td style=\"text-align: right;\">     0</td><td style=\"text-align: right;\">     0</td><td style=\"text-align: right;\">     0</td><td style=\"text-align: right;\">     0</td><td style=\"text-align: right;\">     0</td><td style=\"text-align: right;\">     0</td><td style=\"text-align: right;\">     0</td><td style=\"text-align: right;\">     0</td><td style=\"text-align: right;\">     0</td><td style=\"text-align: right;\">   174</td><td style=\"text-align: right;\">   254</td><td style=\"text-align: right;\">   162</td><td style=\"text-align: right;\">    40</td><td style=\"text-align: right;\">   148</td><td style=\"text-align: right;\">   185</td><td style=\"text-align: right;\">    40</td><td style=\"text-align: right;\">     0</td><td style=\"text-align: right;\">     0</td><td style=\"text-align: right;\">     0</td><td style=\"text-align: right;\">     0</td><td style=\"text-align: right;\">     0</td><td style=\"text-align: right;\">     0</td><td style=\"text-align: right;\">     0</td><td style=\"text-align: right;\">     0</td><td style=\"text-align: right;\">     0</td><td style=\"text-align: right;\">     0</td><td style=\"text-align: right;\">     0</td><td style=\"text-align: right;\">     0</td><td style=\"text-align: right;\">     0</td><td style=\"text-align: right;\">     0</td><td style=\"text-align: right;\">     0</td><td style=\"text-align: right;\">     0</td><td style=\"text-align: right;\">     0</td><td style=\"text-align: right;\">     0</td><td style=\"text-align: right;\">     0</td><td style=\"text-align: right;\">     2</td><td style=\"text-align: right;\">   127</td><td style=\"text-align: right;\">   252</td><td style=\"text-align: right;\">   181</td><td style=\"text-align: right;\">   133</td><td style=\"text-align: right;\">   233</td><td style=\"text-align: right;\">   254</td><td style=\"text-align: right;\">   254</td><td style=\"text-align: right;\">   226</td><td style=\"text-align: right;\">    39</td><td style=\"text-align: right;\">     0</td><td style=\"text-align: right;\">     0</td><td style=\"text-align: right;\">     0</td><td style=\"text-align: right;\">     0</td><td style=\"text-align: right;\">     0</td><td style=\"text-align: right;\">     0</td><td style=\"text-align: right;\">     0</td><td style=\"text-align: right;\">     0</td><td style=\"text-align: right;\">     0</td><td style=\"text-align: right;\">     0</td><td style=\"text-align: right;\">     0</td></tr>\n",
       "</tbody>\n",
       "</table>"
      ]
     },
     "metadata": {},
     "output_type": "display_data"
    },
    {
     "data": {
      "text/plain": []
     },
     "metadata": {},
     "output_type": "display_data"
    }
   ],
   "source": [
    "train, valid = train.split_frame([0.8])\n",
    "display(valid.head(3))\n",
    "display(train.head(3))"
   ]
  },
  {
   "cell_type": "markdown",
   "metadata": {},
   "source": [
    "## Ploting images"
   ]
  },
  {
   "cell_type": "code",
   "execution_count": 10,
   "metadata": {},
   "outputs": [
    {
     "data": {
      "image/png": "[encoded data removed]",
      "text/plain": [
       "<Figure size 432x288 with 1 Axes>"
      ]
     },
     "metadata": {},
     "output_type": "display_data"
    }
   ],
   "source": [
    "import numpy as np\n",
    "import matplotlib.pyplot as plt\n",
    "\n",
    "# converts to pandas dataframe (if pandas is installed)\n",
    "test_pd = test.as_data_frame()\n",
    "pixels = test_pd.iloc[:,list(range(0,28*28))]\n",
    "labels = test_pd.iloc[:,28*28]\n",
    "\n",
    "def draw_pixels(pixels, labels, num):\n",
    "    data = np.array(pixels.iloc[num], dtype='uint8')\n",
    "    data = data.reshape((28, 28))\n",
    "    plt.title('Label is {label}'.format(label=labels.iloc[num]))\n",
    "    plt.imshow(data, cmap='gray')\n",
    "    plt.show()\n",
    "    \n",
    "draw_pixels(pixels, labels, 0)"
   ]
  },
  {
   "cell_type": "markdown",
   "metadata": {},
   "source": [
    "## Finally Machine Learning\n",
    "\n",
    "We begin with they laziest way, throwing the data into a off the shelf algorithm. Nevertheless, the next exercise is a little bigger than before."
   ]
  },
  {
   "cell_type": "markdown",
   "metadata": {},
   "source": [
    "### Exercise (jessie)\n",
    "- Create a random forest model using H2O with default settings for everything. In python objects are created by a method call to the class object, which you can think of as a constructor. Moreover, omitted (named) parameters are automatically given default values. \n",
    "\n",
    "Comment:\n",
    "In general, the parameters of the \"constructor\" can be ordered or named, like so:\n",
    "\n",
    "obj = NameOfClass(param1 , param2, ... , named_param1=value1, named_param2=value2, ...)\n",
    "\n",
    "All the parameters are an ordered list, and all non-named parameters come first. Named parameters can be used without name if it is clear from order which parameter is being set.\n"
   ]
  },
  {
   "cell_type": "code",
   "execution_count": 11,
   "metadata": {},
   "outputs": [],
   "source": [
    "from h2o.estimators import H2ORandomForestEstimator\n",
    "rf = H2ORandomForestEstimator()"
   ]
  },
  {
   "cell_type": "markdown",
   "metadata": {},
   "source": [
    "### Exercise (alfred)\n",
    "- Train the model. Run help(rf.train) and read about the needed parameters. Use x,y,training_frame and validation_frame, but skip the rest.\n",
    "- To check that you have provided the right target column, inspect it manually with display or show to confirm that the values are digits 0-9.\n",
    "- While your model trains, go into FLOW and click Model -> List all models -> Click your model. Finally you can click refresh to see stats update continuously.\n",
    "- Take a glance at logloss, variable importance, hitratio (see below), and more. How do these differ between training set and validation set?"
   ]
  },
  {
   "cell_type": "code",
   "execution_count": 13,
   "metadata": {},
   "outputs": [
    {
     "name": "stdout",
     "output_type": "stream",
     "text": [
      "drf Model Build progress: |███████████████████████████████████████████████| 100%\n"
     ]
    }
   ],
   "source": [
    "x = list(range(28*28))\n",
    "y = 28*28\n",
    "rf.train(x,y,training_frame=train, validation_frame=valid)"
   ]
  },
  {
   "cell_type": "markdown",
   "metadata": {},
   "source": [
    "### Hitratio\n",
    "Hitratio is a bit hard to find info about;\n",
    "1-hitratio: for each image we let the model output 1 prediction it is the most confident about, if the prediction matches the true target, that image counts as a hit. 1-hitratio is then \\[ #images hit \\]/\\[#total images\\].\n",
    "\n",
    "If we would compute 2-hitratio, then we let the model take two guesses at each image, and if it got either of the guesses correct, then that image counts as a hit, and so on."
   ]
  },
  {
   "cell_type": "markdown",
   "metadata": {},
   "source": [
    "## Test performance"
   ]
  },
  {
   "cell_type": "markdown",
   "metadata": {},
   "source": [
    "### Exercise (rick)\n",
    "Using estimator.model_performance(df) lets you measure various performance metrics on a data frame df without going into the FLOW ui. Check the random forest's performance on train, validation and test sets."
   ]
  },
  {
   "cell_type": "code",
   "execution_count": 15,
   "metadata": {},
   "outputs": [
    {
     "name": "stdout",
     "output_type": "stream",
     "text": [
      "rf.model_performance(train)\n",
      "rf.model_performance(valid)\n",
      "rf.model_performance(test)\n"
     ]
    }
   ],
   "source": [
    "cheat('rick')"
   ]
  },
  {
   "cell_type": "code",
   "execution_count": null,
   "metadata": {},
   "outputs": [],
   "source": []
  },
  {
   "cell_type": "code",
   "execution_count": null,
   "metadata": {
    "scrolled": true
   },
   "outputs": [],
   "source": []
  },
  {
   "cell_type": "markdown",
   "metadata": {},
   "source": [
    "## Deep Learning\n",
    "I mean why not..."
   ]
  },
  {
   "cell_type": "markdown",
   "metadata": {},
   "source": [
    "### Exercise (fred)\n",
    "Repeat the procedure above but change H2ODeepLearningEstimator to H2ODeepLearningEstimator.\n",
    "\n",
    "- Which is better out of the box for this data set?\n",
    "- Which took longer to train?\n",
    "- How was the gap between validation and test errors?"
   ]
  },
  {
   "cell_type": "code",
   "execution_count": null,
   "metadata": {},
   "outputs": [],
   "source": []
  },
  {
   "cell_type": "code",
   "execution_count": null,
   "metadata": {},
   "outputs": [],
   "source": []
  },
  {
   "cell_type": "markdown",
   "metadata": {},
   "source": [
    "## Downloading POJO/MOJO\n",
    "H2O models can be downloaded in two Java compatible forms. "
   ]
  },
  {
   "cell_type": "markdown",
   "metadata": {},
   "source": [
    "## Goodbye H2O"
   ]
  },
  {
   "cell_type": "code",
   "execution_count": null,
   "metadata": {},
   "outputs": [],
   "source": [
    "h2o.cluster().shutdown()"
   ]
  },
  {
   "cell_type": "markdown",
   "metadata": {},
   "source": [
    "### Keras on Tensorflow\n",
    "So far we have not exploited at all the position of pixels in the plane. It is widely known that convolutional networks (CNNs) are a great way share weights among translated descriptors. This is a fancy way of saying that we can keep the number of variables (weights) much smaller by encoding assumptions about images in the structure of the model. For example, if we have a 5x5 filter that can detect horizontal edges in one part of the image, we have reason to believe it has the same ability applied in a different part of the image.\n",
    "\n",
    "TensorFlow is a Google library for graph computations (and neural networks as a special but important case). TensorFlow is popular also because it provides a general backend so that any or most neural networks can be implemented on top of it and it is possible to export models and run them in a JVM.\n",
    "\n",
    "Keras is a high level library that can use TensorFlow as a backend, but makes life much easier for the programmer.\n",
    "\n",
    "Hence we will use Keras-TF to train a CNN."
   ]
  },
  {
   "cell_type": "code",
   "execution_count": null,
   "metadata": {},
   "outputs": [],
   "source": [
    "import pandas as pd\n",
    "import numpy as np\n",
    "import matplotlib.pyplot as plt\n",
    "\n",
    "from keras.utils.np_utils import to_categorical\n",
    "from keras.models import Sequential\n",
    "from keras.layers import Dense, Dropout, Flatten, Conv2D, MaxPool2D\n",
    "from keras.optimizers import RMSprop\n",
    "from keras.callbacks import ReduceLROnPlateau"
   ]
  },
  {
   "cell_type": "markdown",
   "metadata": {},
   "source": [
    "### Loading data as pandas Dataframe\n",
    "Pandas dataframes are similar to H2O's, but run in a single python instance*. Compared to H2O's dataframes,\n",
    "pandas offers far more operations and seems to be more mature as of today. By default pandas will try\n",
    "to guess the schema of csv files by parsing the first row. As our data does not have a header, we have to specify that.\n",
    "\n",
    "*The DASK project provides dataframes distributed on a cluster which are backed by pandas dataframes."
   ]
  },
  {
   "cell_type": "code",
   "execution_count": null,
   "metadata": {},
   "outputs": [],
   "source": [
    "train = pd.read_csv('data/mnist/mnist.train.csv.gz', header=None)\n",
    "test = pd.read_csv('data/mnist/mnist.test.csv.gz', header=None)"
   ]
  },
  {
   "cell_type": "markdown",
   "metadata": {},
   "source": [
    "### Exercise (kate)\n",
    "- Create dataframes X_train and X_test which consist of all columns except the target column. Run help(pd.DataFrame.drop) and find out what arguments you need to provide.\n",
    "- Create Series Y_train and Y_test which consist of the target column only. Run help(pd.DataFrame.loc) and read the first example and the one on 'Set value for an entire column' to get a feel for slicing and indexing. However iloc is more convenient here. (There is also help on iloc but not as extensive.)\n",
    "- Delete train and test to save memory."
   ]
  },
  {
   "cell_type": "code",
   "execution_count": null,
   "metadata": {},
   "outputs": [],
   "source": []
  },
  {
   "cell_type": "markdown",
   "metadata": {},
   "source": [
    "### Rescaling\n",
    "Rescaling the input to be between 0 and 1 help the CNN to converge faster and better.\n",
    "Without this, learning size of weights and thereby gradients will be unbalanced across layers and we would need smaller learning rates, increasing the risk for numerical errors."
   ]
  },
  {
   "cell_type": "code",
   "execution_count": null,
   "metadata": {
    "scrolled": true
   },
   "outputs": [],
   "source": [
    "X_train = X_train/255\n",
    "X_test = X_test/255"
   ]
  },
  {
   "cell_type": "markdown",
   "metadata": {},
   "source": [
    "### Reshaping\n",
    "Some frameworks for training NNs, including Keras assume that input is a tensor of higher dimension than 2 (which would be matrix). The input tensor here should be num_examples x height x width x channels. Number of channels is 1 since we have gray-scale pictures, and the -1 means that numpy should figure out how many rows.\n",
    "Reshaping thus reshapes our n x 28^2 tensor to a n x 28 x 28 x 1 tensor.\n",
    "Finally we are using the 2D geometri of the data."
   ]
  },
  {
   "cell_type": "code",
   "execution_count": null,
   "metadata": {},
   "outputs": [],
   "source": [
    "X_train = X_train.values.reshape(-1,28,28,1)\n",
    "X_test = X_test.values.reshape(-1,28,28,1)"
   ]
  },
  {
   "cell_type": "markdown",
   "metadata": {},
   "source": [
    "### Exercise (charlie)\n",
    "Since X_train and X_test are now numpy arrays, lets take a look at them. We can use indexing and slicing on numpy objects in a similar way we have done on pandas dataframes, however this is easier and does not require loc and iloc.\n",
    "- Use the .shape attribute of numpy arrays to find out the shape of part of the tensor which hold the first image.\n",
    "- Remove the last dimension from this part of the tensor and confirm that the result has shape (28,28)."
   ]
  },
  {
   "cell_type": "code",
   "execution_count": null,
   "metadata": {},
   "outputs": [],
   "source": []
  },
  {
   "cell_type": "markdown",
   "metadata": {},
   "source": [
    "### Label encoding\n",
    "The targets (or labels as they can be called), have numerical values which seems to indicate that guessing a nearby number is better than guessing a far number. However we only care about guessing right or wrong so that is not the loss function we want. We will therefore apply one-hot encoding to the labels, representing for example the number 3 as \\[0,0,3,0,0,0,0,0,0,0\\]. This is the expected format of the loss function categorical crossentropy that we will use."
   ]
  },
  {
   "cell_type": "code",
   "execution_count": null,
   "metadata": {},
   "outputs": [],
   "source": [
    "Y_train = to_categorical(Y_train, num_classes = 10)\n",
    "Y_test = to_categorical(Y_test, num_classes = 10)"
   ]
  },
  {
   "cell_type": "markdown",
   "metadata": {},
   "source": [
    "### Neural network architecture\n",
    "\n",
    "An important part of training a neural network is to design an architecture. We will use a feed-forward\n",
    "architecture https://en.wikipedia.org/wiki/Feedforward_neural_network with convolutional layers as the main components. A classical approach is to intertwine convolutional layers https://en.wikipedia.org/wiki/Convolutional_neural_network with maxpooling layers and finish off with fully connected layers. Moreover, to prevent overfitting (which could happen very easily with the huge number of variables), dropout layers help a great deal.\n",
    "\n",
    "A part of the network architecture are so called activation functions which are typically stuck between two layers. Activation functions are simply applied on each value (neuron) before being fed into the next layer.\n",
    "\n",
    "A popular and powerful activation function is the rectified linear unit, or ReLU. https://en.wikipedia.org/wiki/Rectifier_(neural_networks)"
   ]
  },
  {
   "cell_type": "markdown",
   "metadata": {},
   "source": [
    "### Convolutional layer\n",
    "\n",
    "A convolutional layer has several filters which can be seen as small matrixes which determine how to average m-by-m pixels of the image into a single value. In Keras this m is called kernel_size and the number of filters is simply 'filters'. Each filter could learn different things, which is why we need more than 1 filter. For example a filter could detect 45 degree lines , or it could detect upper-right-corners.\n",
    "\n",
    "What is nice about this is that we don't need to tell the algorithm what filters (or features) are important.\n",
    "\n",
    "When several convolutional (or other layers) are stacked on top of eachother, higher level features can be learned such as arcs of different curvature, or even body parts or cats or dogs."
   ]
  },
  {
   "cell_type": "markdown",
   "metadata": {},
   "source": [
    "In this and the following exercises we will build a multi-layer architecture which works well for MNIST. Credit for the exact architecture and parameter values goes to Yassine Ghouzam, however the idea this type of structure, and many other architectures are well-known in the litterature. See for example https://arxiv.org/pdf/1404.7828.pdf"
   ]
  },
  {
   "cell_type": "markdown",
   "metadata": {},
   "source": [
    "### Exercise (bella)\n",
    "Add a first convolutional layer with 32 filters, averaging over 5-by-5 pixels, relu activation, correct input_shape and padding ='Same'. Run help(Conv2D) and the cell above to get some info.\n",
    "\n",
    "The setting for padding makes sure that the image doesn't shrink after convolution."
   ]
  },
  {
   "cell_type": "code",
   "execution_count": null,
   "metadata": {},
   "outputs": [],
   "source": [
    "# Feed-forward network\n",
    "model = Sequential()\n",
    "\n",
    "# __fill_in__ #"
   ]
  },
  {
   "cell_type": "markdown",
   "metadata": {},
   "source": [
    "### Rinse and repeat\n",
    "Add another identical layer, but do not include input_shape since this is not the first layer."
   ]
  },
  {
   "cell_type": "code",
   "execution_count": null,
   "metadata": {},
   "outputs": [],
   "source": [
    "## repeat"
   ]
  },
  {
   "cell_type": "markdown",
   "metadata": {},
   "source": [
    "### Maxpooling\n",
    "A maxpooling layer divides up the image into k-by-k boxes side by side. Each box gives one node in the layer and the value of that node is simply the maximum of the values in the k-by-k box."
   ]
  },
  {
   "cell_type": "markdown",
   "metadata": {},
   "source": [
    "### Exercise (george)\n",
    "Add a maxpooling layer with 2-by-2 size."
   ]
  },
  {
   "cell_type": "code",
   "execution_count": null,
   "metadata": {},
   "outputs": [],
   "source": []
  },
  {
   "cell_type": "markdown",
   "metadata": {},
   "source": [
    "### Dropout\n",
    "A Dropout layer randomly sets a fraction `rate` of input units to 0 at each update during training time. The random choice is made independently of both neuron and training example."
   ]
  },
  {
   "cell_type": "markdown",
   "metadata": {},
   "source": [
    "### Exercise (eric)\n",
    "Add a dropout layer with 25% rate."
   ]
  },
  {
   "cell_type": "code",
   "execution_count": null,
   "metadata": {},
   "outputs": [],
   "source": []
  },
  {
   "cell_type": "markdown",
   "metadata": {},
   "source": [
    "### Exercise\n",
    "- Take a moment to think about how the shape of the input tensor changes as it traverses each of the layers we have added so far.\n",
    "- Write down the sizes you think are correct.\n",
    "- When you are done, run the next cell.\n",
    "- Can you figure out why the first layer has 832 parameters and the next one has 25632? You might think the first one has 800 and the next one has 25600."
   ]
  },
  {
   "cell_type": "code",
   "execution_count": null,
   "metadata": {},
   "outputs": [],
   "source": []
  },
  {
   "cell_type": "markdown",
   "metadata": {},
   "source": [
    "### Exercise (gabby)\n",
    "\n",
    "- Add another two convolutional layers as before with 64 filters each and size 3-by-3.\n",
    "- Follow this up by a 2-by-2 maxpooling layer.\n",
    "- Another 25% dropout.\n",
    "- Write down what you think the shape of the output is after each layer.\n",
    "- Take a look at the model summary.\n",
    "\n",
    "This will amount to 4 new layers."
   ]
  },
  {
   "cell_type": "code",
   "execution_count": null,
   "metadata": {},
   "outputs": [],
   "source": []
  },
  {
   "cell_type": "markdown",
   "metadata": {},
   "source": [
    "### Dense layers\n",
    "Popular CNN+Maxpooling architectures usually finish off with a few so called dense layers, also called fully connected layers. Each neuron in a fully connected layer has an incomming connection from _every_ neuron in the previous layer. This makes the layer very general but also computationally heavier. The generality means that it could capture features with far reaching dependencies such as \"curved arc near top - pointy angle approximately N pixel below and M pixels left\" -- useful if you want to find the number two.\n",
    "\n",
    "The Dense layer assumes that the neurons (or equivalently the output) of the previous layer is flattened into a single line, i.e., the shape should be (NONE, d). (The NONE represents the number-of-images dimension which is not known beforehand.)\n",
    "\n",
    "Luckily there is a layer for reshaping the previous layer, the Flatten layer. You can create Flatten without any configuring parameters."
   ]
  },
  {
   "cell_type": "markdown",
   "metadata": {},
   "source": [
    "### Exercise (may)\n",
    "- Add a Flatten layer.\n",
    "- Add a Dense layer with 256 neurons and relu activation.\n",
    "- Add 50% Dropout.\n",
    "- Add another Dense layer with 10 units and \"softmax\" activation.\n",
    "- Rejoice, all layers are in place.\n",
    "\n",
    "Why does the last layer have 10 output units?"
   ]
  },
  {
   "cell_type": "code",
   "execution_count": null,
   "metadata": {},
   "outputs": [],
   "source": []
  },
  {
   "cell_type": "markdown",
   "metadata": {},
   "source": [
    "### Softmax explaination\n",
    "A softmax activation or softmax layer does two things. First it applies the exponential function to each output in the previous layer. Then it rescales each output so that the sum of all outputs is 1.\n",
    "When the sum of outputs is 1, we can think of the output vector as a probability distribution over a categorical variable. The name softmax comes from the fact that when the exponential function is applied, the maximal value becomes even more dominating so the output vector tends to be close, but not equal to, a vector with a single 1 and the rest of its elements 0.\n",
    "\n",
    "https://en.wikipedia.org/wiki/Softmax_function"
   ]
  },
  {
   "cell_type": "markdown",
   "metadata": {},
   "source": [
    "## Optimization and loss\n",
    "In machine learning the most popular framework for choosing a model from the set of \"allowed models\" (called hypothesis space), is to first pick some _loss function_, and then solving the optimization problem\n",
    "\n",
    "pick model that minimizes loss(model,training_data)\n",
    "\n",
    "In our case the loss will be categorical crossentropy loss. We explain first what the loss is for a single image example where the correct label is n.\n",
    "Let q_n be the probability our NN outputs for label n. The loss is then -log(q_n).\n",
    "Thus if the model predicts 0 probability of the correct label (this cannot in fact happen), then the loss is negative infinity. And if the model predicts 1 probability of the correct label, then the loss is 0 which is the best possible value (also doesnt happen).\n",
    "The loss for the entire training set is then just the total or average loss over all training examples. \n",
    "\n",
    "There are many different optimization algorithms for picking the model weights that give the minimal loss, but that is out of the scope of this notebook. We will just try RMSprop.\n",
    "\n",
    "Links for later reading:\n",
    "\n",
    "https://en.wikipedia.org/wiki/Cross_entropy\n",
    "\n",
    "https://en.wikipedia.org/wiki/Gradient_descent\n",
    "\n",
    "https://en.wikipedia.org/wiki/Stochastic_gradient_descent\n",
    "\n",
    "https://en.wikipedia.org/wiki/Stochastic_gradient_descent#RMSProp"
   ]
  },
  {
   "cell_type": "code",
   "execution_count": null,
   "metadata": {},
   "outputs": [],
   "source": [
    "optimizer = RMSprop(lr=0.001, rho=0.9, epsilon=1e-08, decay=0.0)\n",
    "model.compile(optimizer = optimizer , loss = \"categorical_crossentropy\", metrics=[\"accuracy\"])"
   ]
  },
  {
   "cell_type": "markdown",
   "metadata": {},
   "source": [
    "## Run training\n",
    "When training, i.e. optimization is run, the training set is traversed a number of times, each time is called an epoch. During each epoch groups of training examples are fed to the optimizer. Such a group is called a batch.\n",
    "When a batch is processed, the optimizer tries to slightly tweak the model parameters to get an improved model."
   ]
  },
  {
   "cell_type": "markdown",
   "metadata": {},
   "source": [
    "### Exercise (pat)\n",
    "- Use model.fit which is described here: https://keras.io/models/model/, or run help(model.fit).\n",
    "- Needed parameters are x,y,batch_size, epochs, validation_data. Recommended is also verbose=2.\n",
    "- Save the result of model.fit in a variable called history."
   ]
  },
  {
   "cell_type": "code",
   "execution_count": null,
   "metadata": {},
   "outputs": [],
   "source": [
    "# try also with epochs=2\n",
    "epochs = 1\n",
    "batch_size = 86\n",
    "\n",
    "# __fill_in__ #"
   ]
  },
  {
   "cell_type": "markdown",
   "metadata": {},
   "source": [
    "## The results"
   ]
  },
  {
   "cell_type": "code",
   "execution_count": null,
   "metadata": {},
   "outputs": [],
   "source": [
    "print(history.history)"
   ]
  },
  {
   "cell_type": "code",
   "execution_count": null,
   "metadata": {},
   "outputs": [],
   "source": [
    "# This only makes sense for at least 2 epochs\n",
    "\n",
    "# Plot the loss and accuracy curves for training and validation \n",
    "fig, ax = plt.subplots(2,1)\n",
    "ax[0].plot(history.history['loss'], color='b', label=\"Training loss\")\n",
    "ax[0].plot(history.history['val_loss'], color='r', label=\"validation loss\",axes =ax[0])\n",
    "legend = ax[0].legend(loc='best', shadow=True)\n",
    "\n",
    "ax[1].plot(history.history['acc'], color='b', label=\"Training accuracy\")\n",
    "ax[1].plot(history.history['val_acc'], color='r',label=\"Validation accuracy\")\n",
    "legend = ax[1].legend(loc='best', shadow=True)"
   ]
  }
 ],
 "metadata": {
  "kernelspec": {
   "display_name": "Python 3",
   "language": "python",
   "name": "python3"
  },
  "language_info": {
   "codemirror_mode": {
    "name": "ipython",
    "version": 3
   },
   "file_extension": ".py",
   "mimetype": "text/x-python",
   "name": "python",
   "nbconvert_exporter": "python",
   "pygments_lexer": "ipython3",
   "version": "3.6.5"
  }
 },
 "nbformat": 4,
 "nbformat_minor": 2
}
